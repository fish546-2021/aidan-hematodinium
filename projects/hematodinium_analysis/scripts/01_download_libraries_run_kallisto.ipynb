{
 "cells": [
  {
   "cell_type": "markdown",
   "metadata": {},
   "source": [
    "Aidan Coyle, afcoyle@uw.edu\n",
    "Roberts Lab, UW-SAFS\n",
    "2021-02-02\n",
    "\n",
    "After an initial analysis, realized that my libraries were incorrect. I had pooled day 0 and day 2 libraries together by temperature treatment, but day 0 hemolymph was extracted prior to any temperature treatments. Here are the changes between this analysis and the previous one:\n",
    "\n",
    "1. Both individual and pooled libraries are examined, rather than solely individual libraries\n",
    "2. A balanced sample design is utilized, where an equal number of libraries from each treatment will be examined\n",
    "3. Day 0 and Day 2 libraries will not be pooled together by temperature treament, as discussed above\n",
    "4. Day 2 and Day 17 libraries will be pooled by temperature treatment\n",
    "5. The day comparison (Day 0 vs 17) will be dropped (for now at least)\n",
    "6. When downloading transcripts, we will check IDs with checksums (failed to last time, meaning we must rebuild kallisto indices\n",
    "7. As much as possible will be done remotely on the lab's Roadrunner computer, rather than on a local machine. This means that commands will largely be copied and pasted from the command line, rather than ran directly in this Jupyter notebook.\n",
    "\n",
    "\n"
   ]
  },
  {
   "cell_type": "markdown",
   "metadata": {},
   "source": [
    "Library IDs are as follows. Asterisks label Day 0 crabs that were part of either the elevated or lowered treatment groups - since at Day 0, they had not yet been exposed to changes away from ambient temperature, they are included as part of the ambient treatment group:\n",
    "\n",
    "| Crab ID    | Library ID | Day| Temperature |\n",
    "|-------------|----------------|-------------|----------|\n",
    "| G        | 272             |   2          |   Elevated       |\n",
    "| H        | 294             |   2          |   Elevated       |\n",
    "| I        | 280             |   2          |   Elevated       |\n",
    "|pooled    | 380825          |   2          |   Elevated       |\n",
    "| G*       | 173*            |   0*         |   Ambient*       |\n",
    "| H*       | 72*             |   0*         |   Ambient*       |\n",
    "| I*       | 127*            |   0*         |   Ambient*       |\n",
    "| A        | 178             |   0          |   Ambient        |\n",
    "| A        | 359             |   2          |   Ambient        |\n",
    "| A        | 463             |   17         |   Ambient        |\n",
    "| B        | 118             |   0          |   Ambient        |\n",
    "| B        | 349             |   2          |   Ambient        |\n",
    "| B        | 481             |   17         |   Ambient        |\n",
    "| C        | 132             |   0          |   Ambient        |\n",
    "| C        | 334             |   2          |   Ambient        |\n",
    "| C        | 485             |   17         |   Ambient        |\n",
    "| E*       | 151*            |   0*         |   Ambient*       |\n",
    "| pooled   | 380820          |   2          |   Ambient        |\n",
    "| E        | 254             |   2          |   Lowered        |\n",
    "| E        | 445             |   17         |   Lowered        |\n",
    "| pooled   | 380823          |   2          |   Lowered        |\n"
   ]
  },
  {
   "cell_type": "markdown",
   "metadata": {},
   "source": [
    "Trimmed individual libraries were downloaded from Gannet, available [here](https://gannet.fish.washington.edu/Atumefaciens/20200318_cbai_RNAseq_fastp_trimming/), at 22:00 PST on 2021-02-02 \n",
    "\n",
    "Trimmed pooled libraries were downloaded from Gannet, available [here](https://gannet.fish.washington.edu/Atumefaciens/20200414_cbai_RNAseq_fastp_trimming/), at 24:00 PST on 2021-02-02\n"
   ]
  },
  {
   "cell_type": "markdown",
   "metadata": {},
   "source": [
    "Transcriptomes used are cbai_transcriptome_v3.0.fasta and cbai_transcriptome_v2.0.fasta, available [here](https://owl.fish.washington.edu/halfshell/genomic-databank/). Both transcriptomes have not been filtered to exclude hematodinium sequences. Transcriptome checksums are available [here](https://github.com/RobertsLab/resources/wiki/Genomic-Resources)\n",
    "\n",
    "Transcriptomes were downloaded at 01:00 PST on 2021-02-03\n",
    "\n",
    "Plan to create indices using both transcriptome v3.0 and v2.0"
   ]
  },
  {
   "cell_type": "markdown",
   "metadata": {},
   "source": [
    "## Download individual libraries"
   ]
  },
  {
   "cell_type": "code",
   "execution_count": null,
   "metadata": {},
   "outputs": [],
   "source": [
    "# Download all files in directory\n",
    "!wget --no-check-certificate --no-parent --recursive --reject \"index.html\" https://gannet.fish.washington.edu/Atumefaciens/20200318_cbai_RNAseq_f\n",
    "astp_trimming/"
   ]
  },
  {
   "cell_type": "code",
   "execution_count": null,
   "metadata": {},
   "outputs": [],
   "source": [
    "# Remove all files that aren't .fq.gz or .md5\n",
    "!rm *.html\n",
    "!rm *.zip\n",
    "!rm index.html*\n",
    "!rm *.json\n",
    "!rm *.sh\n",
    "!rm *.log\n",
    "!rm *.out\n",
    "!rm *.txt\n",
    "!rm -r multiqc*"
   ]
  },
  {
   "cell_type": "code",
   "execution_count": null,
   "metadata": {},
   "outputs": [],
   "source": [
    "# Move files from data/gannet.fish.washington.edu/Atumefaciens/20200318_cbai_RNAseq_fastp_trimming into data/libraries\n",
    "!cd ..\n",
    "!mv 20200318_cbai_RNAseq_fastp_trimming/* ../../libraries\n",
    "# Delete old directory\n",
    "!cd ../..\n",
    "!rm -r gannet.fish.washington.edu"
   ]
  },
  {
   "cell_type": "code",
   "execution_count": null,
   "metadata": {},
   "outputs": [],
   "source": [
    "# remove all uninfected libraries, as they won't be part of analysis\n",
    "!rm 113_R*\n",
    "!rm 221_R*\n",
    "!rm 222_R*\n",
    "!rm 425_R*\n",
    "!rm 427_R*\n",
    "!rm 73_R*"
   ]
  },
  {
   "cell_type": "code",
   "execution_count": null,
   "metadata": {},
   "outputs": [],
   "source": [
    "# Rename checksum file to clarify it is specific to individual libraries\n",
    "!mv trimmed_fastq_checksums.md5 trimmed_indivfastq_checksums.md5"
   ]
  },
  {
   "cell_type": "code",
   "execution_count": null,
   "metadata": {},
   "outputs": [],
   "source": [
    "# Check that files downloaded properly with checksums\n",
    "!md5sum -c trimmed_indivfastq_checksums.md5"
   ]
  },
  {
   "cell_type": "markdown",
   "metadata": {},
   "source": [
    "## Download pooled libraries\n"
   ]
  },
  {
   "cell_type": "code",
   "execution_count": null,
   "metadata": {},
   "outputs": [],
   "source": [
    "# Move up a directory to keep download simpler\n",
    "!cd .."
   ]
  },
  {
   "cell_type": "code",
   "execution_count": null,
   "metadata": {},
   "outputs": [],
   "source": [
    "# Download all files in directory\n",
    "!wget --no-check-certificate --no-parent --recursive --reject \"index.html\" https://gannet.fish.washington.edu/Atumefaciens/20200414_cbai_RNAseq_fastp_trimming/"
   ]
  },
  {
   "cell_type": "code",
   "execution_count": null,
   "metadata": {},
   "outputs": [],
   "source": [
    "# Move into our new file structure\n",
    "cd gannet.fish.washington.edu/Atumefaciens/20200414_cbai_RNAseq_fastp_trimming"
   ]
  },
  {
   "cell_type": "code",
   "execution_count": null,
   "metadata": {},
   "outputs": [],
   "source": [
    "# Remove all files that aren't .fq.gz or .md5\n",
    "!rm *.html\n",
    "!rm *.zip\n",
    "!rm index.html*\n",
    "!rm *.json\n",
    "!rm *.log\n",
    "!rm *.out\n",
    "!rm *.txt\n",
    "!rm -r multiqc*"
   ]
  },
  {
   "cell_type": "markdown",
   "metadata": {},
   "source": [
    "Interestingly, this library has 2 checksum files - 20200413_cbai_checkums.md5 (not typo - it is checkums) and trimmed_fastq_checksums.md5\n",
    "Ran diff, and it appears 20200... is a checksum file for the untrimmed fastq files, and can thus be safely removed.\n",
    "We will also rename the trimmed_fastq_checksums.md5 file to clarify it is specific to pooled libraries"
   ]
  },
  {
   "cell_type": "code",
   "execution_count": null,
   "metadata": {},
   "outputs": [],
   "source": [
    "!rm 20200413_cbai_checkums.md5\n",
    "!mv trimmed_fastq_checksums.md5 trimmed_pooledfastq_checksums.md5"
   ]
  },
  {
   "cell_type": "code",
   "execution_count": null,
   "metadata": {},
   "outputs": [],
   "source": [
    "# Remove all uninfected libraries, as they won't be part of analysis\n",
    "!rm 380820_*\n",
    "!rm 380822_*\n",
    "!rm 380824_*"
   ]
  },
  {
   "cell_type": "code",
   "execution_count": null,
   "metadata": {},
   "outputs": [],
   "source": [
    "# Check that files downloaded properly with checksums\n",
    "!md5sum -c trimmed_pooledfastq_checksums.md5"
   ]
  },
  {
   "cell_type": "code",
   "execution_count": null,
   "metadata": {},
   "outputs": [],
   "source": [
    "# Move files from data/gannet.fish.washington.edu/Atumefaciens/20200414_cbai_RNAseq_fastp_trimming into data/libraries\n",
    "!cd ..\n",
    "!mv 20200414_cbai_RNAseq_fastp_trimming/* ../../libraries\n",
    "# Delete old directory\n",
    "!cd ../..\n",
    "!rm -r gannet.fish.washington.edu\n",
    "cd libraries"
   ]
  },
  {
   "cell_type": "code",
   "execution_count": null,
   "metadata": {},
   "outputs": [],
   "source": [
    "# Merge libraries by lanes, removing un-merged files\n",
    "!cat 380821_S2_L001_R1_001.fastp-trim.202004143925.fq.gz 380821_S2_L002_R1_001.fastp-trim.202004144145.fq.gz > 380821_S2_R1_001.fastp-trim.fq.gz\n",
    "!cat 380821_S2_L001_R2_001.fastp-trim.202004143925.fq.gz 380821_S2_L002_R2_001.fastp-trim.202004144145.fq.gz > 380821_S2_R2_001.fastp-trim.fq.gz\n",
    "!rm 380821_S2_L00*\n",
    "!cat 380823_S4_L001_R1_001.fastp-trim.202004144852.fq.gz 380823_S4_L002_R1_001.fastp-trim.202004145106.fq.gz > 380823_S4_R1_001.fastp-trim.fq.gz\n",
    "!cat 380823_S4_L001_R2_001.fastp-trim.202004144852.fq.gz 380823_S4_L002_R2_001.fastp-trim.202004145106.fq.gz > 380823_S4_R2_001.fastp-trim.fq.gz\n",
    "!rm 380823_S4_L00*\n",
    "!cat 380825_S6_L001_R1_001.fastp-trim.202004145835.fq.gz 380825_S6_L002_R1_001.fastp-trim.202004140109.fq.gz > 380825_S6_R1_001.fastp-trim.fq.gz\n",
    "!cat 380825_S6_L001_R2_001.fastp-trim.202004145835.fq.gz 380825_S6_L002_R2_001.fastp-trim.202004140109.fq.gz > 380825_S6_R2_001.fastp-trim.fq.gz\n",
    "!rm 380825_S6_L00*"
   ]
  },
  {
   "cell_type": "markdown",
   "metadata": {},
   "source": [
    "## Download transcriptomes\n",
    "Again, downloading transcriptome v2.0 and v3.0. Both are unfiltered by taxonomic group and include genes from both C. bairdi and Hematodinium."
   ]
  },
  {
   "cell_type": "code",
   "execution_count": null,
   "metadata": {},
   "outputs": [],
   "source": [
    "!cd transcriptomes\n",
    "# Download transcriptome 2.0\n",
    "!curl -O -k https://owl.fish.washington.edu/halfshell/genomic-databank/cbai_transcriptome_v2.0.fasta\n",
    "# Download transcriptome 3.0\n",
    "!curl -O -k https://owl.fish.washington.edu/halfshell/genomic-databank/cbai_transcriptome_v3.0.fasta\n",
    "# Use checksums available at https://github.com/RobertsLab/resources/wiki/Genomic-Resources\n",
    "# Transcriptome 2.0 checksum: 01adbd54298495c147767b19ee5c0de9\n",
    "!\n",
    "# Matches\n",
    "# Transcriptome 3.0 checksum: 5516789cbad5fa9009c3566003557875\n",
    "!\n",
    "# Matches"
   ]
  },
  {
   "cell_type": "markdown",
   "metadata": {},
   "source": [
    "## Create an index for kallisto\n",
    "Warning: if running on local machine, could take days. Ran in much shorter time on Roadrunner."
   ]
  },
  {
   "cell_type": "code",
   "execution_count": null,
   "metadata": {},
   "outputs": [],
   "source": [
    "!cd ../../output/kallisto_indices\n",
    "# Index for transcriptome 2.0\n",
    "!kallisto index -i kallisto_bairdihemat_index_v2.0.idx ../../data/transcriptomes/cbai_transcriptome_v2.0.fasta\n",
    "# Index for transcriptome 3.0\n",
    "!kallisto index -i kallisto_bairdihemat_index_v3.0.idx ../../data/transcriptomes/cbai_transcriptome_v3.0.fasta"
   ]
  },
  {
   "cell_type": "markdown",
   "metadata": {},
   "source": [
    "## Run kallisto quantification for all libraries for Transcriptome 2.0, starting with individual libraries\n",
    "Order is same as table above, with all pooled libraries examined last"
   ]
  },
  {
   "cell_type": "code",
   "execution_count": null,
   "metadata": {},
   "outputs": [],
   "source": [
    "# Quantify ID 272\n",
    "!kallisto quant \\\n",
    "-i kallisto_bairdihemat_index_v2.0.idx \\\n",
    "-o ../kallisto_libraries_bairdihemat_transcriptomev2.0/id272 \\\n",
    "../../data/libraries/272_R1_001.fastp-trim.202003184536.fq.gz \\\n",
    "../../data/libraries/272_R2_001.fastp-trim.202003184536.fq.gz"
   ]
  },
  {
   "cell_type": "code",
   "execution_count": null,
   "metadata": {},
   "outputs": [],
   "source": [
    "# Quantify ID 294\n",
    "!kallisto quant \\\n",
    "-i kallisto_bairdihemat_index_v2.0.idx \\\n",
    "-o ../kallisto_libraries_bairdihemat_transcriptomev2.0/id294 \\\n",
    "../../data/libraries/294_R1_001.fastp-trim.202003180701.fq.gz \\\n",
    "../../data/libraries/294_R2_001.fastp-trim.202003180701.fq.gz"
   ]
  },
  {
   "cell_type": "code",
   "execution_count": null,
   "metadata": {},
   "outputs": [],
   "source": [
    "# Quantify ID 280\n",
    "!kallisto quant \\\n",
    "-i kallisto_bairdihemat_index_v2.0.idx \\\n",
    "-o ../kallisto_libraries_bairdihemat_transcriptomev2.0/id280 \\\n",
    "../../data/libraries/280_R1_001.fastp-trim.202003185124.fq.gz \\\n",
    "../../data/libraries/280_R2_001.fastp-trim.202003185124.fq.gz"
   ]
  },
  {
   "cell_type": "code",
   "execution_count": null,
   "metadata": {},
   "outputs": [],
   "source": [
    "# Quantify ID 173\n",
    "!kallisto quant \\\n",
    "-i kallisto_bairdihemat_index_v2.0.idx \\\n",
    "-o ../kallisto_libraries_bairdihemat_transcriptomev2.0/id173 \\\n",
    "../../data/libraries/173_R1_001.fastp-trim.202003181159.fq.gz \\\n",
    "../../data/libraries/173_R2_001.fastp-trim.202003181159.fq.gz"
   ]
  },
  {
   "cell_type": "code",
   "execution_count": null,
   "metadata": {},
   "outputs": [],
   "source": [
    "# Quantify ID 072\n",
    "!kallisto quant \\\n",
    "-i kallisto_bairdihemat_index_v2.0.idx \\\n",
    "-o ../kallisto_libraries_bairdihemat_transcriptomev2.0/id072 \\\n",
    "../../data/libraries/72_R1_001.fastp-trim.202003181709.fq.gz \\\n",
    "../../data/libraries/72_R2_001.fastp-trim.202003181709.fq.gz"
   ]
  },
  {
   "cell_type": "code",
   "execution_count": null,
   "metadata": {},
   "outputs": [],
   "source": [
    "# Quantify ID 127\n",
    "!kallisto quant \\\n",
    "-i kallisto_bairdihemat_index_v2.0.idx \\\n",
    "-o ../kallisto_libraries_bairdihemat_transcriptomev2.0/id127 \\\n",
    "../../data/libraries/127_R1_001.fastp-trim.202003185538.fq.gz \\\n",
    "../../data/libraries/127_R2_001.fastp-trim.202003185538.fq.gz"
   ]
  },
  {
   "cell_type": "code",
   "execution_count": null,
   "metadata": {},
   "outputs": [],
   "source": [
    "# Quantify ID 178\n",
    "!kallisto quant \\\n",
    "-i kallisto_bairdihemat_index_v2.0.idx \\\n",
    "-o ../kallisto_libraries_bairdihemat_transcriptomev2.0/id178 \\\n",
    "../../data/libraries/178_R1_001.fastp-trim.202003181815.fq.gz \\\n",
    "../../data/libraries/178_R2_001.fastp-trim.202003181815.fq.gz"
   ]
  },
  {
   "cell_type": "code",
   "execution_count": null,
   "metadata": {},
   "outputs": [],
   "source": [
    "# Quantify ID 359\n",
    "!kallisto quant \\\n",
    "-i kallisto_bairdihemat_index_v2.0.idx \\\n",
    "-o ../kallisto_libraries_bairdihemat_transcriptomev2.0/id359 \\\n",
    "../../data/libraries/359_R1_001.fastp-trim.202003182247.fq.gz \\\n",
    "../../data/libraries/359_R2_001.fastp-trim.202003182247.fq.gz"
   ]
  },
  {
   "cell_type": "code",
   "execution_count": null,
   "metadata": {},
   "outputs": [],
   "source": [
    "# Quantify ID 463\n",
    "!kallisto quant \\\n",
    "-i kallisto_bairdihemat_index_v2.0.idx \\\n",
    "-o ../kallisto_libraries_bairdihemat_transcriptomev2.0/id463 \\\n",
    "../../data/libraries/463_R1_001.fastp-trim.202003185732.fq.gz \\\n",
    "../../data/libraries/463_R2_001.fastp-trim.202003185732.fq.gz"
   ]
  },
  {
   "cell_type": "code",
   "execution_count": null,
   "metadata": {},
   "outputs": [],
   "source": [
    "# Quantify ID 118\n",
    "!kallisto quant \\\n",
    "-i kallisto_bairdihemat_index_v2.0.idx \\\n",
    "-o ../kallisto_libraries_bairdihemat_transcriptomev2.0/id118 \\\n",
    "../../data/libraries/118_R1_001.fastp-trim.202003184931.fq.gz \\\n",
    "../../data/libraries/118_R2_001.fastp-trim.202003184931.fq.gz"
   ]
  },
  {
   "cell_type": "code",
   "execution_count": null,
   "metadata": {},
   "outputs": [],
   "source": [
    "# Quantify ID 349\n",
    "# Realized at this point I should be writing out std error - started here\n",
    "!kallisto quant \\\n",
    "-i kallisto_bairdihemat_index_v2.0.idx \\\n",
    "-o ../kallisto_libraries_bairdihemat_transcriptomev2.0/id349 \\\n",
    "../../data/libraries/349_R1_001.fastp-trim.202003181609.fq.gz \\\n",
    "../../data/libraries/349_R2_001.fastp-trim.202003181609.fq.gz \\\n",
    "2> ../kallisto_libraries_bairdihemat_transcriptomev2.0/std_errortracking.txt"
   ]
  },
  {
   "cell_type": "code",
   "execution_count": null,
   "metadata": {},
   "outputs": [],
   "source": [
    "# Quantify ID 481\n",
    "# Started appending std error to file\n",
    "!kallisto quant \\\n",
    "-i kallisto_bairdihemat_index_v2.0.idx \\\n",
    "-o ../kallisto_libraries_bairdihemat_transcriptomev2.0/id481 \\\n",
    "../../data/libraries/481_R1_001.fastp-trim.202003180047.fq.gz \\\n",
    "../../data/libraries/481_R2_001.fastp-trim.202003180047.fq.gz \\\n",
    "2>> ../kallisto_libraries_bairdihemat_transcriptomev2.0/std_errortracking.txt"
   ]
  },
  {
   "cell_type": "code",
   "execution_count": null,
   "metadata": {},
   "outputs": [],
   "source": [
    "# Quantify ID 132\n",
    "!kallisto quant \\\n",
    "-i kallisto_bairdihemat_index_v2.0.idx \\\n",
    "-o ../kallisto_libraries_bairdihemat_transcriptomev2.0/id132 \\\n",
    "../../data/libraries/132_R1_001.fastp-trim.202003180140.fq.gz \\\n",
    "../../data/libraries/132_R2_001.fastp-trim.202003180140.fq.gz \\\n",
    "2>> ../kallisto_libraries_bairdihemat_transcriptomev2.0/std_errortracking.txt"
   ]
  },
  {
   "cell_type": "code",
   "execution_count": null,
   "metadata": {},
   "outputs": [],
   "source": [
    "# Quantify ID 334\n",
    "!kallisto quant \\\n",
    "-i kallisto_bairdihemat_index_v2.0.idx \\\n",
    "-o ../kallisto_libraries_bairdihemat_transcriptomev2.0/id334 \\\n",
    "../../data/libraries/334_R1_001.fastp-trim.202003181149.fq.gz \\\n",
    "../../data/libraries/334_R2_001.fastp-trim.202003181149.fq.gz \\\n",
    "2>> ../kallisto_libraries_bairdihemat_transcriptomev2.0/std_errortracking.txt"
   ]
  },
  {
   "cell_type": "code",
   "execution_count": null,
   "metadata": {},
   "outputs": [],
   "source": [
    "# Quantify ID 485\n",
    "!kallisto quant \\\n",
    "-i kallisto_bairdihemat_index_v2.0.idx \\\n",
    "-o ../kallisto_libraries_bairdihemat_transcriptomev2.0/id485 \\\n",
    "../../data/libraries/485_R1_001.fastp-trim.202003181245.fq.gz \\\n",
    "../../data/libraries/485_R2_001.fastp-trim.202003181245.fq.gz \\\n",
    "2>> ../kallisto_libraries_bairdihemat_transcriptomev2.0/std_errortracking.txt"
   ]
  },
  {
   "cell_type": "code",
   "execution_count": null,
   "metadata": {},
   "outputs": [],
   "source": [
    "# Quantify ID 151\n",
    "!kallisto quant \\\n",
    "-i kallisto_bairdihemat_index_v2.0.idx \\\n",
    "-o ../kallisto_libraries_bairdihemat_transcriptomev2.0/id151 \\\n",
    "../../data/libraries/151_R1_001.fastp-trim.202003180619.fq.gz \\\n",
    "../../data/libraries/151_R2_001.fastp-trim.202003180619.fq.gz \\\n",
    "2>> ../kallisto_libraries_bairdihemat_transcriptomev2.0/std_errortracking.txt"
   ]
  },
  {
   "cell_type": "code",
   "execution_count": null,
   "metadata": {},
   "outputs": [],
   "source": [
    "# Quantify ID 254\n",
    "!kallisto quant \\\n",
    "-i kallisto_bairdihemat_index_v2.0.idx \\\n",
    "-o ../kallisto_libraries_bairdihemat_transcriptomev2.0/id254 \\\n",
    "../../data/libraries/254_R1_001.fastp-trim.202003184228.fq.gz \\\n",
    "../../data/libraries/254_R2_001.fastp-trim.202003184228.fq.gz \\\n",
    "2>> ../kallisto_libraries_bairdihemat_transcriptomev2.0/std_errortracking.txt"
   ]
  },
  {
   "cell_type": "code",
   "execution_count": null,
   "metadata": {},
   "outputs": [],
   "source": [
    "# Quantify ID 445\n",
    "!kallisto quant \\\n",
    "-i kallisto_bairdihemat_index_v2.0.idx \\\n",
    "-o ../kallisto_libraries_bairdihemat_transcriptomev2.0/id445 \\\n",
    "../../data/libraries/445_R1_001.fastp-trim.202003185018.fq.gz \\\n",
    "../../data/libraries/445_R2_001.fastp-trim.202003185018.fq.gz \\\n",
    "2>> ../kallisto_libraries_bairdihemat_transcriptomev2.0/std_errortracking.txt"
   ]
  },
  {
   "cell_type": "markdown",
   "metadata": {},
   "source": [
    "Continue with building libraries for pooled samples"
   ]
  },
  {
   "cell_type": "code",
   "execution_count": null,
   "metadata": {},
   "outputs": [],
   "source": [
    "# Quantify 380821\n",
    "!kallisto quant \\\n",
    "-i kallisto_bairdihemat_index_v2.0.idx \\\n",
    "-o ../kallisto_libraries_bairdihemat_transcriptomev2.0/id380821 \\\n",
    "../../data/libraries/380821_S2_R1_001.fastp-trim.fq.gz \\\n",
    "../../data/libraries/380821_S2_R2_001.fastp-trim.fq.gz \\\n",
    "2>> ../kallisto_libraries_bairdihemat_transcriptomev2.0/std_errortracking.txt"
   ]
  },
  {
   "cell_type": "code",
   "execution_count": null,
   "metadata": {},
   "outputs": [],
   "source": [
    "# Quantify 380823\n",
    "!kallisto quant \\\n",
    "-i kallisto_bairdihemat_index_v2.0.idx \\\n",
    "-o ../kallisto_libraries_bairdihemat_transcriptomev2.0/id380823 \\\n",
    "../../data/libraries/380823_S4_R1_001.fastp-trim.fq.gz \\\n",
    "../../data/libraries/380823_S4_R2_001.fastp-trim.fq.gz \\\n",
    "2>> ../kallisto_libraries_bairdihemat_transcriptomev2.0/std_errortracking.txt"
   ]
  },
  {
   "cell_type": "code",
   "execution_count": null,
   "metadata": {},
   "outputs": [],
   "source": [
    "# Quantify 380825\n",
    "!kallisto quant \\\n",
    "-i kallisto_bairdihemat_index_v2.0.idx \\\n",
    "-o ../kallisto_libraries_bairdihemat_transcriptomev2.0/id380825 \\\n",
    "../../data/libraries/380825_S6_R1_001.fastp-trim.fq.gz \\\n",
    "../../data/libraries/380825_S6_R2_001.fastp-trim.fq.gz \\\n",
    "2>> ../kallisto_libraries_bairdihemat_transcriptomev2.0/std_errortracking.txt"
   ]
  },
  {
   "cell_type": "markdown",
   "metadata": {},
   "source": [
    "## Continue with kallisto counts for transcriptome 3.0\n",
    "Order has changed - starting with library where we began tracking std error. If 3.0 is clearly worse than 2.0, we will stop running kallisto on libraries with transcriptome 3.0"
   ]
  },
  {
   "cell_type": "code",
   "execution_count": null,
   "metadata": {},
   "outputs": [],
   "source": [
    "# Quantify ID 349\n",
    "!kallisto quant \\\n",
    "-i kallisto_bairdihemat_index_v3.0.idx \\\n",
    "-o ../kallisto_libraries_bairdihemat_transcriptomev3.0/id349 \\\n",
    "../../data/libraries/349_R1_001.fastp-trim.202003181609.fq.gz \\\n",
    "../../data/libraries/349_R2_001.fastp-trim.202003181609.fq.gz \\\n",
    "2> ../kallisto_libraries_bairdihemat_transcriptomev3.0/std_errortracking.txt"
   ]
  },
  {
   "cell_type": "code",
   "execution_count": null,
   "metadata": {},
   "outputs": [],
   "source": [
    "# Quantify ID 481\n",
    "!kallisto quant \\\n",
    "-i kallisto_bairdihemat_index_v3.0.idx \\\n",
    "-o ../kallisto_libraries_bairdihemat_transcriptomev3.0/id481 \\\n",
    "../../data/libraries/481_R1_001.fastp-trim.202003180047.fq.gz \\\n",
    "../../data/libraries/481_R2_001.fastp-trim.202003180047.fq.gz \\\n",
    "2>> ../kallisto_libraries_bairdihemat_transcriptomev3.0/std_errortracking.txt"
   ]
  },
  {
   "cell_type": "code",
   "execution_count": null,
   "metadata": {},
   "outputs": [],
   "source": [
    "# Quantify ID 132\n",
    "!kallisto quant \\\n",
    "-i kallisto_bairdihemat_index_v3.0.idx \\\n",
    "-o ../kallisto_libraries_bairdihemat_transcriptomev3.0/id132 \\\n",
    "../../data/libraries/132_R1_001.fastp-trim.202003180140.fq.gz \\\n",
    "../../data/libraries/132_R2_001.fastp-trim.202003180140.fq.gz \\\n",
    "2>> ../kallisto_libraries_bairdihemat_transcriptomev3.0/std_errortracking.txt"
   ]
  },
  {
   "cell_type": "code",
   "execution_count": null,
   "metadata": {},
   "outputs": [],
   "source": [
    "# Quantify ID 334\n",
    "!kallisto quant \\\n",
    "-i kallisto_bairdihemat_index_v3.0.idx \\\n",
    "-o ../kallisto_libraries_bairdihemat_transcriptomev3.0/id334 \\\n",
    "../../data/libraries/334_R1_001.fastp-trim.202003181149.fq.gz \\\n",
    "../../data/libraries/334_R2_001.fastp-trim.202003181149.fq.gz \\\n",
    "2>> ../kallisto_libraries_bairdihemat_transcriptomev3.0/std_errortracking.txt"
   ]
  },
  {
   "cell_type": "code",
   "execution_count": null,
   "metadata": {},
   "outputs": [],
   "source": [
    "# Quantify ID 485\n",
    "!kallisto quant \\\n",
    "-i kallisto_bairdihemat_index_v3.0.idx \\\n",
    "-o ../kallisto_libraries_bairdihemat_transcriptomev3.0/id485 \\\n",
    "../../data/libraries/485_R1_001.fastp-trim.202003181245.fq.gz \\\n",
    "../../data/libraries/485_R2_001.fastp-trim.202003181245.fq.gz \\\n",
    "2>> ../kallisto_libraries_bairdihemat_transcriptomev3.0/std_errortracking.txt"
   ]
  },
  {
   "cell_type": "code",
   "execution_count": null,
   "metadata": {},
   "outputs": [],
   "source": [
    "# Quantify ID 151\n",
    "!kallisto quant \\\n",
    "-i kallisto_bairdihemat_index_v3.0.idx \\\n",
    "-o ../kallisto_libraries_bairdihemat_transcriptomev3.0/id151 \\\n",
    "../../data/libraries/151_R1_001.fastp-trim.202003180619.fq.gz \\\n",
    "../../data/libraries/151_R2_001.fastp-trim.202003180619.fq.gz \\\n",
    "2>> ../kallisto_libraries_bairdihemat_transcriptomev3.0/std_errortracking.txt"
   ]
  },
  {
   "cell_type": "code",
   "execution_count": null,
   "metadata": {},
   "outputs": [],
   "source": [
    "# Quantify ID 254\n",
    "!kallisto quant \\\n",
    "-i kallisto_bairdihemat_index_v3.0.idx \\\n",
    "-o ../kallisto_libraries_bairdihemat_transcriptomev3.0/id254 \\\n",
    "../../data/libraries/254_R1_001.fastp-trim.202003184228.fq.gz \\\n",
    "../../data/libraries/254_R2_001.fastp-trim.202003184228.fq.gz \\\n",
    "2>> ../kallisto_libraries_bairdihemat_transcriptomev3.0/std_errortracking.txt"
   ]
  },
  {
   "cell_type": "code",
   "execution_count": null,
   "metadata": {},
   "outputs": [],
   "source": [
    "# Quantify ID 445\n",
    "!kallisto quant \\\n",
    "-i kallisto_bairdihemat_index_v3.0.idx \\\n",
    "-o ../kallisto_libraries_bairdihemat_transcriptomev3.0/id445 \\\n",
    "../../data/libraries/445_R1_001.fastp-trim.202003185018.fq.gz \\\n",
    "../../data/libraries/445_R2_001.fastp-trim.202003185018.fq.gz \\\n",
    "2>> ../kallisto_libraries_bairdihemat_transcriptomev3.0/std_errortracking.txt"
   ]
  },
  {
   "cell_type": "markdown",
   "metadata": {},
   "source": [
    "Continue with building libraries for pooled samples"
   ]
  },
  {
   "cell_type": "code",
   "execution_count": null,
   "metadata": {},
   "outputs": [],
   "source": [
    "# Quantify 380821\n",
    "!kallisto quant \\\n",
    "-i kallisto_bairdihemat_index_v3.0.idx \\\n",
    "-o ../kallisto_libraries_bairdihemat_transcriptomev3.0/id380821 \\\n",
    "../../data/libraries/380821_S2_R1_001.fastp-trim.fq.gz \\\n",
    "../../data/libraries/380821_S2_R2_001.fastp-trim.fq.gz \\\n",
    "2>> ../kallisto_libraries_bairdihemat_transcriptomev3.0/std_errortracking.txt"
   ]
  },
  {
   "cell_type": "code",
   "execution_count": null,
   "metadata": {},
   "outputs": [],
   "source": [
    "# Quantify 380823\n",
    "!kallisto quant \\\n",
    "-i kallisto_bairdihemat_index_v3.0.idx \\\n",
    "-o ../kallisto_libraries_bairdihemat_transcriptomev3.0/id380823 \\\n",
    "../../data/libraries/380823_S4_R1_001.fastp-trim.fq.gz \\\n",
    "../../data/libraries/380823_S4_R2_001.fastp-trim.fq.gz \\\n",
    "2>> ../kallisto_libraries_bairdihemat_transcriptomev3.0/std_errortracking.txt"
   ]
  },
  {
   "cell_type": "code",
   "execution_count": null,
   "metadata": {},
   "outputs": [],
   "source": [
    "# Quantify 380825\n",
    "!kallisto quant \\\n",
    "-i kallisto_bairdihemat_index_v3.0.idx \\\n",
    "-o ../kallisto_libraries_bairdihemat_transcriptomev3.0/id380825 \\\n",
    "../../data/libraries/380825_S6_R1_001.fastp-trim.fq.gz \\\n",
    "../../data/libraries/380825_S6_R2_001.fastp-trim.fq.gz \\\n",
    "2>> ../kallisto_libraries_bairdihemat_transcriptomev3.0/std_errortracking.txt"
   ]
  },
  {
   "cell_type": "code",
   "execution_count": null,
   "metadata": {},
   "outputs": [],
   "source": [
    "# Quantify ID 272\n",
    "!kallisto quant \\\n",
    "-i kallisto_bairdihemat_index_v3.0.idx \\\n",
    "-o ../kallisto_libraries_bairdihemat_transcriptomev3.0/id272 \\\n",
    "../../data/libraries/272_R1_001.fastp-trim.202003184536.fq.gz \\\n",
    "../../data/libraries/272_R2_001.fastp-trim.202003184536.fq.gz \\\n",
    "2>> ../kallisto_libraries_bairdihemat_transcriptomev3.0/std_errortracking.txt"
   ]
  },
  {
   "cell_type": "code",
   "execution_count": null,
   "metadata": {},
   "outputs": [],
   "source": [
    "# Quantify ID 294\n",
    "!kallisto quant \\\n",
    "-i kallisto_bairdihemat_index_v3.0.idx \\\n",
    "-o ../kallisto_libraries_bairdihemat_transcriptomev3.0/id294 \\\n",
    "../../data/libraries/294_R1_001.fastp-trim.202003180701.fq.gz \\\n",
    "../../data/libraries/294_R2_001.fastp-trim.202003180701.fq.gz \\\n",
    "2>> ../kallisto_libraries_bairdihemat_transcriptomev3.0/std_errortracking.txt"
   ]
  },
  {
   "cell_type": "code",
   "execution_count": null,
   "metadata": {},
   "outputs": [],
   "source": [
    "# Quantify ID 280\n",
    "!kallisto quant \\\n",
    "-i kallisto_bairdihemat_index_v3.0.idx \\\n",
    "-o ../kallisto_libraries_bairdihemat_transcriptomev3.0/id280 \\\n",
    "../../data/libraries/280_R1_001.fastp-trim.202003185124.fq.gz \\\n",
    "../../data/libraries/280_R2_001.fastp-trim.202003185124.fq.gz \\\n",
    "2>> ../kallisto_libraries_bairdihemat_transcriptomev3.0/std_errortracking.txt"
   ]
  },
  {
   "cell_type": "code",
   "execution_count": null,
   "metadata": {},
   "outputs": [],
   "source": [
    "# Quantify ID 173\n",
    "!kallisto quant \\\n",
    "-i kallisto_bairdihemat_index_v3.0.idx \\\n",
    "-o ../kallisto_libraries_bairdihemat_transcriptomev3.0/id173 \\\n",
    "../../data/libraries/173_R1_001.fastp-trim.202003181159.fq.gz \\\n",
    "../../data/libraries/173_R2_001.fastp-trim.202003181159.fq.gz \\\n",
    "2>> ../kallisto_libraries_bairdihemat_transcriptomev3.0/std_errortracking.txt"
   ]
  },
  {
   "cell_type": "code",
   "execution_count": null,
   "metadata": {},
   "outputs": [],
   "source": [
    "# Quantify ID 072\n",
    "!kallisto quant \\\n",
    "-i kallisto_bairdihemat_index_v3.0.idx \\\n",
    "-o ../kallisto_libraries_bairdihemat_transcriptomev3.0/id072 \\\n",
    "../../data/libraries/72_R1_001.fastp-trim.202003181709.fq.gz \\\n",
    "../../data/libraries/72_R2_001.fastp-trim.202003181709.fq.gz \\\n",
    "2>> ../kallisto_libraries_bairdihemat_transcriptomev3.0/std_errortracking.txt"
   ]
  },
  {
   "cell_type": "code",
   "execution_count": null,
   "metadata": {},
   "outputs": [],
   "source": [
    "# Quantify ID 127\n",
    "!kallisto quant \\\n",
    "-i kallisto_bairdihemat_index_v3.0.idx \\\n",
    "-o ../kallisto_libraries_bairdihemat_transcriptomev3.0/id127 \\\n",
    "../../data/libraries/127_R1_001.fastp-trim.202003185538.fq.gz \\\n",
    "../../data/libraries/127_R2_001.fastp-trim.202003185538.fq.gz \\\n",
    "2>> ../kallisto_libraries_bairdihemat_transcriptomev3.0/std_errortracking.txt"
   ]
  },
  {
   "cell_type": "code",
   "execution_count": null,
   "metadata": {},
   "outputs": [],
   "source": [
    "# Quantify ID 178\n",
    "!kallisto quant \\\n",
    "-i kallisto_bairdihemat_index_v3.0.idx \\\n",
    "-o ../kallisto_libraries_bairdihemat_transcriptomev3.0/id178 \\\n",
    "../../data/libraries/178_R1_001.fastp-trim.202003181815.fq.gz \\\n",
    "../../data/libraries/178_R2_001.fastp-trim.202003181815.fq.gz \\\n",
    "2>> ../kallisto_libraries_bairdihemat_transcriptomev3.0/std_errortracking.txt"
   ]
  },
  {
   "cell_type": "code",
   "execution_count": null,
   "metadata": {},
   "outputs": [],
   "source": [
    "# Quantify ID 359\n",
    "!kallisto quant \\\n",
    "-i kallisto_bairdihemat_index_v3.0.idx \\\n",
    "-o ../kallisto_libraries_bairdihemat_transcriptomev3.0/id359 \\\n",
    "../../data/libraries/359_R1_001.fastp-trim.202003182247.fq.gz \\\n",
    "../../data/libraries/359_R2_001.fastp-trim.202003182247.fq.gz \\\n",
    "2>> ../kallisto_libraries_bairdihemat_transcriptomev3.0/std_errortracking.txt"
   ]
  },
  {
   "cell_type": "code",
   "execution_count": null,
   "metadata": {},
   "outputs": [],
   "source": [
    "# Quantify ID 463\n",
    "!kallisto quant \\\n",
    "-i kallisto_bairdihemat_index_v3.0.idx \\\n",
    "-o ../kallisto_libraries_bairdihemat_transcriptomev3.0/id463 \\\n",
    "../../data/libraries/463_R1_001.fastp-trim.202003185732.fq.gz \\\n",
    "../../data/libraries/463_R2_001.fastp-trim.202003185732.fq.gz \\\n",
    "2>> ../kallisto_libraries_bairdihemat_transcriptomev3.0/std_errortracking.txt"
   ]
  },
  {
   "cell_type": "code",
   "execution_count": null,
   "metadata": {},
   "outputs": [],
   "source": [
    "# Quantify ID 118\n",
    "!kallisto quant \\\n",
    "-i kallisto_bairdihemat_index_v3.0.idx \\\n",
    "-o ../kallisto_libraries_bairdihemat_transcriptomev3.0/id118 \\\n",
    "../../data/libraries/118_R1_001.fastp-trim.202003184931.fq.gz \\\n",
    "../../data/libraries/118_R2_001.fastp-trim.202003184931.fq.gz \\\n",
    "2>> ../kallisto_libraries_bairdihemat_transcriptomev3.0/std_errortracking.txt"
   ]
  },
  {
   "cell_type": "markdown",
   "metadata": {},
   "source": [
    "## End of Kallisto quantification\n",
    "## Begin building transcript expression matrix. Using transcriptome 2.0\n",
    "Although 3.0 mapped more reads and had a longer fragment length for most libraries, those differences weren't too large. Therefore, we chose to use transcriptome 2.0, since it originated from all individual and pooled libraries, whereas 3.0 originated only from pooled libraries"
   ]
  },
  {
   "cell_type": "markdown",
   "metadata": {},
   "source": [
    "Now working on local machine. Build matrix to compare Day 0/2 ambient-temperature crabs vs. Day 2 elevated-temperature crabs"
   ]
  },
  {
   "cell_type": "code",
   "execution_count": 1,
   "metadata": {},
   "outputs": [
    {
     "name": "stdout",
     "output_type": "stream",
     "text": [
      "/mnt/c/Users/acoyl/Documents/GitHub/hemat_bairdii_transcriptome/scripts\n"
     ]
    }
   ],
   "source": [
    "!pwd"
   ]
  },
  {
   "cell_type": "code",
   "execution_count": null,
   "metadata": {},
   "outputs": [],
   "source": [
    "!../../../GradSchool/RobertsLab/Tools/Trinity/trinityrnaseq-v2.11.0/util/abundance_estimates_to_matrix.pl \\\n",
    "--est_method kallisto \\\n",
    "--gene_trans_map 'none' \\\n",
    "--out_prefix kallisto \\\n",
    "--name_sample_by_basedir \\\n",
    "../output/kallisto_libraries_bairdihemat_transcriptomev2.0/id178/abundance.tsv \\\n",
    "../output/kallisto_libraries_bairdihemat_transcriptomev2.0/id118/abundance.tsv \\\n",
    "../output/kallisto_libraries_bairdihemat_transcriptomev2.0/id132/abundance.tsv \\\n",
    "../output/kallisto_libraries_bairdihemat_transcriptomev2.0/id359/abundance.tsv \\\n",
    "../output/kallisto_libraries_bairdihemat_transcriptomev2.0/id349/abundance.tsv \\\n",
    "../output/kallisto_libraries_bairdihemat_transcriptomev2.0/id334/abundance.tsv \\\n",
    "../output/kallisto_libraries_bairdihemat_transcriptomev2.0/id272/abundance.tsv \\\n",
    "../output/kallisto_libraries_bairdihemat_transcriptomev2.0/id294/abundance.tsv \\\n",
    "../output/kallisto_libraries_bairdihemat_transcriptomev2.0/id280/abundance.tsv"
   ]
  },
  {
   "cell_type": "code",
   "execution_count": 5,
   "metadata": {},
   "outputs": [],
   "source": [
    "# Since the script outputs files in the working directory without an \n",
    "# option to change output dir, move all output over manually\n",
    "!mv kallisto.isoform.* ../output/kallisto_matrices/elev2_vs_amb02_indiv_only"
   ]
  },
  {
   "cell_type": "markdown",
   "metadata": {},
   "source": [
    "Build another matrix to compare all ambient-temperature crabs (including Day 0 elevated/decreased-treatment crabs, because Day 0 was prior to any treatments"
   ]
  },
  {
   "cell_type": "code",
   "execution_count": null,
   "metadata": {},
   "outputs": [],
   "source": [
    "!../../../GradSchool/RobertsLab/Tools/Trinity/trinityrnaseq-v2.11.0/util/abundance_estimates_to_matrix.pl \\\n",
    "--est_method kallisto \\\n",
    "--gene_trans_map 'none' \\\n",
    "--out_prefix kallisto \\\n",
    "--name_sample_by_basedir \\\n",
    "../output/kallisto_libraries_bairdihemat_transcriptomev2.0/id178/abundance.tsv \\\n",
    "../output/kallisto_libraries_bairdihemat_transcriptomev2.0/id359/abundance.tsv \\\n",
    "../output/kallisto_libraries_bairdihemat_transcriptomev2.0/id463/abundance.tsv \\\n",
    "../output/kallisto_libraries_bairdihemat_transcriptomev2.0/id118/abundance.tsv \\\n",
    "../output/kallisto_libraries_bairdihemat_transcriptomev2.0/id349/abundance.tsv \\\n",
    "../output/kallisto_libraries_bairdihemat_transcriptomev2.0/id481/abundance.tsv \\\n",
    "../output/kallisto_libraries_bairdihemat_transcriptomev2.0/id132/abundance.tsv \\\n",
    "../output/kallisto_libraries_bairdihemat_transcriptomev2.0/id334/abundance.tsv \\\n",
    "../output/kallisto_libraries_bairdihemat_transcriptomev2.0/id485/abundance.tsv \\\n",
    "../output/kallisto_libraries_bairdihemat_transcriptomev2.0/id151/abundance.tsv \\\n",
    "../output/kallisto_libraries_bairdihemat_transcriptomev2.0/id173/abundance.tsv \\\n",
    "../output/kallisto_libraries_bairdihemat_transcriptomev2.0/id072/abundance.tsv \\\n",
    "../output/kallisto_libraries_bairdihemat_transcriptomev2.0/id127/abundance.tsv \\\n",
    "../output/kallisto_libraries_bairdihemat_transcriptomev2.0/id380821/abundance.tsv \\\n",
    "../output/kallisto_libraries_bairdihemat_transcriptomev2.0/id272/abundance.tsv \\\n",
    "../output/kallisto_libraries_bairdihemat_transcriptomev2.0/id294/abundance.tsv \\\n",
    "../output/kallisto_libraries_bairdihemat_transcriptomev2.0/id280/abundance.tsv \\\n",
    "../output/kallisto_libraries_bairdihemat_transcriptomev2.0/id380825/abundance.tsv"
   ]
  },
  {
   "cell_type": "code",
   "execution_count": 8,
   "metadata": {},
   "outputs": [],
   "source": [
    "# Since the script outputs files in the working directory without an \n",
    "# option to change output dir, move all output over manually\n",
    "!mv kallisto.isoform.* ../output/kallisto_matrices/amb0217_elev0_low0_vs_elev2"
   ]
  },
  {
   "cell_type": "markdown",
   "metadata": {},
   "source": [
    "Build another matrix to compare infected individual Elevated libraries from Day 0 with individual Elevated libraries from Day 2. Reminder: Day 0 samples were taken when all crabs were held at ambient-temperature waters, and the same crabs were sampled on Day 0 and Day 2.\n",
    "\n",
    "Effectively, this compares the same infected crab prior to exposure to elevated temps and post-exposure."
   ]
  },
  {
   "cell_type": "code",
   "execution_count": null,
   "metadata": {},
   "outputs": [],
   "source": [
    "!../../../GradSchool/RobertsLab/Tools/Trinity/trinityrnaseq-v2.11.0/util/abundance_estimates_to_matrix.pl \\\n",
    "--est_method kallisto \\\n",
    "--gene_trans_map 'none' \\\n",
    "--out_prefix kallisto \\\n",
    "--name_sample_by_basedir \\\n",
    "../output/kallisto_libraries_bairdihemat_transcriptomev2.0/id173/abundance.tsv \\\n",
    "../output/kallisto_libraries_bairdihemat_transcriptomev2.0/id072/abundance.tsv \\\n",
    "../output/kallisto_libraries_bairdihemat_transcriptomev2.0/id127/abundance.tsv \\\n",
    "../output/kallisto_libraries_bairdihemat_transcriptomev2.0/id272/abundance.tsv \\\n",
    "../output/kallisto_libraries_bairdihemat_transcriptomev2.0/id294/abundance.tsv \\\n",
    "../output/kallisto_libraries_bairdihemat_transcriptomev2.0/id280/abundance.tsv"
   ]
  },
  {
   "cell_type": "code",
   "execution_count": 2,
   "metadata": {},
   "outputs": [],
   "source": [
    "# Since the script outputs files in the working directory without an \n",
    "# option to change output dir, move all output over manually\n",
    "!mv kallisto.isoform.* ../output/kallisto_matrices/elev0_vs_elev2_indiv/"
   ]
  },
  {
   "cell_type": "markdown",
   "metadata": {},
   "source": [
    "Next, we will build three separate matrices to compare ambient-temperature crab.\n",
    "\n",
    "1. Ambient Day 0 vs. Ambient Day 2 (indiv. libraries only)\n",
    "2. Ambient Day 0 vs. Ambient Day 17 (indiv. libraries only)\n",
    "3. Ambient Day 2 vs. Ambient Day 17 (indiv. libraries only)"
   ]
  },
  {
   "cell_type": "markdown",
   "metadata": {},
   "source": [
    "Ambient Day 0 vs. Ambient Day 2"
   ]
  },
  {
   "cell_type": "code",
   "execution_count": null,
   "metadata": {},
   "outputs": [],
   "source": [
    "!../../../GradSchool/RobertsLab/Tools/Trinity/trinityrnaseq-v2.11.0/util/abundance_estimates_to_matrix.pl \\\n",
    "--est_method kallisto \\\n",
    "--gene_trans_map 'none' \\\n",
    "--out_prefix kallisto \\\n",
    "--name_sample_by_basedir \\\n",
    "../output/kallisto_libraries_bairdihemat_transcriptomev2.0/id178/abundance.tsv \\\n",
    "../output/kallisto_libraries_bairdihemat_transcriptomev2.0/id118/abundance.tsv \\\n",
    "../output/kallisto_libraries_bairdihemat_transcriptomev2.0/id132/abundance.tsv \\\n",
    "../output/kallisto_libraries_bairdihemat_transcriptomev2.0/id359/abundance.tsv \\\n",
    "../output/kallisto_libraries_bairdihemat_transcriptomev2.0/id349/abundance.tsv \\\n",
    "../output/kallisto_libraries_bairdihemat_transcriptomev2.0/id334/abundance.tsv"
   ]
  },
  {
   "cell_type": "code",
   "execution_count": 4,
   "metadata": {},
   "outputs": [],
   "source": [
    "# Since the script outputs files in the working directory without an \n",
    "# option to change output dir, move all output over manually\n",
    "!mv kallisto.isoform.* ../output/kallisto_matrices/amb0_vs_amb2_indiv/"
   ]
  },
  {
   "cell_type": "markdown",
   "metadata": {},
   "source": [
    "Ambient Day 0 vs. Ambient Day 17"
   ]
  },
  {
   "cell_type": "code",
   "execution_count": null,
   "metadata": {},
   "outputs": [],
   "source": [
    "!../../../GradSchool/RobertsLab/Tools/Trinity/trinityrnaseq-v2.11.0/util/abundance_estimates_to_matrix.pl \\\n",
    "--est_method kallisto \\\n",
    "--gene_trans_map 'none' \\\n",
    "--out_prefix kallisto \\\n",
    "--name_sample_by_basedir \\\n",
    "../output/kallisto_libraries_bairdihemat_transcriptomev2.0/id178/abundance.tsv \\\n",
    "../output/kallisto_libraries_bairdihemat_transcriptomev2.0/id118/abundance.tsv \\\n",
    "../output/kallisto_libraries_bairdihemat_transcriptomev2.0/id132/abundance.tsv \\\n",
    "../output/kallisto_libraries_bairdihemat_transcriptomev2.0/id463/abundance.tsv \\\n",
    "../output/kallisto_libraries_bairdihemat_transcriptomev2.0/id481/abundance.tsv \\\n",
    "../output/kallisto_libraries_bairdihemat_transcriptomev2.0/id485/abundance.tsv"
   ]
  },
  {
   "cell_type": "code",
   "execution_count": 6,
   "metadata": {},
   "outputs": [],
   "source": [
    "# Since the script outputs files in the working directory without an \n",
    "# option to change output dir, move all output over manually\n",
    "!mv kallisto.isoform.* ../output/kallisto_matrices/amb0_vs_amb17_indiv/"
   ]
  },
  {
   "cell_type": "markdown",
   "metadata": {},
   "source": [
    "Ambient Day 2 vs. Ambient Day 17"
   ]
  },
  {
   "cell_type": "code",
   "execution_count": null,
   "metadata": {},
   "outputs": [],
   "source": [
    "!../../../GradSchool/RobertsLab/Tools/Trinity/trinityrnaseq-v2.11.0/util/abundance_estimates_to_matrix.pl \\\n",
    "--est_method kallisto \\\n",
    "--gene_trans_map 'none' \\\n",
    "--out_prefix kallisto \\\n",
    "--name_sample_by_basedir \\\n",
    "../output/kallisto_libraries_bairdihemat_transcriptomev2.0/id359/abundance.tsv \\\n",
    "../output/kallisto_libraries_bairdihemat_transcriptomev2.0/id349/abundance.tsv \\\n",
    "../output/kallisto_libraries_bairdihemat_transcriptomev2.0/id334/abundance.tsv \\\n",
    "../output/kallisto_libraries_bairdihemat_transcriptomev2.0/id463/abundance.tsv \\\n",
    "../output/kallisto_libraries_bairdihemat_transcriptomev2.0/id481/abundance.tsv \\\n",
    "../output/kallisto_libraries_bairdihemat_transcriptomev2.0/id485/abundance.tsv"
   ]
  },
  {
   "cell_type": "code",
   "execution_count": 4,
   "metadata": {},
   "outputs": [],
   "source": [
    "# Since the script outputs files in the working directory without an \n",
    "# option to change output dir, move all output over manually\n",
    "!mv kallisto.isoform.* ../output/kallisto_matrices/amb2_vs_amb17_indiv/"
   ]
  },
  {
   "cell_type": "markdown",
   "metadata": {},
   "source": [
    "Ambient Day 2 vs. Elevated Day 2, individual libraries only"
   ]
  },
  {
   "cell_type": "code",
   "execution_count": 5,
   "metadata": {},
   "outputs": [
    {
     "name": "stdout",
     "output_type": "stream",
     "text": [
      "-reading file: ../output/kallisto_libraries_bairdihemat_transcriptomev2.0/id359/abundance.tsv\n",
      "-reading file: ../output/kallisto_libraries_bairdihemat_transcriptomev2.0/id349/abundance.tsv\n",
      "-reading file: ../output/kallisto_libraries_bairdihemat_transcriptomev2.0/id334/abundance.tsv\n",
      "-reading file: ../output/kallisto_libraries_bairdihemat_transcriptomev2.0/id272/abundance.tsv\n",
      "-reading file: ../output/kallisto_libraries_bairdihemat_transcriptomev2.0/id294/abundance.tsv\n",
      "-reading file: ../output/kallisto_libraries_bairdihemat_transcriptomev2.0/id280/abundance.tsv\n",
      "\n",
      "\n",
      "* Outputting combined matrix.\n",
      "\n",
      "/mnt/c/Users/acoyl/Documents/GradSchool/RobertsLab/Tools/Trinity/trinityrnaseq-v2.11.0/util/support_scripts/run_TMM_scale_matrix.pl --matrix kallisto.isoform.TPM.not_cross_norm > kallisto.isoform.TMM.EXPR.matrixCMD: R --no-save --no-restore --no-site-file --no-init-file -q < kallisto.isoform.TPM.not_cross_norm.runTMM.R 1>&2 \n",
      "/mnt/c/Users/acoyl/Downloads/anaconda3/lib/R/bin/exec/R: error while loading shared libraries: libreadline.so.6: cannot open shared object file: No such file or directory\n",
      "Error, cmd: R --no-save --no-restore --no-site-file --no-init-file -q < kallisto.isoform.TPM.not_cross_norm.runTMM.R 1>&2  died with ret (32512)  at /mnt/c/Users/acoyl/Documents/GradSchool/RobertsLab/Tools/Trinity/trinityrnaseq-v2.11.0/util/support_scripts/run_TMM_scale_matrix.pl line 105.\n",
      "Error, CMD: /mnt/c/Users/acoyl/Documents/GradSchool/RobertsLab/Tools/Trinity/trinityrnaseq-v2.11.0/util/support_scripts/run_TMM_scale_matrix.pl --matrix kallisto.isoform.TPM.not_cross_norm > kallisto.isoform.TMM.EXPR.matrix died with ret 6400 at ../../../GradSchool/RobertsLab/Tools/Trinity/trinityrnaseq-v2.11.0/util/abundance_estimates_to_matrix.pl line 385.\n"
     ]
    }
   ],
   "source": [
    "!../../../GradSchool/RobertsLab/Tools/Trinity/trinityrnaseq-v2.11.0/util/abundance_estimates_to_matrix.pl \\\n",
    "--est_method kallisto \\\n",
    "--gene_trans_map 'none' \\\n",
    "--out_prefix kallisto \\\n",
    "--name_sample_by_basedir \\\n",
    "../output/kallisto_libraries_bairdihemat_transcriptomev2.0/id359/abundance.tsv \\\n",
    "../output/kallisto_libraries_bairdihemat_transcriptomev2.0/id349/abundance.tsv \\\n",
    "../output/kallisto_libraries_bairdihemat_transcriptomev2.0/id334/abundance.tsv \\\n",
    "../output/kallisto_libraries_bairdihemat_transcriptomev2.0/id272/abundance.tsv \\\n",
    "../output/kallisto_libraries_bairdihemat_transcriptomev2.0/id294/abundance.tsv \\\n",
    "../output/kallisto_libraries_bairdihemat_transcriptomev2.0/id280/abundance.tsv"
   ]
  },
  {
   "cell_type": "code",
   "execution_count": 6,
   "metadata": {},
   "outputs": [],
   "source": [
    "# Since the script outputs files in the working directory without an \n",
    "# option to change output dir, move all output over manually\n",
    "!mv kallisto.isoform.* ../output/kallisto_matrices/amb2_vs_elev2_indiv/"
   ]
  },
  {
   "cell_type": "markdown",
   "metadata": {},
   "source": [
    "This completes our kallisto analysis and matrix creation. Move to the R file 02_kallisto_to_deseq_to_accessionIDs to begin differential gene expression analysis using DESeq2"
   ]
  }
 ],
 "metadata": {
  "kernelspec": {
   "display_name": "Python 3",
   "language": "python",
   "name": "python3"
  },
  "language_info": {
   "codemirror_mode": {
    "name": "ipython",
    "version": 3
   },
   "file_extension": ".py",
   "mimetype": "text/x-python",
   "name": "python",
   "nbconvert_exporter": "python",
   "pygments_lexer": "ipython3",
   "version": "3.8.3"
  }
 },
 "nbformat": 4,
 "nbformat_minor": 4
}
