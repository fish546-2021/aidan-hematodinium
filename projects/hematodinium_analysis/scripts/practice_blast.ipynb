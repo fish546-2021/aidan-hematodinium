{
 "cells": [
  {
   "cell_type": "markdown",
   "metadata": {},
   "source": [
    "## This is a practice BLAST on Mox.\n",
    "\n",
    "Aidan Coyle, afcoyle@uw.edu\n",
    "\n",
    "Roberts Lab, UW-SAFS\n",
    "\n",
    "We will BLAST our .fasta file of differentially-expressed transcripts for Ambient Day 2 vs. Elevated Day 2, available [here](https://github.com/afcoyle/hemat_bairdii_transcriptome/blob/main/output/BLASTn/alveolata/amb2_vs_elev2_indiv_DEGs.fasta),  against the already-created transcriptome of all Alveolata sequences created by Sam, available [here](https://gannet.fish.washington.edu/Atumefaciens/20200605_cbai_v2.0_v3.0_megan_seq_extractions/cbai_transcriptome_v2.1.fasta)\n",
    "\n",
    "Since we're running this on Mox, all commands are copied and pasted"
   ]
  },
  {
   "cell_type": "code",
   "execution_count": null,
   "metadata": {},
   "outputs": [],
   "source": [
    "# Download existing transcriptome\n",
    "curl -o data/alveolata_transcriptome_v2.0.fasta -k https://gannet.fish.washington.edu/Atumefaciens/20200605_cbai_v2.0_v3.0_megan_seq_extractions/cbai_transcriptome_v2.1.fasta"
   ]
  },
  {
   "cell_type": "code",
   "execution_count": null,
   "metadata": {},
   "outputs": [],
   "source": [
    "# Download .fasta file\n",
    "curl -o data/amb2_vs_elev2_indiv_DEGs.fasta -k https://github.com/afcoyle/hemat_bairdii_transcriptome/blob/main/output/BLASTn/alveolata/amb2_vs_elev2_indiv_DEGs.fasta"
   ]
  },
  {
   "cell_type": "code",
   "execution_count": 1,
   "metadata": {},
   "outputs": [
    {
     "name": "stdout",
     "output_type": "stream",
     "text": [
      "3b4a63aa0edc71424eac99d69744f164  ../output/BLASTn/alveolata/amb2_vs_elev2_indiv_DEGs.fasta\n"
     ]
    }
   ],
   "source": [
    "# Create database for existing transcriptome\n",
    "# Should I have done this in slurm script?\n",
    "/gscratch/srlab/programs/ncbi-blast-2.8.1+/bin/makeblastdb \\\n",
    "-in data/alveolata_transcriptome_v2.0.fasta  \\\n",
    "-dbtype nucl \\\n",
    "-parse_seqids \\\n",
    "-out output/alveolata_blastdb"
   ]
  },
  {
   "cell_type": "markdown",
   "metadata": {},
   "source": [
    "Write my slurm script! I'll just paste it below while I struggle with rsync"
   ]
  },
  {
   "cell_type": "code",
   "execution_count": null,
   "metadata": {},
   "outputs": [],
   "source": [
    "#!/bin/bash\n",
    "## Job Name\n",
    "#SBATCH --job-name=afcoyle_testblast\n",
    "## Allocation Definition\n",
    "#SBATCH --account=srlab\n",
    "#SBATCH --partition=srlab\n",
    "## Resources\n",
    "## Nodes\n",
    "#SBATCH --nodes=1\n",
    "## Walltime (days-hours:minutes:seconds format)\n",
    "#SBATCH --time=0-12:00:00\n",
    "## Memory per node\n",
    "#SBATCH --mem=120G\n",
    "##turn on e-mail notification\n",
    "#SBATCH --mail-type=ALL\n",
    "#SBATCH --mail-user=afcoyle@uw.edu\n",
    "## Specify the working directory for this job\n",
    "#SBATCH --chdir=/gscratch/scrubbed/afcoyle\n",
    "\n",
    "\n",
    "/gscratch/srlab/programs/ncbi-blast-2.8.1+/bin/blastn \\\n",
    "-task=\"blastn\" \\\n",
    "-query /gscratch/scrubbed/afcoyle/data/amb2_vs_elev2_indiv_DEGs.fasta \\\n",
    "-db /gscratch/scrubbed/afcoyle/output/alveolata_blastdb  \\\n",
    "-out /gscratch/scrubbed/afcoyle/output/amb2_vs_elev2_indiv_alveolata_blastn.tab \\\n",
    "-evalue 0.01 \\\n",
    "-num_threads 40 \\\n",
    "-max_target_seqs 1 \\\n",
    "-outfmt 6"
   ]
  },
  {
   "cell_type": "code",
   "execution_count": null,
   "metadata": {},
   "outputs": [],
   "source": []
  }
 ],
 "metadata": {
  "kernelspec": {
   "display_name": "Python 3",
   "language": "python",
   "name": "python3"
  },
  "language_info": {
   "codemirror_mode": {
    "name": "ipython",
    "version": 3
   },
   "file_extension": ".py",
   "mimetype": "text/x-python",
   "name": "python",
   "nbconvert_exporter": "python",
   "pygments_lexer": "ipython3",
   "version": "3.8.3"
  }
 },
 "nbformat": 4,
 "nbformat_minor": 4
}
