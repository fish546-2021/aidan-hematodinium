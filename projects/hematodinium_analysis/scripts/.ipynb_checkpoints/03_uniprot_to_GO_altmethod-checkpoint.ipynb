{
 "cells": [
  {
   "cell_type": "markdown",
   "metadata": {},
   "source": [
    "Aidan Coyle, afcoyle@uw.edu\n",
    "\n",
    "2021/01/20\n",
    "\n",
    "Roberts lab at SAFS\n",
    "\n",
    "### Turning UniProt accessions into GO terms\n",
    "\n",
    "This script involves calling a Bash script that Sam wrote. That script is available [here](https://github.com/RobertsLab/code/blob/master/script-box/uniprot2go.sh). I copied it into my /scripts/ directory, where it's named 05_uniprot2go.sh\n",
    "\n",
    "05_uniprot2go.sh takes a newline-separated file of UniProt accessions, and outputs a file in the following format: UniProt_accession tab GOID1;GOID2...GOIDn"
   ]
  },
  {
   "cell_type": "code",
   "execution_count": 1,
   "metadata": {},
   "outputs": [
    {
     "data": {
      "text/plain": [
       "'/mnt/c/Users/acoyl/Documents/GitHub/hemat_bairdii_transcriptome/scripts'"
      ]
     },
     "execution_count": 1,
     "metadata": {},
     "output_type": "execute_result"
    }
   ],
   "source": [
    "pwd"
   ]
  },
  {
   "cell_type": "markdown",
   "metadata": {},
   "source": [
    "### First, we'll get all GO terms for all genes. This will take a long time - on a laptop, takes 1-2 days to run each"
   ]
  },
  {
   "cell_type": "code",
   "execution_count": 4,
   "metadata": {},
   "outputs": [
    {
     "name": "stdout",
     "output_type": "stream",
     "text": [
      "6 accessions were not processed.\n",
      "Please see: failed_accessions.txt\n"
     ]
    }
   ],
   "source": [
    "# Get all GO terms for all genes in ambient vs. low treatment group\n",
    "!./05_uniprot2go.sh ../output/accession_n_GOids/allgenes_IDs/Amb_vsLow_All_GeneIDs.txt > ../output/accession_n_GOids/allgenes_IDs/Amb_vsLow_All_GOIDs.txt"
   ]
  },
  {
   "cell_type": "code",
   "execution_count": null,
   "metadata": {},
   "outputs": [],
   "source": [
    "# A file called failed_accessions.txt is auto-placed in the directory you run the script from. Move to the output folder\n",
    "!mv failed_accessions.txt ../output/accession_n_GOids/allgenes_IDs/Amb_vsLow_AllGOIDs_failed_accessions.txt"
   ]
  },
  {
   "cell_type": "code",
   "execution_count": 12,
   "metadata": {},
   "outputs": [
    {
     "name": "stdout",
     "output_type": "stream",
     "text": [
      "3 accessions were not processed.\n",
      "Please see: failed_accessions.txt\n"
     ]
    }
   ],
   "source": [
    "# Get all GO terms for all genes in day 0 vs. day 17 ambient treatment group\n",
    "!./05_uniprot2go.sh ../output/accession_n_GOids/allgenes_IDs/day0_day17_All_GeneIDs.txt > ../output/accession_n_GOids/allgenes_IDs/day0_day17_All_GOIDs.txt"
   ]
  },
  {
   "cell_type": "code",
   "execution_count": null,
   "metadata": {},
   "outputs": [],
   "source": [
    "# A file called failed_accessions.txt is auto-placed in the directory you run the script from. Move to the output folder\n",
    "!mv failed_accessions.txt ../output/accession_n_GOids/allgenes_IDs/day0_day17_AllGOIDs_failed_accessions.txt"
   ]
  },
  {
   "cell_type": "code",
   "execution_count": 1,
   "metadata": {},
   "outputs": [
    {
     "name": "stdout",
     "output_type": "stream",
     "text": [
      "5 accessions were not processed.\n",
      "Please see: failed_accessions.txt\n"
     ]
    }
   ],
   "source": [
    "# Get all GO terms for all genes in elevated vs. ambient treatment group\n",
    "!./05_uniprot2go.sh ../output/accession_n_GOids/allgenes_IDs/Elev_vsAmb_All_GeneIDs.txt > ../output/accession_n_GOids/allgenes_IDs/Elev_vsAmb_All_GOIDs.txt"
   ]
  },
  {
   "cell_type": "code",
   "execution_count": null,
   "metadata": {},
   "outputs": [],
   "source": [
    "# A file called failed_accessions.txt is auto-placed in the directory you run the script from. Move to the output folder\n",
    "!mv failed_accessions.txt ../output/accession_n_GOids/allgenes_IDs/Elev_vsAmb_AllGOIDs_failed_accessions.txt"
   ]
  },
  {
   "cell_type": "code",
   "execution_count": 5,
   "metadata": {},
   "outputs": [
    {
     "name": "stdout",
     "output_type": "stream",
     "text": [
      "4 accessions were not processed.\n",
      "Please see: failed_accessions.txt\n"
     ]
    }
   ],
   "source": [
    "# Get all GO terms for all genes in elevated vs. low treatment group\n",
    "!./05_uniprot2go.sh ../output/accession_n_GOids/allgenes_IDs/Elev_vsLow_All_GeneIDs.txt > ../output/accession_n_GOids/allgenes_IDs/Elev_vsLow_All_GOIDs.txt"
   ]
  },
  {
   "cell_type": "code",
   "execution_count": 6,
   "metadata": {},
   "outputs": [],
   "source": [
    "# A file called failed_accessions.txt is auto-placed in the directory you run the script from. Move to the output folder\n",
    "!mv failed_accessions.txt ../output/accession_n_GOids/allgenes_IDs/Elev_vsLow_AllGOIDs_failed_accessions.txt"
   ]
  },
  {
   "cell_type": "markdown",
   "metadata": {},
   "source": [
    "### Then, we get all GO terms for only differentially-expressed genes (padj <= 0.005)"
   ]
  },
  {
   "cell_type": "code",
   "execution_count": 1,
   "metadata": {},
   "outputs": [],
   "source": [
    "# Get all GO terms for all genes in ambient vs. low treatment group\n",
    "!./05_uniprot2go.sh ../output/accession_n_GOids/DEG_IDs/Amb_vsLow_DEG_IDs.txt > ../output/accession_n_GOids/DEG_IDs/Amb_vsLow_DEG_GOIDs.txt"
   ]
  },
  {
   "cell_type": "code",
   "execution_count": 2,
   "metadata": {},
   "outputs": [],
   "source": [
    "# Get all GO terms for all genes in ambient vs. low treatment group\n",
    "!./05_uniprot2go.sh ../output/accession_n_GOids/DEG_IDs/day0_day17_amb_DEG_IDs.txt > ../output/accession_n_GOids/DEG_IDs/day0_day17_amb_DEG_GOIDs.txt"
   ]
  },
  {
   "cell_type": "code",
   "execution_count": 3,
   "metadata": {},
   "outputs": [],
   "source": [
    "# Get all GO terms for all genes in ambient vs. low treatment group\n",
    "!./05_uniprot2go.sh ../output/accession_n_GOids/DEG_IDs/Elev_vsAmb_DEG_IDs.txt > ../output/accession_n_GOids/DEG_IDs/Elev_vsAmb_DEG_GOIDs.txt"
   ]
  },
  {
   "cell_type": "code",
   "execution_count": 4,
   "metadata": {},
   "outputs": [],
   "source": [
    "# Get all GO terms for all genes in ambient vs. low treatment group\n",
    "!./05_uniprot2go.sh ../output/accession_n_GOids/DEG_IDs/Elev_vsLow_DEG_IDs.txt > ../output/accession_n_GOids/DEG_IDs/Elev_vsLow_DEG_GOIDs.txt"
   ]
  },
  {
   "cell_type": "markdown",
   "metadata": {},
   "source": [
    "### Completed getting all our GO terms! Now, time to get input for GO-MWU.\n",
    "We need 2 tables:\n",
    "- A 2-column table of genes and GO terms\n",
    "- A 2-column table of genes and unadjusted p-value without repeated genes"
   ]
  },
  {
   "cell_type": "markdown",
   "metadata": {},
   "source": [
    "The table of genes and unadjusted p-value is created using R in the script 06_GO-MWU_prep.R\n",
    "In getting GO terms, we made a 2-col tab-separated table of genes and GO terms.\n",
    "Now we need to eliminate all repeated genes. To do this, we'll use the nrify_GOtable.pl script. \n",
    "This can be found in the [GitHub repo for GO-MWU](https://github.com/z0on/GO_MWU)\n",
    "\n",
    "We'll put these files in a subdirectory within the scripts directory, as this is what GO-MWU calls for. All GO-MWU files are also within that directory"
   ]
  },
  {
   "cell_type": "code",
   "execution_count": 1,
   "metadata": {},
   "outputs": [],
   "source": [
    "# Eliminate gene repeats, concatenate GO terms for Amb/Low comparison\n",
    "!07_running_GO-MWU/./nrify_GOtable.pl ../output/accession_n_GOids/DEG_IDs/Amb_vsLow_DEG_GOIDs.txt > 07_running_GO-MWU/Amb_vsLow_DEG_GOIDs_norepeats.txt"
   ]
  },
  {
   "cell_type": "code",
   "execution_count": 3,
   "metadata": {},
   "outputs": [
    {
     "name": "stdout",
     "output_type": "stream",
     "text": [
      "336 07_running_GO-MWU/Amb_vsLow_DEG_GOIDs_norepeats.txt\n"
     ]
    }
   ],
   "source": [
    "# See length of file without repeats\n",
    "!wc -l 07_running_GO-MWU/Amb_vsLow_DEG_GOIDs_norepeats.txt"
   ]
  },
  {
   "cell_type": "code",
   "execution_count": 8,
   "metadata": {},
   "outputs": [
    {
     "name": "stdout",
     "output_type": "stream",
     "text": [
      "336\n"
     ]
    }
   ],
   "source": [
    "# Manually see how many repeats we have - looks indentical, script running properly\n",
    "!sort ../output/accession_n_GOids/DEG_IDs/Amb_vsLow_DEG_GOIDs.txt | uniq | wc -l"
   ]
  },
  {
   "cell_type": "code",
   "execution_count": 9,
   "metadata": {},
   "outputs": [],
   "source": [
    "# Continue with day 0/day 17 comparison\n",
    "!07_running_GO-MWU/./nrify_GOtable.pl ../output/accession_n_GOids/DEG_IDs/day0_day17_amb_DEG_GOIDs.txt > 07_running_GO-MWU/day0_day17_amb_DEG_GOIDs_norepeats.txt"
   ]
  },
  {
   "cell_type": "code",
   "execution_count": 10,
   "metadata": {},
   "outputs": [],
   "source": [
    "# Continue with Elev/Amb comparison\n",
    "!07_running_GO-MWU/./nrify_GOtable.pl ../output/accession_n_GOids/DEG_IDs/Elev_vsAmb_DEG_GOIDs.txt > 07_running_GO-MWU/Elev_vsAmb_DEG_GOIDs_norepeats.txt"
   ]
  },
  {
   "cell_type": "code",
   "execution_count": 11,
   "metadata": {},
   "outputs": [],
   "source": [
    "# Continue with Elev/Low comparison\n",
    "!07_running_GO-MWU/./nrify_GOtable.pl ../output/accession_n_GOids/DEG_IDs/Elev_vsLow_DEG_GOIDs.txt > 07_running_GO-MWU/Elev_vsLow_DEG_GOIDs_norepeats.txt"
   ]
  },
  {
   "cell_type": "markdown",
   "metadata": {},
   "source": []
  }
 ],
 "metadata": {
  "kernelspec": {
   "display_name": "Python 3",
   "language": "python",
   "name": "python3"
  },
  "language_info": {
   "codemirror_mode": {
    "name": "ipython",
    "version": 3
   },
   "file_extension": ".py",
   "mimetype": "text/x-python",
   "name": "python",
   "nbconvert_exporter": "python",
   "pygments_lexer": "ipython3",
   "version": "3.8.3"
  }
 },
 "nbformat": 4,
 "nbformat_minor": 4
}
