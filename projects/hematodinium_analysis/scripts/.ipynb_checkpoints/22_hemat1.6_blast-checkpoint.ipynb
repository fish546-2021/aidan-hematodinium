{
 "cells": [
  {
   "cell_type": "markdown",
   "metadata": {},
   "source": [
    "Aidan Coyle, afcoyle@uw.edu\n",
    "\n",
    "2021/01/20\n",
    "\n",
    "Roberts lab at SAFS\n",
    "\n",
    "\n",
    "# 22_hemat1.6_blast\n",
    "\n",
    "This script produces a BLASTx annotation table by BLASTing hematodinium transcriptome v1.6 against the Swiss-Prot/UniProt database\n",
    "\n",
    "BLAST was done on Mox, so all commands are copy-pasted over, unless otherwise specified."
   ]
  },
  {
   "cell_type": "markdown",
   "metadata": {},
   "source": [
    "**Transcriptome**: Link and background info for hemat_transcriptomev1.6 available [here](https://robertslab.github.io/sams-notebook/2021/03/08/Transcriptome-Assembly-Hematodinium-Transcriptomes-v1.6-and-v1.7-with-Trinity-on-Mox.html). \n",
    "\n",
    "Direct link to folder with data available [here](https://gannet.fish.washington.edu/Atumefaciens/20210308_hemat_trinity_v1.6_v1.7/hemat_transcriptome_v1.6.fasta_trinity_out_dir/). \n",
    "\n",
    "Transcriptome md5sum is f9c8f96a49506e1810ff4004426160d8"
   ]
  },
  {
   "cell_type": "code",
   "execution_count": null,
   "metadata": {},
   "outputs": [],
   "source": [
    "# Working from the login node of Mox, specifically gscratch/srlab/afcoyle\n",
    "# Download hemat_transcriptomev1.6\n",
    "[afcoyle@mox2 afcoyle]$ curl -o projects/hemat1.6_blastx/hemat_transcriptomev1.6.fasta \\\n",
    "-k https://gannet.fish.washington.edu/Atumefaciens/20210308_hemat_trinity_v1.6_v1.7/hemat_transcriptome_v1.6.fasta_trinity_out_dir/hemat_transcriptome_v1.6.fasta"
   ]
  },
  {
   "cell_type": "code",
   "execution_count": null,
   "metadata": {},
   "outputs": [],
   "source": [
    "# Verify checksum\n",
    "[afcoyle@mox2 afcoyle]$ md5sum projects/hemat1.6_blastx/hemat_transcriptomev1.6.fasta | grep \"f9c8f96a49506e1810ff4004426160d8\"\n",
    "\n",
    "# f9c8f96a49506e1810ff4004426160d8  projects/hemat1.6_blastx/hemat_transcriptomev1.6.fasta"
   ]
  },
  {
   "cell_type": "code",
   "execution_count": null,
   "metadata": {},
   "outputs": [],
   "source": [
    "# Make database for uniprot db\n",
    "/gscratch/srlab/programs/ncbi-blast-2.8.1+/bin/makeblastdb \\\n",
    "-in /gscratch/srlab/blastdbs/uniprot_sprot_20200123/uniprot_sprot.fasta \\\n",
    "-dbtype prot \\\n",
    "-parse_seqids \\\n",
    "-out /gscratch/srlab/afcoyle/projects/hemat1.6_blastx/output/blastdbs/uniprot_blastdb"
   ]
  },
  {
   "cell_type": "markdown",
   "metadata": {},
   "source": [
    "### Mox slurm script for BLASTx of hematodinium transcriptome v1.6"
   ]
  },
  {
   "cell_type": "code",
   "execution_count": null,
   "metadata": {},
   "outputs": [],
   "source": [
    "#!/bin/bash\n",
    "## Job Name\n",
    "#SBATCH --job-name=afcoyle_opilioblast\n",
    "## Allocation Definition\n",
    "#SBATCH --account=srlab\n",
    "#SBATCH --partition=srlab\n",
    "## Resources\n",
    "## Nodes\n",
    "#SBATCH --nodes=1\n",
    "## Walltime (days-hours:minutes:seconds format)\n",
    "#SBATCH --time=1-12:00:00\n",
    "## Memory per node\n",
    "#SBATCH --mem=120G\n",
    "##turn on e-mail notification\n",
    "#SBATCH --mail-type=ALL\n",
    "#SBATCH --mail-user=afcoyle@uw.edu\n",
    "## Specify the working directory for this job\n",
    "#SBATCH --chdir=/gscratch/scrubbed/afcoyle\n",
    "\n",
    "\n",
    "/gscratch/srlab/programs/ncbi-blast-2.8.1+/bin/blastx \\\n",
    "-task=\"blastx\" \\\n",
    "-query /gscratch/srlab/afcoyle/projects/hemat1.6_blastx/hemat_transcriptomev1.6.fasta \\\n",
    "-db /gscratch/srlab/afcoyle/projects/hemat1.6_blastx/output/blastdbs/uniprot_blastdb \\\n",
    "-out /gscratch/srlab/afcoyle/projects/hemat1.6_blastx/output/hemat1.6_blastxres.tab \\\n",
    "-evalue 1E-05 \\\n",
    "-num_threads 40 \\\n",
    "-max_target_seqs 1 \\\n",
    "-outfmt 6"
   ]
  },
  {
   "cell_type": "code",
   "execution_count": null,
   "metadata": {},
   "outputs": [],
   "source": [
    "# Send job to executive node of Mox\n",
    "[afcoyle@mox2 afcoyle]$ sbatch jobs/20210312_hemat1.6_blastx.sh\n",
    "Submitted batch job 1699544"
   ]
  },
  {
   "cell_type": "code",
   "execution_count": null,
   "metadata": {},
   "outputs": [],
   "source": [
    "# Transfer BLAST output from Mox to Gannet\n",
    "# These commands performed from a folder in Gannetc\n",
    "# Gannet folder: /volume2/web/nerka/mox_transfers/scrubbed/\n",
    "rsync -avz --progress \\\n",
    "afcoyle@mox.hyak.uw.edu:/gscratch/srlab/afcoyle/projects/hemat1.6_blastx/output/hemat1.6_blastxres.tab\n",
    "hemat_proj/"
   ]
  },
  {
   "cell_type": "code",
   "execution_count": null,
   "metadata": {},
   "outputs": [],
   "source": [
    "# Check our md5sums to ensure correct transfer. Here's what they should be:\n",
    "# To obtain, run md5sum hemat1.6_blastxres.tab on both Mox and Gannet\n",
    "\n",
    "# 13f4f58c4333fbca3b0c030b986838bc  hemat1.6_blastxres.tab"
   ]
  },
  {
   "cell_type": "code",
   "execution_count": null,
   "metadata": {},
   "outputs": [],
   "source": [
    "# Transfer both BLAST outputs to local machine\n",
    "# Ran command from local machine\n",
    "# Using absolute path, as relative path fails\n",
    "rsync -chavzP --stats \\\n",
    "afcoyle@gannet.fish.washington.edu:/volume2/web/nerka/mox_transfers/scrubbed/hemat_proj/hemat1.6_blastxres.tab \\\n",
    "/mnt/c/Users/acoyl/Documents/GitHub/hemat_bairdi_transcriptome/output/BLASTs/uniprot_swissprot"
   ]
  },
  {
   "cell_type": "code",
   "execution_count": null,
   "metadata": {},
   "outputs": [],
   "source": [
    "# Verify checksums still match by running md5sum ../output/BLASTs/uniprot_swissprot/hemat1.6_blastxres.tab on local machine\n",
    "\n",
    "# 13f4f58c4333fbca3b0c030b986838bc  output/BLASTs/uniprot_swissprot/hemat1.6_blastxres.tab"
   ]
  }
 ],
 "metadata": {
  "kernelspec": {
   "display_name": "Python 3",
   "language": "python",
   "name": "python3"
  },
  "language_info": {
   "codemirror_mode": {
    "name": "ipython",
    "version": 3
   },
   "file_extension": ".py",
   "mimetype": "text/x-python",
   "name": "python",
   "nbconvert_exporter": "python",
   "pygments_lexer": "ipython3",
   "version": "3.8.3"
  }
 },
 "nbformat": 4,
 "nbformat_minor": 4
}
