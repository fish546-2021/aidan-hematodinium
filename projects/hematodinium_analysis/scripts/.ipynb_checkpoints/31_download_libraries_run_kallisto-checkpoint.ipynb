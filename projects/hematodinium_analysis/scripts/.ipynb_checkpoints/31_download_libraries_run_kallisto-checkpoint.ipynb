{
 "cells": [
  {
   "cell_type": "markdown",
   "metadata": {},
   "source": [
    "Aidan Coyle, afcoyle@uw.edu\n",
    "\n",
    "Roberts Lab, UW-SAFS\n",
    "\n",
    "2021-03-07\n",
    "\n",
    "This script follows the same steps as 11_download_libraries_run_kallisto.ipynb\n",
    "\n",
    "However, rather than building kallisto indices from a transcriptome containing mixed _C. bairdi_ and _Hematodinium_, we will be using a transcriptome filtered to only include sequences from Alveolata, the clade containing _Hematodinium_. Therefore, our kallisto libraries will (hopefully) contain only the counts for _Hematodinium_.\n",
    "\n",
    "Some notes:\n",
    "\n",
    "1. We will build indices for both individual and pooled libraries, but will likely only utilize those for individual libraries\n",
    "2. Most of this script will be run remotely on the lab's Roadrunner computer, rather than on a local machine. This means that commands will largely be copied and pasted from the command line, rather than ran directly in this Jupyter notebook.\n",
    "\n",
    "\n"
   ]
  },
  {
   "cell_type": "markdown",
   "metadata": {},
   "source": [
    "Library IDs are as follows. Asterisks label Day 0 crabs that were part of either the elevated or lowered treatment groups - since at Day 0, they had not yet been exposed to changes away from ambient temperature, they are included as part of the ambient treatment group:\n",
    "\n",
    "| Crab ID    | Library ID | Day| Temperature |\n",
    "|-------------|----------------|-------------|----------|\n",
    "| G        | 272             |   2          |   Elevated       |\n",
    "| H        | 294             |   2          |   Elevated       |\n",
    "| I        | 280             |   2          |   Elevated       |\n",
    "|pooled    | 380825          |   2          |   Elevated       |\n",
    "| G*       | 173*            |   0*         |   Ambient*       |\n",
    "| H*       | 72*             |   0*         |   Ambient*       |\n",
    "| I*       | 127*            |   0*         |   Ambient*       |\n",
    "| A        | 178             |   0          |   Ambient        |\n",
    "| A        | 359             |   2          |   Ambient        |\n",
    "| A        | 463             |   17         |   Ambient        |\n",
    "| B        | 118             |   0          |   Ambient        |\n",
    "| B        | 349             |   2          |   Ambient        |\n",
    "| B        | 481             |   17         |   Ambient        |\n",
    "| C        | 132             |   0          |   Ambient        |\n",
    "| C        | 334             |   2          |   Ambient        |\n",
    "| C        | 485             |   17         |   Ambient        |\n",
    "| E*       | 151*            |   0*         |   Ambient*       |\n",
    "| pooled   | 380821          |   2          |   Ambient        |\n",
    "| E        | 254             |   2          |   Lowered        |\n",
    "| E        | 445             |   17         |   Lowered        |\n",
    "| pooled   | 380823          |   2          |   Lowered        |\n"
   ]
  },
  {
   "cell_type": "markdown",
   "metadata": {},
   "source": [
    "Trimmed individual libraries were downloaded from Gannet, available [here](https://gannet.fish.washington.edu/Atumefaciens/20200318_cbai_RNAseq_fastp_trimming/), at 11:00 PSTon 2021-03-08\n",
    "Trimmed pooled libraries were downloaded from Gannet, available [here](https://gannet.fish.washington.edu/Atumefaciens/20200414_cbai_RNAseq_fastp_trimming/), at 12:00 PST on 2021-03-08\n"
   ]
  },
  {
   "cell_type": "markdown",
   "metadata": {},
   "source": [
    "Transcriptome used is **hemat_transcriptome_v1.6**. \n",
    "\n",
    "Link and background info available [here](https://robertslab.github.io/sams-notebook/2021/03/08/Transcriptome-Assembly-Hematodinium-Transcriptomes-v1.6-and-v1.7-with-Trinity-on-Mox.html). \n",
    "\n",
    "Direct link to folder with data available [here](https://gannet.fish.washington.edu/Atumefaciens/20210308_hemat_trinity_v1.6_v1.7/hemat_transcriptome_v1.6.fasta_trinity_out_dir/). \n",
    "\n",
    "Transcriptome md5sum is f9c8f96a49506e1810ff4004426160d8\n",
    "\n",
    "Transcriptome was downloaded at 2:00 PST on 2021-03-09\n"
   ]
  },
  {
   "cell_type": "markdown",
   "metadata": {},
   "source": [
    "## Download individual libraries"
   ]
  },
  {
   "cell_type": "markdown",
   "metadata": {},
   "source": [
    "Working on Roadrunner as user afcoyle. Working directory: ~/projects/hemat_bairdi_transcriptome/scripts to start\n",
    "\n",
    "### If you have already ran 01_download_libraries_run_kallisto, you already downloaded all these same libraries - no need to re-download. Skip to downloading the transcriptome and building the kallisto index"
   ]
  },
  {
   "cell_type": "code",
   "execution_count": null,
   "metadata": {},
   "outputs": [],
   "source": [
    "# Download all files in directory\n",
    "!wget --no-check-certificate --no-parent --recursive --reject \"index.html\" https://gannet.fish.washington.edu/Atumefaciens/20200318_cbai_RNAseq_fastp_trimming/"
   ]
  },
  {
   "cell_type": "code",
   "execution_count": null,
   "metadata": {},
   "outputs": [],
   "source": [
    "# Move into new directory\n",
    "!cd gannet.fish.washington.edu/Atumefaciens/20200318_cbai_RNAseq_fastp_trimming/"
   ]
  },
  {
   "cell_type": "code",
   "execution_count": null,
   "metadata": {},
   "outputs": [],
   "source": [
    "# Remove all files that aren't .fq.gz or .md5\n",
    "!rm *.html\n",
    "!rm *.zip\n",
    "!rm index.html*\n",
    "!rm *.json\n",
    "!rm *.sh\n",
    "!rm *.log\n",
    "!rm *.out\n",
    "!rm *.txt\n",
    "!rm -r multiqc_data*"
   ]
  },
  {
   "cell_type": "code",
   "execution_count": null,
   "metadata": {},
   "outputs": [],
   "source": [
    "# Move files from data/gannet.fish.washington.edu/Atumefaciens/20200318_cbai_RNAseq_fastp_trimming into data/libraries\n",
    "!cd ..\n",
    "!mv 20200318_cbai_RNAseq_fastp_trimming/* ../../../data/libraries/\n",
    "# Delete old directory\n",
    "!cd ../..\n",
    "!rm -r gannet.fish.washington.edu\n",
    "# Move into directory with all libraries\n",
    "cd ../data/libraries/"
   ]
  },
  {
   "cell_type": "code",
   "execution_count": null,
   "metadata": {},
   "outputs": [],
   "source": [
    "# Rename checksum file to clarify it is specific to individual libraries\n",
    "!mv trimmed_fastq_checksums.md5 trimmed_indivfastq_checksums.md5"
   ]
  },
  {
   "cell_type": "code",
   "execution_count": null,
   "metadata": {},
   "outputs": [],
   "source": [
    "# Check that files downloaded properly with checksums\n",
    "!md5sum -c trimmed_indivfastq_checksums.md5"
   ]
  },
  {
   "cell_type": "code",
   "execution_count": null,
   "metadata": {},
   "outputs": [],
   "source": [
    "# remove all uninfected libraries, as they won't be part of analysis\n",
    "!rm 113_R*\n",
    "!rm 221_R*\n",
    "!rm 222_R*\n",
    "!rm 425_R*\n",
    "!rm 427_R*\n",
    "!rm 73_R*"
   ]
  },
  {
   "cell_type": "markdown",
   "metadata": {},
   "source": [
    "## Download pooled libraries\n"
   ]
  },
  {
   "cell_type": "code",
   "execution_count": null,
   "metadata": {},
   "outputs": [],
   "source": [
    "# Move up a directory to keep download simpler\n",
    "!cd .."
   ]
  },
  {
   "cell_type": "code",
   "execution_count": null,
   "metadata": {},
   "outputs": [],
   "source": [
    "# Download all files in directory\n",
    "!wget --no-check-certificate --no-parent --recursive --reject \"index.html\" https://gannet.fish.washington.edu/Atumefaciens/20200414_cbai_RNAseq_fastp_trimming/"
   ]
  },
  {
   "cell_type": "code",
   "execution_count": null,
   "metadata": {},
   "outputs": [],
   "source": [
    "# Move into our new file structure\n",
    "cd gannet.fish.washington.edu/Atumefaciens/20200414_cbai_RNAseq_fastp_trimming"
   ]
  },
  {
   "cell_type": "code",
   "execution_count": null,
   "metadata": {},
   "outputs": [],
   "source": [
    "# Remove all files that aren't .fq.gz or .md5\n",
    "!rm *.html\n",
    "!rm *.zip\n",
    "!rm index.html*\n",
    "!rm *.json\n",
    "!rm *.log\n",
    "!rm *.out\n",
    "!rm *.txt\n",
    "!rm -r multiqc*"
   ]
  },
  {
   "cell_type": "code",
   "execution_count": null,
   "metadata": {},
   "outputs": [],
   "source": [
    "!mv trimmed_fastq_checksums.md5 trimmed_pooledfastq_checksums.md5"
   ]
  },
  {
   "cell_type": "code",
   "execution_count": null,
   "metadata": {},
   "outputs": [],
   "source": [
    "# Check that files downloaded properly with checksums\n",
    "!md5sum -c trimmed_pooledfastq_checksums.md5"
   ]
  },
  {
   "cell_type": "code",
   "execution_count": null,
   "metadata": {},
   "outputs": [],
   "source": [
    "# Remove all uninfected libraries, as they won't be part of analysis\n",
    "!rm 380820_*\n",
    "!rm 380822_*\n",
    "!rm 380824_*"
   ]
  },
  {
   "cell_type": "code",
   "execution_count": null,
   "metadata": {},
   "outputs": [],
   "source": [
    "# Move files from data/gannet.fish.washington.edu/Atumefaciens/20200414_cbai_RNAseq_fastp_trimming into data/libraries\n",
    "!cd ..\n",
    "!mv 20200414_cbai_RNAseq_fastp_trimming/* ../../libraries\n",
    "# Delete old directory\n",
    "!cd ../..\n",
    "!rm -r gannet.fish.washington.edu\n",
    "cd libraries"
   ]
  },
  {
   "cell_type": "code",
   "execution_count": null,
   "metadata": {},
   "outputs": [],
   "source": [
    "# Merge libraries by lanes, removing un-merged files\n",
    "!cat 380821_S2_L001_R1_001.fastp-trim.202004143925.fq.gz 380821_S2_L002_R1_001.fastp-trim.202004144145.fq.gz > 380821_S2_R1_001.fastp-trim.fq.gz\n",
    "!cat 380821_S2_L001_R2_001.fastp-trim.202004143925.fq.gz 380821_S2_L002_R2_001.fastp-trim.202004144145.fq.gz > 380821_S2_R2_001.fastp-trim.fq.gz\n",
    "!rm 380821_S2_L00*\n",
    "!cat 380823_S4_L001_R1_001.fastp-trim.202004144852.fq.gz 380823_S4_L002_R1_001.fastp-trim.202004145106.fq.gz > 380823_S4_R1_001.fastp-trim.fq.gz\n",
    "!cat 380823_S4_L001_R2_001.fastp-trim.202004144852.fq.gz 380823_S4_L002_R2_001.fastp-trim.202004145106.fq.gz > 380823_S4_R2_001.fastp-trim.fq.gz\n",
    "!rm 380823_S4_L00*\n",
    "!cat 380825_S6_L001_R1_001.fastp-trim.202004145835.fq.gz 380825_S6_L002_R1_001.fastp-trim.202004140109.fq.gz > 380825_S6_R1_001.fastp-trim.fq.gz\n",
    "!cat 380825_S6_L001_R2_001.fastp-trim.202004145835.fq.gz 380825_S6_L002_R2_001.fastp-trim.202004140109.fq.gz > 380825_S6_R2_001.fastp-trim.fq.gz\n",
    "!rm 380825_S6_L00*"
   ]
  },
  {
   "cell_type": "markdown",
   "metadata": {},
   "source": [
    "## Download transcriptome\n",
    "Transcriptome is filtered by taxa to only include _Hematodinium_ sequences"
   ]
  },
  {
   "cell_type": "code",
   "execution_count": null,
   "metadata": {},
   "outputs": [],
   "source": [
    "!cd ../transcriptomes\n",
    "# Download transcriptome 2.0\n",
    "!curl -O -k https://gannet.fish.washington.edu/Atumefaciens/20210308_hemat_trinity_v1.6_v1.7/hemat_transcriptome_v1.6.fasta_trinity_out_dir/hemat_transcriptome_v1.6.fasta\n",
    "# Transcriptome checksum: f9c8f96a49506e1810ff4004426160d8\n",
    "!md5sum hemat_transcriptome_v1.6.fasta | grep f9c8f96a49506e1810ff4004426160d8\n",
    "# Matches"
   ]
  },
  {
   "cell_type": "markdown",
   "metadata": {},
   "source": [
    "## Create an index for kallisto\n",
    "Warning: if running on local machine, could take days. Ran in much shorter time on Roadrunner.\n",
    "\n",
    "If kallisto is not installed, follow instructions [here](http://pachterlab.github.io/kallisto/download)"
   ]
  },
  {
   "cell_type": "code",
   "execution_count": null,
   "metadata": {},
   "outputs": [],
   "source": [
    "!cd ../../output/kallisto_indices\n",
    "# Index for transcriptome\n",
    "!kallisto index -i kallisto_hemat_index_v1.6.idx ../../data/transcriptomes/hemat_transcriptome_v1.6.fasta\n"
   ]
  },
  {
   "cell_type": "markdown",
   "metadata": {},
   "source": [
    "## Run kallisto quantification for all libraries for Hemat. Transcriptome v1.6, starting with individual libraries\n",
    "Order is same as table at start of script, with all pooled libraries examined last"
   ]
  },
  {
   "cell_type": "code",
   "execution_count": null,
   "metadata": {},
   "outputs": [],
   "source": [
    "# Quantify ID 272\n",
    "kallisto quant \\\n",
    "-i kallisto_hemat_index_v1.6.idx \\\n",
    "-o ../kallisto_libraries_hemat_transcriptomev1.6/id272 \\\n",
    "../../data/libraries/272_R1_001.fastp-trim.202003184536.fq.gz \\\n",
    "../../data/libraries/272_R2_001.fastp-trim.202003184536.fq.gz \\\n",
    "2> ../kallisto_libraries_hemat_transcriptomev1.6/std_errortracking.txt"
   ]
  },
  {
   "cell_type": "code",
   "execution_count": null,
   "metadata": {},
   "outputs": [],
   "source": [
    "# Quantify ID 294\n",
    "!kallisto quant \\\n",
    "-i kallisto_hemat_index_v1.6.idx \\\n",
    "-o ../kallisto_libraries_hemat_transcriptomev1.6/id294 \\\n",
    "../../data/libraries/294_R1_001.fastp-trim.202003180701.fq.gz \\\n",
    "../../data/libraries/294_R2_001.fastp-trim.202003180701.fq.gz \\\n",
    "2>> ../kallisto_libraries_hemat_transcriptomev1.6/std_errortracking.txt"
   ]
  },
  {
   "cell_type": "code",
   "execution_count": null,
   "metadata": {},
   "outputs": [],
   "source": [
    "# Quantify ID 280\n",
    "!kallisto quant \\\n",
    "-i kallisto_hemat_index_v1.6.idx \\\n",
    "-o ../kallisto_libraries_hemat_transcriptomev1.6/id280 \\\n",
    "../../data/libraries/280_R1_001.fastp-trim.202003185124.fq.gz \\\n",
    "../../data/libraries/280_R2_001.fastp-trim.202003185124.fq.gz  \\\n",
    "2>> ../kallisto_libraries_hemat_transcriptomev1.6/std_errortracking.txt"
   ]
  },
  {
   "cell_type": "code",
   "execution_count": null,
   "metadata": {},
   "outputs": [],
   "source": [
    "# Quantify ID 173\n",
    "!kallisto quant \\\n",
    "-i kallisto_hemat_index_v1.6.idx \\\n",
    "-o ../kallisto_libraries_hemat_transcriptomev1.6/id173 \\\n",
    "../../data/libraries/173_R1_001.fastp-trim.202003181159.fq.gz \\\n",
    "../../data/libraries/173_R2_001.fastp-trim.202003181159.fq.gz \\\n",
    "2>> ../kallisto_libraries_hemat_transcriptomev1.6/std_errortracking.txt"
   ]
  },
  {
   "cell_type": "code",
   "execution_count": null,
   "metadata": {},
   "outputs": [],
   "source": [
    "# Quantify ID 072\n",
    "!kallisto quant \\\n",
    "-i kallisto_hemat_index_v1.6.idx \\\n",
    "-o ../kallisto_libraries_hemat_transcriptomev1.6/id072 \\\n",
    "../../data/libraries/72_R1_001.fastp-trim.202003181709.fq.gz \\\n",
    "../../data/libraries/72_R2_001.fastp-trim.202003181709.fq.gz \\\n",
    "2>> ../kallisto_libraries_hemat_transcriptomev1.6/std_errortracking.txt"
   ]
  },
  {
   "cell_type": "code",
   "execution_count": null,
   "metadata": {},
   "outputs": [],
   "source": [
    "# Quantify ID 127\n",
    "!kallisto quant \\\n",
    "-i kallisto_hemat_index_v1.6.idx \\\n",
    "-o ../kallisto_libraries_hemat_transcriptomev1.6/id127 \\\n",
    "../../data/libraries/127_R1_001.fastp-trim.202003185538.fq.gz \\\n",
    "../../data/libraries/127_R2_001.fastp-trim.202003185538.fq.gz \\\n",
    "2>> ../kallisto_libraries_hemat_transcriptomev1.6/std_errortracking.txt"
   ]
  },
  {
   "cell_type": "code",
   "execution_count": null,
   "metadata": {},
   "outputs": [],
   "source": [
    "# Quantify ID 178\n",
    "!kallisto quant \\\n",
    "-i kallisto_hemat_index_v1.6.idx \\\n",
    "-o ../kallisto_libraries_hemat_transcriptomev1.6/id178 \\\n",
    "../../data/libraries/178_R1_001.fastp-trim.202003181815.fq.gz \\\n",
    "../../data/libraries/178_R2_001.fastp-trim.202003181815.fq.gz \\\n",
    "2>> ../kallisto_libraries_hemat_transcriptomev1.6/std_errortracking.txt"
   ]
  },
  {
   "cell_type": "code",
   "execution_count": null,
   "metadata": {},
   "outputs": [],
   "source": [
    "# Quantify ID 359\n",
    "!kallisto quant \\\n",
    "-i kallisto_hemat_index_v1.6.idx \\\n",
    "-o ../kallisto_libraries_hemat_transcriptomev1.6/id359 \\\n",
    "../../data/libraries/359_R1_001.fastp-trim.202003182247.fq.gz \\\n",
    "../../data/libraries/359_R2_001.fastp-trim.202003182247.fq.gz \\\n",
    "2>> ../kallisto_libraries_hemat_transcriptomev1.6/std_errortracking.txt"
   ]
  },
  {
   "cell_type": "code",
   "execution_count": null,
   "metadata": {},
   "outputs": [],
   "source": [
    "# Quantify ID 463\n",
    "!kallisto quant \\\n",
    "-i kallisto_hemat_index_v1.6.idx \\\n",
    "-o ../kallisto_libraries_hemat_transcriptomev1.6/id463 \\\n",
    "../../data/libraries/463_R1_001.fastp-trim.202003185732.fq.gz \\\n",
    "../../data/libraries/463_R2_001.fastp-trim.202003185732.fq.gz \\\n",
    "2>> ../kallisto_libraries_hemat_transcriptomev1.6/std_errortracking.txt"
   ]
  },
  {
   "cell_type": "code",
   "execution_count": null,
   "metadata": {},
   "outputs": [],
   "source": [
    "# Quantify ID 118\n",
    "!kallisto quant \\\n",
    "-i kallisto_hemat_index_v1.6.idx \\\n",
    "-o ../kallisto_libraries_hemat_transcriptomev1.6/id118 \\\n",
    "../../data/libraries/118_R1_001.fastp-trim.202003184931.fq.gz \\\n",
    "../../data/libraries/118_R2_001.fastp-trim.202003184931.fq.gz \\\n",
    "2>> ../kallisto_libraries_hemat_transcriptomev1.6/std_errortracking.txt"
   ]
  },
  {
   "cell_type": "code",
   "execution_count": null,
   "metadata": {},
   "outputs": [],
   "source": [
    "# Quantify ID 349\n",
    "!kallisto quant \\\n",
    "-i kallisto_hemat_index_v1.6.idx \\\n",
    "-o ../kallisto_libraries_hemat_transcriptomev1.6/id349 \\\n",
    "../../data/libraries/349_R1_001.fastp-trim.202003181609.fq.gz \\\n",
    "../../data/libraries/349_R2_001.fastp-trim.202003181609.fq.gz \\\n",
    "2>> ../kallisto_libraries_hemat_transcriptomev1.6/std_errortracking.txt"
   ]
  },
  {
   "cell_type": "code",
   "execution_count": null,
   "metadata": {},
   "outputs": [],
   "source": [
    "# Quantify ID 481\n",
    "!kallisto quant \\\n",
    "-i kallisto_hemat_index_v1.6.idx \\\n",
    "-o ../kallisto_libraries_hemat_transcriptomev1.6/id481 \\\n",
    "../../data/libraries/481_R1_001.fastp-trim.202003180047.fq.gz \\\n",
    "../../data/libraries/481_R2_001.fastp-trim.202003180047.fq.gz \\\n",
    "2>> ../kallisto_libraries_hemat_transcriptomev1.6/std_errortracking.txt"
   ]
  },
  {
   "cell_type": "code",
   "execution_count": null,
   "metadata": {},
   "outputs": [],
   "source": [
    "# Quantify ID 132\n",
    "!kallisto quant \\\n",
    "-i kallisto_hemat_index_v1.6.idx \\\n",
    "-o ../kallisto_libraries_hemat_transcriptomev1.6/id132 \\\n",
    "../../data/libraries/132_R1_001.fastp-trim.202003180140.fq.gz \\\n",
    "../../data/libraries/132_R2_001.fastp-trim.202003180140.fq.gz \\\n",
    "2>> ../kallisto_libraries_hemat_transcriptomev1.6/std_errortracking.txt"
   ]
  },
  {
   "cell_type": "code",
   "execution_count": null,
   "metadata": {},
   "outputs": [],
   "source": [
    "# Quantify ID 334\n",
    "!kallisto quant \\\n",
    "-i kallisto_hemat_index_v1.6.idx \\\n",
    "-o ../kallisto_libraries_hemat_transcriptomev1.6/id334 \\\n",
    "../../data/libraries/334_R1_001.fastp-trim.202003181149.fq.gz \\\n",
    "../../data/libraries/334_R2_001.fastp-trim.202003181149.fq.gz \\\n",
    "2>> ../kallisto_libraries_hemat_transcriptomev1.6/std_errortracking.txt"
   ]
  },
  {
   "cell_type": "code",
   "execution_count": null,
   "metadata": {},
   "outputs": [],
   "source": [
    "# Quantify ID 485\n",
    "!kallisto quant \\\n",
    "-i kallisto_hemat_index_v1.6.idx \\\n",
    "-o ../kallisto_libraries_hemat_transcriptomev1.6/id485 \\\n",
    "../../data/libraries/485_R1_001.fastp-trim.202003181245.fq.gz \\\n",
    "../../data/libraries/485_R2_001.fastp-trim.202003181245.fq.gz \\\n",
    "2>> ../kallisto_libraries_hemat_transcriptomev1.6/std_errortracking.txt"
   ]
  },
  {
   "cell_type": "code",
   "execution_count": null,
   "metadata": {},
   "outputs": [],
   "source": [
    "# Quantify ID 151\n",
    "!kallisto quant \\\n",
    "-i kallisto_hemat_index_v1.6.idx \\\n",
    "-o ../kallisto_libraries_hemat_transcriptomev1.6/id151 \\\n",
    "../../data/libraries/151_R1_001.fastp-trim.202003180619.fq.gz \\\n",
    "../../data/libraries/151_R2_001.fastp-trim.202003180619.fq.gz \\\n",
    "2>> ../kallisto_libraries_hemat_transcriptomev1.6/std_errortracking.txt"
   ]
  },
  {
   "cell_type": "code",
   "execution_count": null,
   "metadata": {},
   "outputs": [],
   "source": [
    "# Quantify ID 254\n",
    "!kallisto quant \\\n",
    "-i kallisto_hemat_index_v1.6.idx \\\n",
    "-o ../kallisto_libraries_hemat_transcriptomev1.6/id254 \\\n",
    "../../data/libraries/254_R1_001.fastp-trim.202003184228.fq.gz \\\n",
    "../../data/libraries/254_R2_001.fastp-trim.202003184228.fq.gz \\\n",
    "2>> ../kallisto_libraries_hemat_transcriptomev1.6/std_errortracking.txt"
   ]
  },
  {
   "cell_type": "code",
   "execution_count": null,
   "metadata": {},
   "outputs": [],
   "source": [
    "# Quantify ID 445\n",
    "!kallisto quant \\\n",
    "-i kallisto_hemat_index_v1.6.idx \\\n",
    "-o ../kallisto_libraries_hemat_transcriptomev1.6/id445 \\\n",
    "../../data/libraries/445_R1_001.fastp-trim.202003185018.fq.gz \\\n",
    "../../data/libraries/445_R2_001.fastp-trim.202003185018.fq.gz \\\n",
    "2>> ../kallisto_libraries_hemat_transcriptomev1.6/std_errortracking.txt"
   ]
  },
  {
   "cell_type": "markdown",
   "metadata": {},
   "source": [
    "Continue with building libraries for pooled samples"
   ]
  },
  {
   "cell_type": "code",
   "execution_count": null,
   "metadata": {},
   "outputs": [],
   "source": [
    "# Quantify 380821\n",
    "!kallisto quant \\\n",
    "-i kallisto_hemat_index_v1.6.idx \\\n",
    "-o ../kallisto_libraries_hemat_transcriptomev1.6/id380821 \\\n",
    "../../data/libraries/380821_S2_R1_001.fastp-trim.fq.gz \\\n",
    "../../data/libraries/380821_S2_R2_001.fastp-trim.fq.gz \\\n",
    "2>> ../kallisto_libraries_hemat_transcriptomev1.6/std_errortracking.txt"
   ]
  },
  {
   "cell_type": "code",
   "execution_count": null,
   "metadata": {},
   "outputs": [],
   "source": [
    "# Quantify 380823\n",
    "!kallisto quant \\\n",
    "-i kallisto_hemat_index_v1.6.idx \\\n",
    "-o ../kallisto_libraries_hemat_transcriptomev1.6/id380823 \\\n",
    "../../data/libraries/380823_S4_R1_001.fastp-trim.fq.gz \\\n",
    "../../data/libraries/380823_S4_R2_001.fastp-trim.fq.gz \\\n",
    "2>> ../kallisto_libraries_hemat_transcriptomev1.6/std_errortracking.txt"
   ]
  },
  {
   "cell_type": "code",
   "execution_count": null,
   "metadata": {},
   "outputs": [],
   "source": [
    "# Quantify 380825\n",
    "!kallisto quant \\\n",
    "-i kallisto_hemat_index_v1.6.idx \\\n",
    "-o ../kallisto_libraries_hemat_transcriptomev1.6/id380825 \\\n",
    "../../data/libraries/380825_S6_R1_001.fastp-trim.fq.gz \\\n",
    "../../data/libraries/380825_S6_R2_001.fastp-trim.fq.gz \\\n",
    "2>> ../kallisto_libraries_hemat_transcriptomev1.6/std_errortracking.txt"
   ]
  },
  {
   "cell_type": "markdown",
   "metadata": {},
   "source": [
    "## Move kallisto libraries to local machine\n",
    "\n",
    "Commands from here are ran on local machine unless otherwise specified"
   ]
  },
  {
   "cell_type": "code",
   "execution_count": 1,
   "metadata": {},
   "outputs": [
    {
     "name": "stdout",
     "output_type": "stream",
     "text": [
      "/mnt/c/Users/acoyl/Documents/GitHub/hemat_bairdi_transcriptome/scripts\n"
     ]
    }
   ],
   "source": [
    "!pwd"
   ]
  },
  {
   "cell_type": "code",
   "execution_count": null,
   "metadata": {},
   "outputs": [],
   "source": [
    "# Download files from remote machine to local directory. Run this on command line directly, as interactivity is needed\n",
    "!rsync -chavzP --stats \\\n",
    "afcoyle@roadrunner.fish.washington.edu:/home/afcoyle/projects/hemat_bairdi_transcriptome/output/kallisto_libraries_hemat_transcriptomev1.6/* \\\n",
    "/mnt/c/Users/acoyl/Documents/GitHub/hemat_bairdi_transcriptome/output/kallisto_libraries/hemat_transcriptomev1.6/"
   ]
  },
  {
   "cell_type": "markdown",
   "metadata": {},
   "source": [
    "## Begin building transcript expression matrices\n",
    "Again, we are using hemat_transcriptomev1.6, which only includes sequences whose taxa matched to Alveolata"
   ]
  },
  {
   "cell_type": "markdown",
   "metadata": {},
   "source": [
    "Now working on local machine. Build matrices to compare Day 0/2 ambient-temperature crabs vs. Day 2 elevated-temperature crabs\n",
    "\n",
    "#### This utilizes a perl script from the Trinity pipeline, available [here](https://github.com/trinityrnaseq/trinityrnaseq/wiki/Trinity-Transcript-Quantification)"
   ]
  },
  {
   "cell_type": "code",
   "execution_count": 1,
   "metadata": {},
   "outputs": [
    {
     "name": "stdout",
     "output_type": "stream",
     "text": [
      "/mnt/c/Users/acoyl/Documents/GitHub/hemat_bairdii_transcriptome/scripts\n"
     ]
    }
   ],
   "source": [
    "!pwd"
   ]
  },
  {
   "cell_type": "markdown",
   "metadata": {},
   "source": [
    "#### Elevated Day 0 vs. Elevated Day 2, individual libraries only\n",
    "\n",
    "Build a matrix to compare infected individual Elevated libraries from Day 0 with individual Elevated libraries from Day 2. Reminder: Day 0 samples were taken when all crabs were held at ambient-temperature waters, and the same crabs were sampled on Day 0 and Day 2.\n",
    "\n",
    "Effectively, this compares the same infected crab prior to exposure to elevated temps and post-exposure."
   ]
  },
  {
   "cell_type": "code",
   "execution_count": 3,
   "metadata": {},
   "outputs": [
    {
     "name": "stdout",
     "output_type": "stream",
     "text": [
      "-reading file: ../output/kallisto_libraries/hemat_transcriptomev1.6/id173/abundance.tsv\n",
      "-reading file: ../output/kallisto_libraries/hemat_transcriptomev1.6/id072/abundance.tsv\n",
      "-reading file: ../output/kallisto_libraries/hemat_transcriptomev1.6/id127/abundance.tsv\n",
      "-reading file: ../output/kallisto_libraries/hemat_transcriptomev1.6/id272/abundance.tsv\n",
      "-reading file: ../output/kallisto_libraries/hemat_transcriptomev1.6/id294/abundance.tsv\n",
      "-reading file: ../output/kallisto_libraries/hemat_transcriptomev1.6/id280/abundance.tsv\n",
      "\n",
      "\n",
      "* Outputting combined matrix.\n",
      "\n",
      "/mnt/c/Users/acoyl/Documents/GradSchool/RobertsLab/Tools/Trinity/trinityrnaseq-v2.11.0/util/support_scripts/run_TMM_scale_matrix.pl --matrix kallisto.isoform.TPM.not_cross_norm > kallisto.isoform.TMM.EXPR.matrixCMD: R --no-save --no-restore --no-site-file --no-init-file -q < kallisto.isoform.TPM.not_cross_norm.runTMM.R 1>&2 \n",
      "/mnt/c/Users/acoyl/Downloads/anaconda3/lib/R/bin/exec/R: error while loading shared libraries: libreadline.so.6: cannot open shared object file: No such file or directory\n",
      "Error, cmd: R --no-save --no-restore --no-site-file --no-init-file -q < kallisto.isoform.TPM.not_cross_norm.runTMM.R 1>&2  died with ret (32512)  at /mnt/c/Users/acoyl/Documents/GradSchool/RobertsLab/Tools/Trinity/trinityrnaseq-v2.11.0/util/support_scripts/run_TMM_scale_matrix.pl line 105.\n",
      "Error, CMD: /mnt/c/Users/acoyl/Documents/GradSchool/RobertsLab/Tools/Trinity/trinityrnaseq-v2.11.0/util/support_scripts/run_TMM_scale_matrix.pl --matrix kallisto.isoform.TPM.not_cross_norm > kallisto.isoform.TMM.EXPR.matrix died with ret 6400 at ../../../GradSchool/RobertsLab/Tools/Trinity/trinityrnaseq-v2.11.0/util/abundance_estimates_to_matrix.pl line 385.\n"
     ]
    }
   ],
   "source": [
    "# Use the perl script from Trinity to create matrix. Output will appear to have errors, but runs just fine for our purposes - all we need is the kallisto.isoform.counts.matrix file\n",
    "!../../../GradSchool/RobertsLab/Tools/Trinity/trinityrnaseq-v2.11.0/util/abundance_estimates_to_matrix.pl \\\n",
    "--est_method kallisto \\\n",
    "--gene_trans_map 'none' \\\n",
    "--out_prefix kallisto \\\n",
    "--name_sample_by_basedir \\\n",
    "../output/kallisto_libraries/hemat_transcriptomev1.6/id173/abundance.tsv \\\n",
    "../output/kallisto_libraries/hemat_transcriptomev1.6/id072/abundance.tsv \\\n",
    "../output/kallisto_libraries/hemat_transcriptomev1.6/id127/abundance.tsv \\\n",
    "../output/kallisto_libraries/hemat_transcriptomev1.6/id272/abundance.tsv \\\n",
    "../output/kallisto_libraries/hemat_transcriptomev1.6/id294/abundance.tsv \\\n",
    "../output/kallisto_libraries/hemat_transcriptomev1.6/id280/abundance.tsv"
   ]
  },
  {
   "cell_type": "code",
   "execution_count": 5,
   "metadata": {},
   "outputs": [],
   "source": [
    "# Since the script outputs files in the working directory without an \n",
    "# option to change output dir, move all output over manually\n",
    "!mv kallisto.isoform.* ../output/kallisto_matrices/hemat_transcriptomev1.6/elev0_vs_elev2_indiv/"
   ]
  },
  {
   "cell_type": "markdown",
   "metadata": {},
   "source": [
    "#### Ambient Day 2 vs. Elevated Day 2, individual libraries only"
   ]
  },
  {
   "cell_type": "code",
   "execution_count": 7,
   "metadata": {},
   "outputs": [
    {
     "name": "stdout",
     "output_type": "stream",
     "text": [
      "-reading file: ../output/kallisto_libraries/hemat_transcriptomev1.6/id359/abundance.tsv\n",
      "-reading file: ../output/kallisto_libraries/hemat_transcriptomev1.6/id349/abundance.tsv\n",
      "-reading file: ../output/kallisto_libraries/hemat_transcriptomev1.6/id334/abundance.tsv\n",
      "-reading file: ../output/kallisto_libraries/hemat_transcriptomev1.6/id272/abundance.tsv\n",
      "-reading file: ../output/kallisto_libraries/hemat_transcriptomev1.6/id294/abundance.tsv\n",
      "-reading file: ../output/kallisto_libraries/hemat_transcriptomev1.6/id280/abundance.tsv\n",
      "\n",
      "\n",
      "* Outputting combined matrix.\n",
      "\n",
      "/mnt/c/Users/acoyl/Documents/GradSchool/RobertsLab/Tools/Trinity/trinityrnaseq-v2.11.0/util/support_scripts/run_TMM_scale_matrix.pl --matrix kallisto.isoform.TPM.not_cross_norm > kallisto.isoform.TMM.EXPR.matrixCMD: R --no-save --no-restore --no-site-file --no-init-file -q < kallisto.isoform.TPM.not_cross_norm.runTMM.R 1>&2 \n",
      "/mnt/c/Users/acoyl/Downloads/anaconda3/lib/R/bin/exec/R: error while loading shared libraries: libreadline.so.6: cannot open shared object file: No such file or directory\n",
      "Error, cmd: R --no-save --no-restore --no-site-file --no-init-file -q < kallisto.isoform.TPM.not_cross_norm.runTMM.R 1>&2  died with ret (32512)  at /mnt/c/Users/acoyl/Documents/GradSchool/RobertsLab/Tools/Trinity/trinityrnaseq-v2.11.0/util/support_scripts/run_TMM_scale_matrix.pl line 105.\n",
      "Error, CMD: /mnt/c/Users/acoyl/Documents/GradSchool/RobertsLab/Tools/Trinity/trinityrnaseq-v2.11.0/util/support_scripts/run_TMM_scale_matrix.pl --matrix kallisto.isoform.TPM.not_cross_norm > kallisto.isoform.TMM.EXPR.matrix died with ret 6400 at ../../../GradSchool/RobertsLab/Tools/Trinity/trinityrnaseq-v2.11.0/util/abundance_estimates_to_matrix.pl line 385.\n"
     ]
    }
   ],
   "source": [
    "# Use the perl script from Trinity to create matrix. Output will appear to have errors, but runs just fine for our purposes - all we need is the kallisto.isoform.counts.matrix file\n",
    "!../../../GradSchool/RobertsLab/Tools/Trinity/trinityrnaseq-v2.11.0/util/abundance_estimates_to_matrix.pl \\\n",
    "--est_method kallisto \\\n",
    "--gene_trans_map 'none' \\\n",
    "--out_prefix kallisto \\\n",
    "--name_sample_by_basedir \\\n",
    "../output/kallisto_libraries/hemat_transcriptomev1.6/id359/abundance.tsv \\\n",
    "../output/kallisto_libraries/hemat_transcriptomev1.6/id349/abundance.tsv \\\n",
    "../output/kallisto_libraries/hemat_transcriptomev1.6/id334/abundance.tsv \\\n",
    "../output/kallisto_libraries/hemat_transcriptomev1.6/id272/abundance.tsv \\\n",
    "../output/kallisto_libraries/hemat_transcriptomev1.6/id294/abundance.tsv \\\n",
    "../output/kallisto_libraries/hemat_transcriptomev1.6/id280/abundance.tsv"
   ]
  },
  {
   "cell_type": "code",
   "execution_count": 8,
   "metadata": {},
   "outputs": [],
   "source": [
    "# Since the script outputs files in the working directory without an \n",
    "# option to change output dir, move all output over manually\n",
    "!mv kallisto.isoform.* ../output/kallisto_matrices/hemat_transcriptomev1.6/amb2_vs_elev2_indiv/"
   ]
  },
  {
   "cell_type": "markdown",
   "metadata": {},
   "source": [
    "This completes our kallisto analysis and matrix creation. Move to the Rmd file 32_kallisto_to_deseq_to_accessionIDs to begin differential gene expression analysis using DESeq2"
   ]
  },
  {
   "cell_type": "code",
   "execution_count": null,
   "metadata": {},
   "outputs": [],
   "source": []
  }
 ],
 "metadata": {
  "kernelspec": {
   "display_name": "Python 3",
   "language": "python",
   "name": "python3"
  },
  "language_info": {
   "codemirror_mode": {
    "name": "ipython",
    "version": 3
   },
   "file_extension": ".py",
   "mimetype": "text/x-python",
   "name": "python",
   "nbconvert_exporter": "python",
   "pygments_lexer": "ipython3",
   "version": "3.8.3"
  }
 },
 "nbformat": 4,
 "nbformat_minor": 4
}
