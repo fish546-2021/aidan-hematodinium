{
 "cells": [
  {
   "cell_type": "markdown",
   "metadata": {},
   "source": [
    "Aidan Coyle, afcoyle@uw.edu\n",
    "\n",
    "2021/01/20\n",
    "\n",
    "Roberts lab at SAFS\n",
    "\n",
    "### Removing duplicate lines from genes\n",
    "\n",
    "Completed getting all our GO terms! Now, time to get input for GO-MWU.\n",
    "We need 2 tables:\n",
    "- A 2-column table of genes and GO terms\n",
    "- A 2-column table of genes and unadjusted p-value without repeated genes\n",
    "\n",
    "The table of genes and unadjusted p-value is created using R in the script 05_GO-MWU_prep.R\n",
    "In getting GO terms, we made a 2-col tab-separated table of genes and GO terms.\n",
    "Now we need to eliminate all repeated genes. To do this, we'll use the nrify_GOtable.pl script. \n",
    "This can be found in the [GitHub repo for GO-MWU](https://github.com/z0on/GO_MWU)\n",
    "\n",
    "We'll put these files in a subdirectory within the scripts directory, as this is what GO-MWU calls for. All GO-MWU files are also within that directory"
   ]
  },
  {
   "cell_type": "code",
   "execution_count": 10,
   "metadata": {},
   "outputs": [
    {
     "data": {
      "text/plain": [
       "'/mnt/c/Users/acoyl/Documents/GitHub/hemat_bairdi_transcriptome/scripts'"
      ]
     },
     "execution_count": 10,
     "metadata": {},
     "output_type": "execute_result"
    }
   ],
   "source": [
    "pwd"
   ]
  },
  {
   "cell_type": "code",
   "execution_count": 17,
   "metadata": {},
   "outputs": [],
   "source": [
    "# Eliminate gene repeats, concatenate GO terms for Elevated Day 2 vs. Ambient Day 0+2, indiv. libraries only\n",
    "!06_running_GO-MWU/./nrify_GOtable.pl ../output/accession_n_GOids/cbai_hemat_transcriptomev2.0/allgenes_IDs/elev2_vs_amb02_indiv_only_All_GOIDs.txt > 06_running_GO-MWU/cbaihemat2.0_elev2_vs_amb02_indiv_only_GOIDs_norepeats.txt"
   ]
  },
  {
   "cell_type": "code",
   "execution_count": 19,
   "metadata": {},
   "outputs": [
    {
     "name": "stdout",
     "output_type": "stream",
     "text": [
      "41479 06_running_GO-MWU/cbaihemat2.0_elev2_vs_amb02_indiv_only_GOIDs_norepeats.txt\n"
     ]
    }
   ],
   "source": [
    "# See length of file without repeats\n",
    "!wc -l 06_running_GO-MWU/cbaihemat2.0_elev2_vs_amb02_indiv_only_GOIDs_norepeats.txt"
   ]
  },
  {
   "cell_type": "code",
   "execution_count": 20,
   "metadata": {},
   "outputs": [
    {
     "name": "stdout",
     "output_type": "stream",
     "text": [
      "41479\n"
     ]
    }
   ],
   "source": [
    "# Manually see how many repeats we have - looks indentical, script running properly\n",
    "!sort ../output/accession_n_GOids/cbai_hemat_transcriptomev2.0/allgenes_IDs/elev2_vs_amb02_indiv_only_All_GOIDs.txt | uniq | wc -l"
   ]
  },
  {
   "cell_type": "code",
   "execution_count": 11,
   "metadata": {},
   "outputs": [],
   "source": [
    "# Continue with comparison of Day 2 Elevated vs. Ambient Day 0+2+17 + Elev. Day 0 + Lowered Day 0\n",
    "!06_running_GO-MWU/./nrify_GOtable.pl ../output/accession_n_GOids/cbai_hemat_transcriptomev2.0/allgenes_IDs/amb0217_elev0_low0_vs_elev2_All_GOIDs.txt > 06_running_GO-MWU/cbaihemat2.0_amb0217_elev0_low0_vs_elev2_GOIDs_norepeats.txt"
   ]
  },
  {
   "cell_type": "code",
   "execution_count": 12,
   "metadata": {},
   "outputs": [],
   "source": [
    "# Continue with comparison of Day 0 Elevated vs. Day 2 Elevated, individual libraries only\n",
    "!06_running_GO-MWU/./nrify_GOtable.pl ../output/accession_n_GOids/cbai_hemat_transcriptomev2.0/allgenes_IDs/elev0_vs_elev2_indiv_All_GOIDs.txt > 06_running_GO-MWU/cbaihemat2.0_elev0_vs_elev2_indiv_GOIDs_norepeats.txt"
   ]
  },
  {
   "cell_type": "code",
   "execution_count": 13,
   "metadata": {},
   "outputs": [],
   "source": [
    "# Continue with comparison of Day 0 Elevated vs. Day 2 Elevated, individual libraries only\n",
    "!06_running_GO-MWU/./nrify_GOtable.pl ../output/accession_n_GOids/cbai_hemat_transcriptomev2.0/allgenes_IDs/amb0_vs_amb2_indiv_All_GOIDs.txt > 06_running_GO-MWU/cbaihemat2.0_amb0_vs_amb2_indiv_GOIDs_norepeats.txt"
   ]
  },
  {
   "cell_type": "code",
   "execution_count": 14,
   "metadata": {},
   "outputs": [],
   "source": [
    "# Continue with comparison of Day 0 Elevated vs. Day 2 Elevated, individual libraries only\n",
    "!06_running_GO-MWU/./nrify_GOtable.pl ../output/accession_n_GOids/cbai_hemat_transcriptomev2.0/allgenes_IDs/amb0_vs_amb17_indiv_All_GOIDs.txt > 06_running_GO-MWU/cbaihemat2.0_amb0_vs_amb17_indiv_GOIDs_norepeats.txt"
   ]
  },
  {
   "cell_type": "code",
   "execution_count": 15,
   "metadata": {},
   "outputs": [],
   "source": [
    "# Continue with comparison of Day 0 Elevated vs. Day 2 Elevated, individual libraries only\n",
    "!06_running_GO-MWU/./nrify_GOtable.pl ../output/accession_n_GOids/cbai_hemat_transcriptomev2.0/allgenes_IDs/amb2_vs_amb17_indiv_All_GOIDs.txt > 06_running_GO-MWU/cbaihemat2.0_amb2_vs_amb17_indiv_GOIDs_norepeats.txt"
   ]
  },
  {
   "cell_type": "code",
   "execution_count": 16,
   "metadata": {},
   "outputs": [],
   "source": [
    "# Continue with comparison of Day 2 Ambient vs. Day 2 Elevated, individual libraries only\n",
    "!06_running_GO-MWU/./nrify_GOtable.pl ../output/accession_n_GOids/cbai_hemat_transcriptomev2.0/allgenes_IDs/amb2_vs_elev2_indiv_All_GOIDs.txt > 06_running_GO-MWU/cbaihemat2.0_amb2_vs_elev2_indiv_GOIDs_norepeats.txt"
   ]
  },
  {
   "cell_type": "markdown",
   "metadata": {},
   "source": [
    "Well done! Each comparison should now have one of our two inputs needed for GO-MWU. Continue to 15_GO-MWU_prep.R to create the other input."
   ]
  }
 ],
 "metadata": {
  "kernelspec": {
   "display_name": "Python 3",
   "language": "python",
   "name": "python3"
  },
  "language_info": {
   "codemirror_mode": {
    "name": "ipython",
    "version": 3
   },
   "file_extension": ".py",
   "mimetype": "text/x-python",
   "name": "python",
   "nbconvert_exporter": "python",
   "pygments_lexer": "ipython3",
   "version": "3.8.3"
  }
 },
 "nbformat": 4,
 "nbformat_minor": 4
}
