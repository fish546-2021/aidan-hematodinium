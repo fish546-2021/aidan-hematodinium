{
 "cells": [
  {
   "cell_type": "markdown",
   "metadata": {},
   "source": [
    "This file solely exists to check the progress of processes running, do exploratory data checks, etc. Can safely be deleted"
   ]
  },
  {
   "cell_type": "code",
   "execution_count": 2,
   "metadata": {},
   "outputs": [
    {
     "data": {
      "text/plain": [
       "'/mnt/c/Users/acoyl/Documents/GitHub/hemat_bairdii_transcriptome/scripts'"
      ]
     },
     "execution_count": 2,
     "metadata": {},
     "output_type": "execute_result"
    }
   ],
   "source": [
    "pwd"
   ]
  },
  {
   "cell_type": "code",
   "execution_count": 13,
   "metadata": {},
   "outputs": [
    {
     "name": "stdout",
     "output_type": "stream",
     "text": [
      "/bin/bash: line 0: cd: ../output/signif_accession_ids: No such file or directory\n"
     ]
    }
   ],
   "source": [
    "!cd ../output/signif_accession_ids"
   ]
  },
  {
   "cell_type": "code",
   "execution_count": 6,
   "metadata": {},
   "outputs": [
    {
     "name": "stdout",
     "output_type": "stream",
     "text": [
      "66590 ../output/accession_n_GOids/allgenes_IDs/Elev_vsLow_All_GOIDs.txt\n"
     ]
    }
   ],
   "source": [
    "!wc -l ../output/accession_n_GOids/allgenes_IDs/Elev_vsLow_All_GOIDs.txt"
   ]
  },
  {
   "cell_type": "code",
   "execution_count": 3,
   "metadata": {},
   "outputs": [
    {
     "name": "stdout",
     "output_type": "stream",
     "text": [
      "66594 ../output/accession_n_GOids/allgenes_IDs/Elev_vsLow_All_GeneIDs.txt\n"
     ]
    }
   ],
   "source": [
    "!wc -l ../output/accession_n_GOids/allgenes_IDs/Elev_vsLow_All_GeneIDs.txt"
   ]
  },
  {
   "cell_type": "code",
   "execution_count": null,
   "metadata": {},
   "outputs": [],
   "source": []
  }
 ],
 "metadata": {
  "kernelspec": {
   "display_name": "Python 3",
   "language": "python",
   "name": "python3"
  },
  "language_info": {
   "codemirror_mode": {
    "name": "ipython",
    "version": 3
   },
   "file_extension": ".py",
   "mimetype": "text/x-python",
   "name": "python",
   "nbconvert_exporter": "python",
   "pygments_lexer": "ipython3",
   "version": "3.8.3"
  }
 },
 "nbformat": 4,
 "nbformat_minor": 4
}
