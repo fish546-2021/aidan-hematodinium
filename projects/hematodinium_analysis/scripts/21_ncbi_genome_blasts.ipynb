{
 "cells": [
  {
   "cell_type": "markdown",
   "metadata": {},
   "source": [
    "# BLASTing Transcriptome 2.0 Against Genomes from NCBI"
   ]
  },
  {
   "cell_type": "markdown",
   "metadata": {},
   "source": [
    "Aidan Coyle, afcoyle@uw.edu\n",
    "\n",
    "Roberts Lab, UW-SAFS\n",
    "\n",
    "2021-03-02"
   ]
  },
  {
   "cell_type": "markdown",
   "metadata": {},
   "source": [
    "## Script Description\n",
    "\n",
    "This script takes a transcriptome of mixed _Chionoecetes bairdi_ and _Hematodinium sp._ and BLASTs it against genomes closely-related to the two species downloaded from NCBI. The purpose of this is to determine which sequences in our transcriptome originate from _C. bairdi_ and which originate from _Hematodinium sp._.\n",
    "\n",
    "The most closely related genome to _C. bairdi_ is a _C. opilio_ genome, and the most closely-related to _Hematodinium sp._ is _Amoebophyra sp._\n",
    "\n",
    "To speed up the processing time, we will run these jobs on Mox, meaning that commands will generally be copy-pasted rather than ran directly in this notebook\n",
    "\n",
    "### Transcriptome: \n",
    "\n",
    "By Roberts Lab notation, cbai_transcriptome_v2.0.fasta, or 20200507.C_bairdi.Trinity.fasta\n",
    "\n",
    "Created **with no taxonomic filter**, meaning that it contains both _C. bairdi_ and _Hematodinium_ sequences\n",
    "\n",
    "[Directly available here](https://owl.fish.washington.edu/halfshell/genomic-databank/cbai_transcriptome_v2.0.fasta), and [lab notebook describing creation available here](https://robertslab.github.io/sams-notebook/2020/05/02/Transcriptome-Assembly-C.bairdi-All-RNAseq-Data-Without-Taxonomic-Filters-with-Trinity-on-Mox.html)\n",
    "\n",
    "### _Chionoecetes opilio_ genome\n",
    "\n",
    "FASTA file containing all protein sequences from the snow crab genome, _Chionoecetes opilio_. This is the most closely-related publically available genome to _C. bairdi_ at time of writing. Snow crab and Tanner crab are extremely closely related - in fact, they can hybridize - so our BLAST should be quite good at specifically pulling _Chionoecetes_ sequences.\n",
    "\n",
    "Importantly, in our BLAST, we will build our database from **protein** sequences, not nucleotide sequences. Since our transcriptome contains nucleotide sequences, we will use BLASTx, not BLASTn\n",
    "\n",
    "The genome is available from the [NCBI taxonomy browser](https://www.ncbi.nlm.nih.gov/Taxonomy/Browser/wwwtax.cgi). Here is a [specific link to the genome](https://www.ncbi.nlm.nih.gov/genome/?term=txid41210[Organism:exp]). Genome was assembled by researchers at Seoul National University and submitted on 2021-01-08. To download the protein sequences we will be using, follow [this link](https://ftp.ncbi.nlm.nih.gov/genomes/all/GCA/016/584/305/GCA_016584305.1_ASM1658430v1/GCA_016584305.1_ASM1658430v1_protein.faa.gz).\n",
    "\n",
    "### _Amoebophyra sp._ genome\n",
    "\n",
    "FASTA file containing all nucleotide sequences from the genome of the parasitic dinoflagellate _Amoebophyra sp._. _Amoebophyra sp_. and _Hematodinium sp_. are far more distantly-related than _C. opilio_ and _C. bairdi_, but the two parasitic dinoflagellates do share an order - Syndinea. Therefore, our BLAST may not be quite as accurate at IDing which sequences originate from _Hematodinium_, particularly as parasite genomes tend to be reduced somewhat. However, it is the most closely-related available genome, and should hopefully be able to accurately describe which sequences in our transcriptome originate from _Hematodinium_.\n",
    "\n",
    "As background, _Amoebophyra sp._ is a parasite of other dinoflagellates, while _Hematodinium sp._ is, of course, a parasite of crustaceans.\n",
    "\n",
    "Importantly, this genome does not have protein sequences available, and so our BLAST will involve a comparison of nucleotide sequences, meaning we will use BLASTn.\n",
    "\n",
    "The genome is available from the [NCBI taxonomy browser](https://www.ncbi.nlm.nih.gov/Taxonomy/Browser/wwwtax.cgi). Here is a [specific link to the genome](https://www.ncbi.nlm.nih.gov/genome/?term=txid1775427[Organism:exp]). Genome was assembled as part of [John et al. 2019 \"An aerobic eukaryotic parasite with functional mitochondria that likely lacks a mitochondrial genome\", _Scientific Advances_ 5(4): DOI: 10.1126/sciadv.aav1110](https://pubmed.ncbi.nlm.nih.gov/31032404/)\n",
    "\n",
    "To download the nucleotide sequences we will be using, follow [this link](https://ftp.ncbi.nlm.nih.gov/genomes/all/GCA/005/223/375/GCA_005223375.1_ASM522337v1/GCA_005223375.1_ASM522337v1_genomic.fna.gz)\n",
    "\n",
    "### Mox\n",
    "\n",
    "We will be running most commands (except the slurm script) from the login node of Mox (specifically /gscratch/srlab/afcoyle). Generally, commands prefaced with a ! indicate that it was ran on the local machine. Standard commands were ran on either Mox or Gannet, as indicated by notes"
   ]
  },
  {
   "cell_type": "code",
   "execution_count": null,
   "metadata": {},
   "outputs": [],
   "source": [
    "# Download C. opilio protein sequences from genome\n",
    "[afcoyle@mox2 afcoyle]$ curl -o projects/21_ncbi_genome_blasts/data/opilio_genome.fasta.gz \\\n",
    "-k https://ftp.ncbi.nlm.nih.gov/genomes/all/GCA/016/584/305/GCA_016584305.1_ASM1658430v1/GCA_016584305.1_ASM1658430v1_protein.faa.gz"
   ]
  },
  {
   "cell_type": "code",
   "execution_count": null,
   "metadata": {},
   "outputs": [],
   "source": [
    "# Unzip\n",
    "[afcoyle@mox2 afcoyle]$ gunzip projects/21_ncbi_genome_blasts/data/opilio_genome.fasta.gz"
   ]
  },
  {
   "cell_type": "code",
   "execution_count": null,
   "metadata": {},
   "outputs": [],
   "source": [
    "# Download Amoebophyra sp. genome\n",
    "[afcoyle@mox2 afcoyle]$ curl -o projects/21_ncbi_genome_blasts/data/amoebo_genome.fasta.gz \\\n",
    "-k https://ftp.ncbi.nlm.nih.gov/genomes/all/GCA/005/223/375/GCA_005223375.1_ASM522337v1/GCA_005223375.1_ASM522337v1_genomic.fna.gz"
   ]
  },
  {
   "cell_type": "code",
   "execution_count": null,
   "metadata": {},
   "outputs": [],
   "source": [
    "# Unzip\n",
    "[afcoyle@mox2 afcoyle]$ gunzip projects/21_ncbi_genome_blasts/data/amoebo_genome.fasta.gz"
   ]
  },
  {
   "cell_type": "code",
   "execution_count": null,
   "metadata": {},
   "outputs": [],
   "source": [
    "# Download Transcriptome v2.0\n",
    "[afcoyle@mox2 afcoyle]$ curl -o projects/21_ncbi_genome_blasts/data/cbai_hemat_transcriptomev2.0.fasta \\\n",
    "> -k https://owl.fish.washington.edu/halfshell/genomic-databank/cbai_transcriptome_v2.0.fasta\n",
    "\n",
    "#  % Total    % Received % Xferd  Average Speed   Time    Time     Time  Current\n",
    "#                                 Dload  Upload   Total   Spent    Left  Speed\n",
    "# 100  903M  100  903M    0     0  26.9M      0  0:00:33  0:00:33 --:--:-- 28.0M"
   ]
  },
  {
   "cell_type": "code",
   "execution_count": null,
   "metadata": {},
   "outputs": [],
   "source": [
    "# Check against checksum for Transcriptome v2.0\n",
    "[afcoyle@mox2 afcoyle]$ md5sum projects/21_ncbi_genome_blasts/data/cbai_hemat_transcriptomev2.0.fasta \\\n",
    "| grep 01adbd54298495c147767b19ee5c0de9"
   ]
  },
  {
   "cell_type": "code",
   "execution_count": null,
   "metadata": {},
   "outputs": [],
   "source": [
    "# Create blast database for opilio genome\n",
    "[afcoyle@mox2 afcoyle]$ /gscratch/srlab/programs/ncbi-blast-2.8.1+/bin/makeblastdb \\\n",
    "> -in projects/21_ncbi_genome_blasts/data/opilio_genome.fasta \\\n",
    "> -dbtype prot \\\n",
    "> -parse_seqids \\\n",
    "> -out projects/21_ncbi_genome_blasts/output/blastdbs/opilio/opilio_blastdb\n",
    "\n",
    "\n",
    "# Building a new DB, current time: 03/02/2021 21:33:13\n",
    "# New DB name:   /gscratch/srlab/afcoyle/projects/21_ncbi_genome_blasts/output/blastdbs/opilio/opilio_blastdb\n",
    "# New DB title:  projects/21_ncbi_genome_blasts/data/opilio_genome.fasta\n",
    "# Sequence type: Protein\n",
    "# Keep MBits: T\n",
    "# Maximum file size: 1000000000B\n",
    "# Adding sequences from FASTA; added 22637 sequences in 0.909929 seconds."
   ]
  },
  {
   "cell_type": "code",
   "execution_count": null,
   "metadata": {},
   "outputs": [],
   "source": [
    "# Create blast database for amoebo genome\n",
    "[afcoyle@mox2 afcoyle]$ /gscratch/srlab/programs/ncbi-blast-2.8.1+/bin/makeblastdb \\\n",
    "> -in projects/21_ncbi_genome_blasts/data/amoebo_genome.fasta \\\n",
    "> -dbtype nucl \\\n",
    "> -parse_seqids \\\n",
    "> -out projects/21_ncbi_genome_blasts/output/blastdbs/amoebo/amoebo_blastdb\n",
    "\n",
    "\n",
    "# Building a new DB, current time: 03/02/2021 22:52:11\n",
    "# New DB name:   /gscratch/srlab/afcoyle/projects/21_ncbi_genome_blasts/output/blastdbs/amoebo/amoebo_blastdb\n",
    "# New DB title:  projects/21_ncbi_genome_blasts/data/amoebo_genome.fasta\n",
    "# Sequence type: Nucleotide\n",
    "# Keep MBits: T\n",
    "# Maximum file size: 1000000000B\n",
    "# Adding sequences from FASTA; added 13796 sequences in 1.52016 seconds."
   ]
  },
  {
   "cell_type": "markdown",
   "metadata": {},
   "source": [
    "### Mox slurm script for opilio BLASTx\n",
    "\n",
    "Initial reference should be [here](https://github.com/afcoyle/hemat_bairdii_transcriptome/blob/main/scripts/slurm_scripts/20210302_opilio_blast.sh). However in case of repo reformatting breaking the link, the script is also copy-pasted below."
   ]
  },
  {
   "cell_type": "code",
   "execution_count": null,
   "metadata": {},
   "outputs": [],
   "source": [
    "#!/bin/bash\n",
    "## Job Name\n",
    "#SBATCH --job-name=afcoyle_opilioblast\n",
    "## Allocation Definition\n",
    "#SBATCH --account=srlab\n",
    "#SBATCH --partition=srlab\n",
    "## Resources\n",
    "## Nodes\n",
    "#SBATCH --nodes=1\n",
    "## Walltime (days-hours:minutes:seconds format)\n",
    "#SBATCH --time=1-12:00:00\n",
    "## Memory per node\n",
    "#SBATCH --mem=120G\n",
    "##turn on e-mail notification\n",
    "#SBATCH --mail-type=ALL\n",
    "#SBATCH --mail-user=afcoyle@uw.edu\n",
    "## Specify the working directory for this job\n",
    "#SBATCH --chdir=/gscratch/scrubbed/afcoyle\n",
    "\n",
    "\n",
    "/gscratch/srlab/programs/ncbi-blast-2.8.1+/bin/blastx \\\n",
    "-task=\"blastx\" \\\n",
    "-query /gscratch/srlab/afcoyle/projects/21_ncbi_genome_blasts/data/cbai_hemat_transcriptomev2.0.fasta \\\n",
    "-db /gscratch/srlab/afcoyle/projects/21_ncbi_genome_blasts/output/blastdbs/opilio/opilio_blastdb \\\n",
    "-out /gscratch/srlab/afcoyle/projects/21_ncbi_genome_blasts/output/blastres/opilio_blastres.tab \\\n",
    "-evalue 1E-05 \\\n",
    "-num_threads 40 \\\n",
    "-max_target_seqs 1 \\\n",
    "-outfmt 6                                                                                                           "
   ]
  },
  {
   "cell_type": "code",
   "execution_count": 3,
   "metadata": {},
   "outputs": [],
   "source": [
    "# Submitted the Mox script above for our opilio blast\n",
    "[afcoyle@mox1 afcoyle]$ sbatch jobs/20210302_opilio_blast.sh\n",
    "Submitted batch job 1608412"
   ]
  },
  {
   "cell_type": "markdown",
   "metadata": {},
   "source": [
    "### Mox slurm script for Amoebo BLASTn\n",
    "\n",
    "Initial reference should be [here](https://github.com/afcoyle/hemat_bairdii_transcriptome/blob/main/scripts/slurm_scripts/20210302_amoebo_blast.sh). However in case of repo reformatting breaking the link, the script is also copy-pasted below."
   ]
  },
  {
   "cell_type": "code",
   "execution_count": null,
   "metadata": {},
   "outputs": [],
   "source": [
    "#!/bin/bash\n",
    "## Job Name\n",
    "#SBATCH --job-name=afcoyle_amoeboblast\n",
    "## Allocation Definition\n",
    "#SBATCH --account=srlab\n",
    "#SBATCH --partition=srlab\n",
    "## Resources\n",
    "## Nodes\n",
    "#SBATCH --nodes=1\n",
    "## Walltime (days-hours:minutes:seconds format)\n",
    "#SBATCH --time=1-12:00:00\n",
    "## Memory per node\n",
    "#SBATCH --mem=120G\n",
    "##turn on e-mail notification\n",
    "#SBATCH --mail-type=ALL\n",
    "#SBATCH --mail-user=afcoyle@uw.edu\n",
    "## Specify the working directory for this job\n",
    "#SBATCH --chdir=/gscratch/scrubbed/afcoyle\n",
    "\n",
    "\n",
    "\n",
    "/gscratch/srlab/programs/ncbi-blast-2.8.1+/bin/blastn \\\n",
    "-task=\"blastn\" \\\n",
    "-query /gscratch/srlab/afcoyle/projects/21_ncbi_genome_blasts/data/cbai_hemat_transcriptomev2.0.fasta \\\n",
    "-db /gscratch/srlab/afcoyle/projects/21_ncbi_genome_blasts/output/blastdbs/amoebo/amoebo_blastdb \\\n",
    "-out /gscratch/srlab/afcoyle/projects/21_ncbi_genome_blasts/output/blastres/amoebo_blastres.tab \\\n",
    "-evalue 1E-05 \\\n",
    "-num_threads 40 \\\n",
    "-max_target_seqs 1 \\\n",
    "-outfmt 6"
   ]
  },
  {
   "cell_type": "code",
   "execution_count": null,
   "metadata": {},
   "outputs": [],
   "source": [
    "# Submit slurm script for amoebo blastn\n",
    "[afcoyle@mox1 afcoyle]$ sbatch jobs/20210302_amoebo_blast.sh\n",
    "Submitted batch job 1608413"
   ]
  },
  {
   "cell_type": "markdown",
   "metadata": {},
   "source": [
    "### Transfer Files to Gannet, then local machine"
   ]
  },
  {
   "cell_type": "code",
   "execution_count": null,
   "metadata": {},
   "outputs": [],
   "source": [
    "# Transfer opilio BLAST output from Mox to Gannet\n",
    "# These commands performed from a folder in Gannet\n",
    "# Gannet folder: /volume2/web/nerka/mox_transfers/scrubbed/\n",
    "rsync -avz --progress \\\n",
    "afcoyle@mox.hyak.uw.edu:/gscratch/srlab/afcoyle/projects/21_ncbi_genome_blasts/output/blastres/opilio_blastres.tab \\\n",
    "hemat_proj/"
   ]
  },
  {
   "cell_type": "code",
   "execution_count": null,
   "metadata": {},
   "outputs": [],
   "source": [
    "# Transfer amoebo BLAST output from Mox to Gannet, same folder\n",
    "rsync -avz --progress \\\n",
    "afcoyle@mox.hyak.uw.edu:/gscratch/srlab/afcoyle/projects/21_ncbi_genome_blasts/output/blastres/amoebo_blastres.tab \\\n",
    "hemat_proj/"
   ]
  },
  {
   "cell_type": "code",
   "execution_count": null,
   "metadata": {},
   "outputs": [],
   "source": [
    "# Transfer both BLAST outputs to local machine\n",
    "# Ran command from local machine\n",
    "# Using absolute path, as relative path fails\n",
    "rsync -chavzP --stats \\\n",
    "afcoyle@gannet.fish.washington.edu:/volume2/web/nerka/mox_transfers/scrubbed/hemat_proj \\\n",
    "/mnt/c/Users/acoyl/Documents/GitHub/hemat_bairdii_transcriptome/output/BLASTs/"
   ]
  },
  {
   "cell_type": "code",
   "execution_count": null,
   "metadata": {},
   "outputs": [],
   "source": [
    "# Move each file into a separate folder and rename for clarity\n",
    "!mv ../output/BLASTs/amoebo_blastres.tab ../output/BLASTs/amoebo_genome/cbai2.0_eval10_5_blastnres.tab"
   ]
  },
  {
   "cell_type": "code",
   "execution_count": null,
   "metadata": {},
   "outputs": [],
   "source": [
    "!mv ../output/BLASTs/opilio_blastres.tab ../output/BLASTs/opilio_genome/cbai2.0_eval10_5_blastxres.tab"
   ]
  },
  {
   "cell_type": "markdown",
   "metadata": {},
   "source": [
    "## Exploratory Analysis of BLAST results\n",
    "\n",
    "At this stage, since all relevant files are now on our local machine, we will revert to running commands directly in this Jupyter notebook rather than copy-pasting"
   ]
  },
  {
   "cell_type": "code",
   "execution_count": 2,
   "metadata": {},
   "outputs": [
    {
     "name": "stdout",
     "output_type": "stream",
     "text": [
      "1412254\n"
     ]
    }
   ],
   "source": [
    "# See how many sequences are in our original cbai_hemat transcriptome\n",
    "!grep -c \">\" ../data/transcriptomes/cbai_hemat_transcriptome_v2.0.fasta"
   ]
  },
  {
   "cell_type": "code",
   "execution_count": 12,
   "metadata": {},
   "outputs": [
    {
     "name": "stdout",
     "output_type": "stream",
     "text": [
      "439514 ../output/BLASTs/opilio_genome/cbai2.0_eval10_5_blastxres.tab\n"
     ]
    }
   ],
   "source": [
    "# See how many sequences got matched in our BLASTx against the opilio genome\n",
    "!wc -l ../output/BLASTs/opilio_genome/cbai2.0_eval10_5_blastxres.tab"
   ]
  },
  {
   "cell_type": "code",
   "execution_count": 11,
   "metadata": {},
   "outputs": [
    {
     "name": "stdout",
     "output_type": "stream",
     "text": [
      "39080 ../output/BLASTs/amoebo_genome/cbai2.0_eval10_5_blastnres.tab\n"
     ]
    }
   ],
   "source": [
    "# See how many sequences got matched in our BLASTn against the amoebo genome\n",
    "!wc -l ../output/BLASTs/amoebo_genome/cbai2.0_eval10_5_blastnres.tab"
   ]
  },
  {
   "cell_type": "markdown",
   "metadata": {},
   "source": [
    "That sums to ~480,000 total matches to both genomes combined out of 1.4 million sequences in the original transcriptome. This might be worth re-doing but with a lower e-value bar - maybe 10^-5 was too high. Still, with the majority of our sequences presumably belonging to _C. bairdi_, I definitely would've expected to see more matches to the opilio genome at least."
   ]
  },
  {
   "cell_type": "markdown",
   "metadata": {},
   "source": [
    "Alright, why wonder - let's redo the BLASTs, but with e-value set to 10^-3 instead of 10^-5! Slurm scripts will have just two changes from the two above: Evalue changed from 10^-5 to 10^-3, and output names changed to speciesabbr_highereval_blastres.tab. Still, for the sake of thoroughness, the full slurm scripts are pasted below. \n",
    "\n",
    "Note: I initially did this without changing the output names and accidentally overwrote our amoebo_blastres.tab and opilio_eval10_5_blastxres.tab files - luckily, we had already transferred them to both Gannet and our local machine! Lesson here: back your stuff up! "
   ]
  },
  {
   "cell_type": "markdown",
   "metadata": {},
   "source": [
    "# BLAST Round 2\n",
    "\n",
    "Again, we're performing two BLASTs - a BLASTn of cbai_transcriptomev2.0 (which contains both _C. bairdi_ and _Hematodinium_ sequences) against a genome for _Amoebophrya sp._ and a BLASTx against the protein sequences from the _Chionoecetes opilio_ genome. "
   ]
  },
  {
   "cell_type": "markdown",
   "metadata": {},
   "source": [
    "### Mox slurm script for BLASTx vs. _C. opilio_. \n",
    "\n",
    "Initial reference should be [here](https://github.com/afcoyle/hemat_bairdii_transcriptome/blob/main/scripts/slurm_scripts/20210303_opilio_blast.sh). However in case of repo reformatting breaking the link, the script is also copy-pasted below."
   ]
  },
  {
   "cell_type": "code",
   "execution_count": null,
   "metadata": {},
   "outputs": [],
   "source": [
    "#!/bin/bash\n",
    "## Job Name\n",
    "#SBATCH --job-name=afcoyle_opilioblast\n",
    "## Allocation Definition\n",
    "#SBATCH --account=srlab\n",
    "#SBATCH --partition=srlab\n",
    "## Resources\n",
    "## Nodes\n",
    "#SBATCH --nodes=1\n",
    "## Walltime (days-hours:minutes:seconds format)\n",
    "#SBATCH --time=1-12:00:00\n",
    "## Memory per node\n",
    "#SBATCH --mem=120G\n",
    "##turn on e-mail notification\n",
    "#SBATCH --mail-type=ALL\n",
    "#SBATCH --mail-user=afcoyle@uw.edu\n",
    "## Specify the working directory for this job\n",
    "#SBATCH --chdir=/gscratch/scrubbed/afcoyle\n",
    "\n",
    "\n",
    "/gscratch/srlab/programs/ncbi-blast-2.8.1+/bin/blastx \\\n",
    "-task=\"blastx\" \\\n",
    "-query /gscratch/srlab/afcoyle/projects/21_ncbi_genome_blasts/data/cbai_hemat_transcriptomev2.0.fasta \\\n",
    "-db /gscratch/srlab/afcoyle/projects/21_ncbi_genome_blasts/output/blastdbs/opilio/opilio_blastdb \\\n",
    "-out /gscratch/srlab/afcoyle/projects/21_ncbi_genome_blasts/output/blastres/opilio_highereval_blastres.tab \\\n",
    "-evalue 1E-03 \\\n",
    "-num_threads 40 \\\n",
    "-max_target_seqs 1 \\\n",
    "-outfmt 6"
   ]
  },
  {
   "cell_type": "code",
   "execution_count": null,
   "metadata": {},
   "outputs": [],
   "source": [
    "[afcoyle@mox2 afcoyle]$ sbatch jobs/20210303_opilio_blast.sh\n",
    "Submitted batch job 1611098"
   ]
  },
  {
   "cell_type": "markdown",
   "metadata": {},
   "source": [
    "### Mox slurm script for BLASTn vs. _Amoebophrya sp._\n",
    "\n",
    "Initial reference should be [here](https://github.com/afcoyle/hemat_bairdii_transcriptome/blob/main/scripts/slurm_scripts/20210303_amoebo_blast.sh). However in case of repo reformatting breaking the link, the script is also copy-pasted below."
   ]
  },
  {
   "cell_type": "code",
   "execution_count": null,
   "metadata": {},
   "outputs": [],
   "source": [
    "#!/bin/bash\n",
    "## Job Name\n",
    "#SBATCH --job-name=afcoyle_amoeboblast\n",
    "## Allocation Definition\n",
    "#SBATCH --account=srlab\n",
    "#SBATCH --partition=srlab\n",
    "## Resources\n",
    "## Nodes\n",
    "#SBATCH --nodes=1\n",
    "## Walltime (days-hours:minutes:seconds format)\n",
    "#SBATCH --time=1-12:00:00\n",
    "## Memory per node\n",
    "#SBATCH --mem=120G\n",
    "##turn on e-mail notification\n",
    "#SBATCH --mail-type=ALL\n",
    "#SBATCH --mail-user=afcoyle@uw.edu\n",
    "## Specify the working directory for this job\n",
    "#SBATCH --chdir=/gscratch/scrubbed/afcoyle\n",
    "\n",
    "\n",
    "\n",
    "/gscratch/srlab/programs/ncbi-blast-2.8.1+/bin/blastn \\\n",
    "-task=\"blastn\" \\\n",
    "-query /gscratch/srlab/afcoyle/projects/21_ncbi_genome_blasts/data/cbai_hemat_transcriptomev2.0.fasta \\\n",
    "-db /gscratch/srlab/afcoyle/projects/21_ncbi_genome_blasts/output/blastdbs/amoebo/amoebo_blastdb \\\n",
    "-out /gscratch/srlab/afcoyle/projects/21_ncbi_genome_blasts/output/blastres/amoebo_highereval_blastres.tab \\\n",
    "-evalue 1E-03 \\\n",
    "-num_threads 40 \\\n",
    "-max_target_seqs 1 \\\n",
    "-outfmt 6"
   ]
  },
  {
   "cell_type": "code",
   "execution_count": null,
   "metadata": {},
   "outputs": [],
   "source": [
    "[afcoyle@mox2 afcoyle]$ sbatch jobs/20210303_amoebo_blast.sh\n",
    "Submitted batch job 1611099"
   ]
  },
  {
   "cell_type": "markdown",
   "metadata": {},
   "source": [
    "## Transfer files from Mox to Gannet to local machine"
   ]
  },
  {
   "cell_type": "code",
   "execution_count": null,
   "metadata": {},
   "outputs": [],
   "source": [
    "# Transfer opilio BLAST output from Mox to Gannet\n",
    "# These commands performed from a folder in Gannet\n",
    "# Gannet folder: /volume2/web/nerka/mox_transfers/scrubbed/\n",
    "rsync -avz --progress \\\n",
    "afcoyle@mox.hyak.uw.edu:/gscratch/srlab/afcoyle/projects/21_ncbi_genome_blasts/output/blastres/opilio_highereval_blastres.tab \\\n",
    "hemat_proj/"
   ]
  },
  {
   "cell_type": "code",
   "execution_count": null,
   "metadata": {},
   "outputs": [],
   "source": [
    "# Transfer amoebo BLAST output from Mox to Gannet\n",
    "# These commands performed from a folder in Gannet\n",
    "# Gannet folder: /volume2/web/nerka/mox_transfers/scrubbed/\n",
    "rsync -avz --progress \\\n",
    "afcoyle@mox.hyak.uw.edu:/gscratch/srlab/afcoyle/projects/21_ncbi_genome_blasts/output/blastres/amoebo_highereval_blastres.tab \\\n",
    "hemat_proj/"
   ]
  },
  {
   "cell_type": "code",
   "execution_count": null,
   "metadata": {},
   "outputs": [],
   "source": [
    "# Check our md5sums to ensure correct transfer. Here's what they should be:\n",
    "# To obtain, run md5sum *highereval_blastres.tab on both Mox and Gannet\n",
    "\n",
    "# 973414e99379fb9f8876b6fc757a03a1  amoebo_highereval_blastres.tab\n",
    "# ad402d109a59f3d2c2869ab056269a60  opilio_highereval_blastres.tab"
   ]
  },
  {
   "cell_type": "code",
   "execution_count": null,
   "metadata": {},
   "outputs": [],
   "source": [
    "# Transfer both BLAST outputs to local machine\n",
    "# Ran command from local machine\n",
    "# Using absolute path, as relative path fails\n",
    "rsync -chavzP --stats \\\n",
    "afcoyle@gannet.fish.washington.edu:/volume2/web/nerka/mox_transfers/scrubbed/hemat_proj/*highereval_blastres.tab \\\n",
    "/mnt/c/Users/acoyl/Documents/GitHub/hemat_bairdii_transcriptome/output/BLASTs"
   ]
  },
  {
   "cell_type": "code",
   "execution_count": null,
   "metadata": {},
   "outputs": [],
   "source": [
    "# Verify checksums still match by running *highereval_blastres.tab on local machine\n",
    "\n",
    "# 973414e99379fb9f8876b6fc757a03a1  output/BLASTs/amoebo_highereval_blastres.tab\n",
    "# ad402d109a59f3d2c2869ab056269a60  output/BLASTs/opilio_highereval_blastres.tab"
   ]
  },
  {
   "cell_type": "code",
   "execution_count": null,
   "metadata": {},
   "outputs": [],
   "source": [
    "# Move each file into a separate folder and rename for clarity\n",
    "!mv ../output/BLASTs/amoebo_highereval_blastres.tab ../output/BLASTs/amoebo_genome/cbai2.0_eval10_3_blastnres.tab"
   ]
  },
  {
   "cell_type": "code",
   "execution_count": null,
   "metadata": {},
   "outputs": [],
   "source": [
    "# Move each file into a separate folder and rename for clarity\n",
    "!mv ../output/BLASTs/opilio_highereval_blastres.tab ../output/BLASTs/opilio_genome/cbai2.0_eval10_3_blastxres.tab"
   ]
  },
  {
   "cell_type": "markdown",
   "metadata": {},
   "source": [
    "## Exploratory Analysis of Higher Evalue BLAST results\n",
    "\n",
    "At this stage, since all relevant files are now on our local machine, we will revert to running commands directly in this Jupyter notebook rather than copy-pasting"
   ]
  },
  {
   "cell_type": "code",
   "execution_count": 2,
   "metadata": {},
   "outputs": [
    {
     "name": "stdout",
     "output_type": "stream",
     "text": [
      "1412254\n"
     ]
    }
   ],
   "source": [
    "# See how many sequences are in our original cbai_hemat transcriptome\n",
    "!grep -c \">\" ../data/transcriptomes/cbai_hemat_transcriptome_v2.0.fasta"
   ]
  },
  {
   "cell_type": "code",
   "execution_count": 5,
   "metadata": {},
   "outputs": [
    {
     "name": "stdout",
     "output_type": "stream",
     "text": [
      "551494 ../output/BLASTs/opilio_genome/cbai2.0_eval10_3_blastxres.tab\n"
     ]
    }
   ],
   "source": [
    "# See how many sequences got matched in our BLASTx against the opilio genome\n",
    "!wc -l ../output/BLASTs/opilio_genome/cbai2.0_eval10_3_blastxres.tab"
   ]
  },
  {
   "cell_type": "code",
   "execution_count": 8,
   "metadata": {},
   "outputs": [
    {
     "name": "stdout",
     "output_type": "stream",
     "text": [
      "64312 ../output/BLASTs/amoebo_genome/cbai2.0_eval10_3_blastres.tab\n"
     ]
    }
   ],
   "source": [
    "# See how many sequences got matched in our BLASTn against the amoebo genome\n",
    "!wc -l ../output/BLASTs/amoebo_genome/cbai2.0_eval10_3_blastnres.tab"
   ]
  },
  {
   "cell_type": "markdown",
   "metadata": {},
   "source": [
    "That sums to ~610,000 total matches to both genomes combined out of 1.4 million sequences in the original transcriptome. We'll redo this BLAST one more time, with an even lower e-value bar - changing from 10^-3 to 10^-2. This should let us graph the relationship between e-value and number of matches, thus indicating how Again, with the majority of our sequences presumably belonging to _C. bairdi_, I definitely would've expected to see more matches to the opilio genome at least."
   ]
  },
  {
   "cell_type": "markdown",
   "metadata": {},
   "source": [
    "# BLAST Round 3\n",
    "\n",
    "Again, we're performing two BLASTs - a BLASTn of cbai_transcriptomev2.0 (which contains both _C. bairdi_ and _Hematodinium_ sequences) against a genome for _Amoebophrya sp._ and a BLASTx against the protein sequences from the _Chionoecetes opilio_ genome. \n",
    "\n",
    "Only two lines are changed in our slurm scripts - the e-value and the output file"
   ]
  },
  {
   "cell_type": "markdown",
   "metadata": {},
   "source": [
    "### Mox slurm script for BLASTx vs. _C. opilio_. \n",
    "\n",
    "Initial reference should be [here](https://github.com/afcoyle/hemat_bairdii_transcriptome/blob/main/scripts/slurm_scripts/20210304_opilio_blast.sh). However in case of repo reformatting breaking the link, the script is also copy-pasted below."
   ]
  },
  {
   "cell_type": "code",
   "execution_count": null,
   "metadata": {},
   "outputs": [],
   "source": [
    "#!/bin/bash\n",
    "## Job Name\n",
    "#SBATCH --job-name=afcoyle_opilioblast\n",
    "## Allocation Definition\n",
    "#SBATCH --account=srlab\n",
    "#SBATCH --partition=srlab\n",
    "## Resources\n",
    "## Nodes\n",
    "#SBATCH --nodes=1\n",
    "## Walltime (days-hours:minutes:seconds format)\n",
    "#SBATCH --time=1-12:00:00\n",
    "## Memory per node\n",
    "#SBATCH --mem=120G\n",
    "##turn on e-mail notification\n",
    "#SBATCH --mail-type=ALL\n",
    "#SBATCH --mail-user=afcoyle@uw.edu\n",
    "## Specify the working directory for this job\n",
    "#SBATCH --chdir=/gscratch/scrubbed/afcoyle\n",
    "\n",
    "\n",
    "/gscratch/srlab/programs/ncbi-blast-2.8.1+/bin/blastx \\\n",
    "-task=\"blastx\" \\\n",
    "-query /gscratch/srlab/afcoyle/projects/21_ncbi_genome_blasts/data/cbai_hemat_transcriptomev2.0.fasta \\\n",
    "-db /gscratch/srlab/afcoyle/projects/21_ncbi_genome_blasts/output/blastdbs/opilio/opilio_blastdb \\\n",
    "-out /gscratch/srlab/afcoyle/projects/21_ncbi_genome_blasts/output/blastres/opilio_eval10_2_blastres.tab \\\n",
    "-evalue 1E-02 \\\n",
    "-num_threads 40 \\\n",
    "-max_target_seqs 1 \\\n",
    "-outfmt 6"
   ]
  },
  {
   "cell_type": "code",
   "execution_count": null,
   "metadata": {},
   "outputs": [],
   "source": [
    "[afcoyle@mox2 afcoyle]$ sbatch jobs/20210304_opilio_blast.sh\n",
    "Submitted batch job 1612487"
   ]
  },
  {
   "cell_type": "markdown",
   "metadata": {},
   "source": [
    "### Mox slurm script for BLASTn vs. _Amoebophrya sp._\n",
    "\n",
    "Initial reference should be [here](https://github.com/afcoyle/hemat_bairdii_transcriptome/blob/main/scripts/slurm_scripts/20210304_amoebo_blast.sh). However in case of repo reformatting breaking the link, the script is also copy-pasted below."
   ]
  },
  {
   "cell_type": "code",
   "execution_count": null,
   "metadata": {},
   "outputs": [],
   "source": [
    "#!/bin/bash\n",
    "## Job Name\n",
    "#SBATCH --job-name=afcoyle_amoeboblast\n",
    "## Allocation Definition\n",
    "#SBATCH --account=srlab\n",
    "#SBATCH --partition=srlab\n",
    "## Resources\n",
    "## Nodes\n",
    "#SBATCH --nodes=1\n",
    "## Walltime (days-hours:minutes:seconds format)\n",
    "#SBATCH --time=1-12:00:00\n",
    "## Memory per node\n",
    "#SBATCH --mem=120G\n",
    "##turn on e-mail notification\n",
    "#SBATCH --mail-type=ALL\n",
    "#SBATCH --mail-user=afcoyle@uw.edu\n",
    "## Specify the working directory for this job\n",
    "#SBATCH --chdir=/gscratch/scrubbed/afcoyle\n",
    "\n",
    "\n",
    "\n",
    "/gscratch/srlab/programs/ncbi-blast-2.8.1+/bin/blastn \\\n",
    "-task=\"blastn\" \\\n",
    "-query /gscratch/srlab/afcoyle/projects/21_ncbi_genome_blasts/data/cbai_hemat_transcriptomev2.0.fasta \\\n",
    "-db /gscratch/srlab/afcoyle/projects/21_ncbi_genome_blasts/output/blastdbs/amoebo/amoebo_blastdb \\\n",
    "-out /gscratch/srlab/afcoyle/projects/21_ncbi_genome_blasts/output/blastres/amoebo_eval10_2_blastres.tab \\\n",
    "-evalue 1E-02 \\\n",
    "-num_threads 40 \\\n",
    "-max_target_seqs 1 \\\n",
    "-outfmt 6"
   ]
  },
  {
   "cell_type": "code",
   "execution_count": null,
   "metadata": {},
   "outputs": [],
   "source": [
    "[afcoyle@mox2 afcoyle]$ sbatch jobs/20210304_amoebo_blast.sh\n",
    "Submitted batch job 1612488"
   ]
  },
  {
   "cell_type": "code",
   "execution_count": null,
   "metadata": {},
   "outputs": [],
   "source": [
    "# Transfer opilio BLAST output from Mox to Gannet\n",
    "# These commands performed from a folder in Gannet\n",
    "# Gannet folder: /volume2/web/nerka/mox_transfers/scrubbed/\n",
    "rsync -avz --progress \\\n",
    "afcoyle@mox.hyak.uw.edu:/gscratch/srlab/afcoyle/projects/21_ncbi_genome_blasts/output/blastres/opilio_eval10_2_blastres.tab \\\n",
    "hemat_proj/"
   ]
  },
  {
   "cell_type": "code",
   "execution_count": null,
   "metadata": {},
   "outputs": [],
   "source": [
    "# Transfer amoebo BLAST output from Mox to Gannet\n",
    "# These commands performed from a folder in Gannet\n",
    "# Gannet folder: /volume2/web/nerka/mox_transfers/scrubbed/\n",
    "rsync -avz --progress \\\n",
    "afcoyle@mox.hyak.uw.edu:/gscratch/srlab/afcoyle/projects/21_ncbi_genome_blasts/output/blastres/amoebo_eval10_2_blastres.tab \\\n",
    "hemat_proj/"
   ]
  },
  {
   "cell_type": "code",
   "execution_count": null,
   "metadata": {},
   "outputs": [],
   "source": [
    "# Check our md5sums to ensure correct transfer. Here's what they should be:\n",
    "# To obtain, run md5sum *eval10_2_blastres.tab on both Mox and Gannet\n",
    "\n",
    "# 0408b229a37d5f7c76629cc3f24e545e  amoebo_eval10_2_blastres.tab\n",
    "# fd9e420b186de728ffc0a11a28fd1371  opilio_eval10_2_blastres.tab"
   ]
  },
  {
   "cell_type": "code",
   "execution_count": null,
   "metadata": {},
   "outputs": [],
   "source": [
    "# Transfer both BLAST outputs to local machine\n",
    "# Ran command from local machine\n",
    "# Using absolute path, as relative path fails\n",
    "rsync -chavzP --stats \\\n",
    "afcoyle@gannet.fish.washington.edu:/volume2/web/nerka/mox_transfers/scrubbed/hemat_proj/*eval10_2_blastres.tab \\\n",
    "/mnt/c/Users/acoyl/Documents/GitHub/hemat_bairdi_transcriptome/output/BLASTs/"
   ]
  },
  {
   "cell_type": "code",
   "execution_count": null,
   "metadata": {},
   "outputs": [],
   "source": [
    "rsync -chavzP --stats \\\n",
    "afcoyle@gannet.fish.washington.edu:/volume2/web/nerka/mox_transfers/scrubbed/hemat_proj/*eval10_2_blastres.tab \\\n",
    "/mnt/c/Users/acoyl/Documents/GitHub/hemat_bairdi_transcriptome/output/BLASTs/"
   ]
  },
  {
   "cell_type": "code",
   "execution_count": null,
   "metadata": {},
   "outputs": [],
   "source": [
    "# Verify checksums still match by running md5sum ../output/BLASTs/*eval10_2_blastres.tab on local machine\n",
    "\n",
    "# 0408b229a37d5f7c76629cc3f24e545e  amoebo_eval10_2_blastres.tab\n",
    "# fd9e420b186de728ffc0a11a28fd1371  opilio_eval10_2_blastres.tab"
   ]
  },
  {
   "cell_type": "code",
   "execution_count": 2,
   "metadata": {},
   "outputs": [],
   "source": [
    "# Move each file into a separate folder and rename for clarity\n",
    "!mv ../output/BLASTs/amoebo_eval10_2_blastres.tab ../output/BLASTs/amoebo_genome/cbai2.0_eval10_2_blastnres.tab"
   ]
  },
  {
   "cell_type": "code",
   "execution_count": 3,
   "metadata": {},
   "outputs": [],
   "source": [
    "# Move each file into a separate folder and rename for clarity\n",
    "!mv ../output/BLASTs/opilio_eval10_2_blastres.tab ../output/BLASTs/opilio_genome/cbai2.0_eval10_2_blastxres.tab"
   ]
  },
  {
   "cell_type": "markdown",
   "metadata": {},
   "source": [
    "## Exploratory Analysis of Eval = 10^-2 BLAST results\n",
    "\n",
    "At this stage, since all relevant files are now on our local machine, we will revert to running commands directly in this Jupyter notebook rather than copy-pasting"
   ]
  },
  {
   "cell_type": "code",
   "execution_count": 2,
   "metadata": {},
   "outputs": [
    {
     "name": "stdout",
     "output_type": "stream",
     "text": [
      "1412254\n"
     ]
    }
   ],
   "source": [
    "# See how many sequences are in our original cbai_hemat transcriptome\n",
    "!grep -c \">\" ../data/transcriptomes/cbai_hemat_transcriptome_v2.0.fasta"
   ]
  },
  {
   "cell_type": "code",
   "execution_count": 1,
   "metadata": {},
   "outputs": [
    {
     "name": "stdout",
     "output_type": "stream",
     "text": [
      "631078 ../output/BLASTs/opilio_genome/cbai2.0_eval10_2_blastxres.tab\n"
     ]
    }
   ],
   "source": [
    "# See how many sequences got matched in our BLASTx against the opilio genome\n",
    "!wc -l ../output/BLASTs/opilio_genome/cbai2.0_eval10_2_blastxres.tab"
   ]
  },
  {
   "cell_type": "code",
   "execution_count": 3,
   "metadata": {},
   "outputs": [
    {
     "name": "stdout",
     "output_type": "stream",
     "text": [
      "121305 ../output/BLASTs/amoebo_genome/cbai2.0_eval10_2_blastnres.tab\n"
     ]
    }
   ],
   "source": [
    "# See how many sequences got matched in our BLASTn against the amoebo genome\n",
    "!wc -l ../output/BLASTs/amoebo_genome/cbai2.0_eval10_2_blastnres.tab"
   ]
  },
  {
   "cell_type": "markdown",
   "metadata": {},
   "source": [
    "That sums to ~610,000 total matches to both genomes combined out of 1.4 million sequences in the original transcriptome. We'll redo this BLAST one more time, with an even lower e-value bar - changing from 10^-3 to 10^-2. This should let us graph the relationship between e-value and number of matches, thus indicating how Again, with the majority of our sequences presumably belonging to _C. bairdi_, I definitely would've expected to see more matches to the opilio genome at least."
   ]
  },
  {
   "cell_type": "markdown",
   "metadata": {},
   "source": [
    "# BLAST Round 4: Changing Amoebo BLASTn to tBLASTx\n",
    "\n",
    "To maximize our number of matches, we should be BLASTing to protein sequences rather than nucleotide sequences, as protein sequences are more conserved. Since a BLASTn is quite fast to run for Amoebo, we can put up with the longer wait time of the tBLASTx, which translates both the sequence - transcriptome 2.0 - and the database - the Amoebophrya genome - to protein sequences. Since it takes much longer, we'll also increase the runtime to several days."
   ]
  },
  {
   "cell_type": "markdown",
   "metadata": {},
   "source": [
    "## tBLASTx for Amoebophrya genome, eval = 10^-5\n",
    "Initial reference should be [here](https://github.com/afcoyle/hemat_bairdii_transcriptome/blob/main/scripts/slurm_scripts/20210304_amoebo_eval10_5_tblastx.sh). However in case of repo reformatting breaking the link, the script is also copy-pasted below."
   ]
  },
  {
   "cell_type": "code",
   "execution_count": null,
   "metadata": {},
   "outputs": [],
   "source": [
    "#!/bin/bash\n",
    "## Job Name\n",
    "#SBATCH --job-name=afcoyle_amoeboblast\n",
    "## Allocation Definition\n",
    "#SBATCH --account=srlab\n",
    "#SBATCH --partition=srlab\n",
    "## Resources\n",
    "## Nodes\n",
    "#SBATCH --nodes=1\n",
    "## Walltime (days-hours:minutes:seconds format)\n",
    "#SBATCH --time=2-12:00:00\n",
    "## Memory per node\n",
    "#SBATCH --mem=120G\n",
    "##turn on e-mail notification\n",
    "#SBATCH --mail-type=ALL\n",
    "#SBATCH --mail-user=afcoyle@uw.edu\n",
    "## Specify the working directory for this job\n",
    "#SBATCH --chdir=/gscratch/scrubbed/afcoyle\n",
    "\n",
    "\n",
    "\n",
    "/gscratch/srlab/programs/ncbi-blast-2.8.1+/bin/tblastx \\\n",
    "-query /gscratch/srlab/afcoyle/projects/21_ncbi_genome_blasts/data/cbai_hemat_transcriptomev2.0.fasta \\\n",
    "-db /gscratch/srlab/afcoyle/projects/21_ncbi_genome_blasts/output/blastdbs/amoebo/amoebo_blastdb \\\n",
    "-out /gscratch/srlab/afcoyle/projects/21_ncbi_genome_blasts/output/blastres/amoebo_eval10_5_tblastxres.tab \\\n",
    "-evalue 1E-05 \\\n",
    "-num_threads 40 \\\n",
    "-max_target_seqs 1 \\\n",
    "-outfmt 6"
   ]
  },
  {
   "cell_type": "code",
   "execution_count": null,
   "metadata": {},
   "outputs": [],
   "source": [
    "[afcoyle@mox2 jobs]$ sbatch 20210304_amoebo_eval10_5_tblastx.sh\n",
    "Submitted batch job 1613682"
   ]
  },
  {
   "cell_type": "markdown",
   "metadata": {},
   "source": [
    "## tBLASTx for Amoebophrya genome, eval = 10^-3\n",
    "Initial reference should be [here](https://github.com/afcoyle/hemat_bairdii_transcriptome/blob/main/scripts/slurm_scripts/20210304_amoebo_eval10_3_tblastx.sh). However in case of repo reformatting breaking the link, the script is also copy-pasted below."
   ]
  },
  {
   "cell_type": "code",
   "execution_count": null,
   "metadata": {},
   "outputs": [],
   "source": [
    "#!/bin/bash\n",
    "## Job Name\n",
    "#SBATCH --job-name=afcoyle_amoeboblast\n",
    "## Allocation Definition\n",
    "#SBATCH --account=srlab\n",
    "#SBATCH --partition=srlab\n",
    "## Resources\n",
    "## Nodes\n",
    "#SBATCH --nodes=1\n",
    "## Walltime (days-hours:minutes:seconds format)\n",
    "#SBATCH --time=2-12:00:00\n",
    "## Memory per node\n",
    "#SBATCH --mem=120G\n",
    "##turn on e-mail notification\n",
    "#SBATCH --mail-type=ALL\n",
    "#SBATCH --mail-user=afcoyle@uw.edu\n",
    "## Specify the working directory for this job\n",
    "#SBATCH --chdir=/gscratch/scrubbed/afcoyle\n",
    "\n",
    "\n",
    "\n",
    "/gscratch/srlab/programs/ncbi-blast-2.8.1+/bin/tblastx \\\n",
    "-query /gscratch/srlab/afcoyle/projects/21_ncbi_genome_blasts/data/cbai_hemat_transcriptomev2.0.fasta \\\n",
    "-db /gscratch/srlab/afcoyle/projects/21_ncbi_genome_blasts/output/blastdbs/amoebo/amoebo_blastdb \\\n",
    "-out /gscratch/srlab/afcoyle/projects/21_ncbi_genome_blasts/output/blastres/amoebo_eval10_3_tblastxres.tab \\\n",
    "-evalue 1E-03 \\\n",
    "-num_threads 40 \\\n",
    "-max_target_seqs 1 \\\n",
    "-outfmt 6"
   ]
  },
  {
   "cell_type": "code",
   "execution_count": null,
   "metadata": {},
   "outputs": [],
   "source": [
    "[afcoyle@mox2 jobs]$ sbatch 20210304_amoebo_eval10_3_tblastx.sh\n",
    "Submitted batch job 1614716"
   ]
  },
  {
   "cell_type": "markdown",
   "metadata": {},
   "source": [
    "## tBLASTx for Amoebophrya genome, eval = 10^-2\n",
    "Initial reference should be [here](https://github.com/afcoyle/hemat_bairdii_transcriptome/blob/main/scripts/slurm_scripts/20210304_amoebo_eval10_2_tblastx.sh). However in case of repo reformatting breaking the link, the script is also copy-pasted below."
   ]
  },
  {
   "cell_type": "code",
   "execution_count": null,
   "metadata": {},
   "outputs": [],
   "source": [
    "#!/bin/bash\n",
    "## Job Name\n",
    "#SBATCH --job-name=afcoyle_amoeboblast\n",
    "## Allocation Definition\n",
    "#SBATCH --account=srlab\n",
    "#SBATCH --partition=srlab\n",
    "## Resources\n",
    "## Nodes\n",
    "#SBATCH --nodes=1\n",
    "## Walltime (days-hours:minutes:seconds format)\n",
    "#SBATCH --time=2-12:00:00\n",
    "## Memory per node\n",
    "#SBATCH --mem=120G\n",
    "##turn on e-mail notification\n",
    "#SBATCH --mail-type=ALL\n",
    "#SBATCH --mail-user=afcoyle@uw.edu\n",
    "## Specify the working directory for this job\n",
    "#SBATCH --chdir=/gscratch/scrubbed/afcoyle\n",
    "\n",
    "\n",
    "\n",
    "/gscratch/srlab/programs/ncbi-blast-2.8.1+/bin/tblastx \\\n",
    "-query /gscratch/srlab/afcoyle/projects/21_ncbi_genome_blasts/data/cbai_hemat_transcriptomev2.0.fasta \\\n",
    "-db /gscratch/srlab/afcoyle/projects/21_ncbi_genome_blasts/output/blastdbs/amoebo/amoebo_blastdb \\\n",
    "-out /gscratch/srlab/afcoyle/projects/21_ncbi_genome_blasts/output/blastres/amoebo_eval10_2_tblastxres.tab \\\n",
    "-evalue 1E-02 \\\n",
    "-num_threads 40 \\\n",
    "-max_target_seqs 1 \\\n",
    "-outfmt 6"
   ]
  },
  {
   "cell_type": "code",
   "execution_count": null,
   "metadata": {},
   "outputs": [],
   "source": [
    "[afcoyle@mox2 jobs]$ sbatch 20210304_amoebo_eval10_2_tblastx.sh\n",
    "Submitted batch job 1617553"
   ]
  },
  {
   "cell_type": "code",
   "execution_count": null,
   "metadata": {},
   "outputs": [],
   "source": [
    "# Transfer BLAST output for all amoebo tblastx from Mox to Gannet\n",
    "# These commands performed from a folder in Gannet\n",
    "# Gannet folder: /volume2/web/nerka/mox_transfers/scrubbed/\n",
    "rsync -avz --progress \\\n",
    "afcoyle@mox.hyak.uw.edu:/gscratch/srlab/afcoyle/projects/21_ncbi_genome_blasts/output/blastres/amoebo_eval10*tblastxres.tab \\\n",
    "hemat_proj/"
   ]
  },
  {
   "cell_type": "code",
   "execution_count": null,
   "metadata": {},
   "outputs": [],
   "source": [
    "# Check our md5sums to ensure correct transfer. Here's what they should be:\n",
    "# To obtain, run md5sum amoebo_eval10*tblastxres.tab on both Mox and Gannet\n",
    "\n",
    "# 97195ee1a50f985ec1d869cba5a1a3f8  amoebo_eval10_2_tblastxres.tab\n",
    "# 162fb370e477fd857f53599f65eb97a5  amoebo_eval10_3_tblastxres.tab\n",
    "# 13276381cddb23c2e420beb64c4bae8a  amoebo_eval10_5_tblastxres.tab"
   ]
  },
  {
   "cell_type": "code",
   "execution_count": null,
   "metadata": {},
   "outputs": [],
   "source": [
    "# Transfer both BLAST outputs to local machine\n",
    "# Ran command from local machine\n",
    "# Using absolute path, as relative path fails\n",
    "rsync -chavzP --stats \\\n",
    "afcoyle@gannet.fish.washington.edu:/volume2/web/nerka/mox_transfers/scrubbed/hemat_proj/*eval10_2_blastres.tab \\\n",
    "/mnt/c/Users/acoyl/Documents/GitHub/hemat_bairdi_transcriptome/output/BLASTs/amoebo_genome"
   ]
  },
  {
   "cell_type": "code",
   "execution_count": null,
   "metadata": {},
   "outputs": [],
   "source": [
    "# Verify checksums still match by running md5sum ../output/BLASTs/amoebo_genome/amoebo_eval10*tblastxres.tab on local machine\n",
    "\n",
    "# 97195ee1a50f985ec1d869cba5a1a3f8  amoebo_eval10_2_tblastxres.tab\n",
    "# 162fb370e477fd857f53599f65eb97a5  amoebo_eval10_3_tblastxres.tab\n",
    "# 13276381cddb23c2e420beb64c4bae8a  amoebo_eval10_5_tblastxres.tab"
   ]
  },
  {
   "cell_type": "code",
   "execution_count": 1,
   "metadata": {},
   "outputs": [],
   "source": [
    "# Rename each file for clarity\n",
    "!mv ../output/BLASTs/amoebo_genome/amoebo_eval10_5_tblastxres.tab ../output/BLASTs/amoebo_genome/cbai2.0_eval10_5_tblastxres.tab"
   ]
  },
  {
   "cell_type": "code",
   "execution_count": 2,
   "metadata": {},
   "outputs": [],
   "source": [
    "# Rename each file for clarity\n",
    "!mv ../output/BLASTs/amoebo_genome/amoebo_eval10_3_tblastxres.tab ../output/BLASTs/amoebo_genome/cbai2.0_eval10_3_tblastxres.tab"
   ]
  },
  {
   "cell_type": "code",
   "execution_count": 3,
   "metadata": {},
   "outputs": [],
   "source": [
    "# Rename each file for clarity\n",
    "!mv ../output/BLASTs/amoebo_genome/amoebo_eval10_2_tblastxres.tab ../output/BLASTs/amoebo_genome/cbai2.0_eval10_2_tblastxres.tab"
   ]
  },
  {
   "cell_type": "markdown",
   "metadata": {},
   "source": [
    "# Move all slurm scripts over to local machine"
   ]
  },
  {
   "cell_type": "code",
   "execution_count": null,
   "metadata": {},
   "outputs": [],
   "source": [
    "# Move over all slurm scripts. Ran from scripts directory\n",
    "rsync -chavzP --stats \\\n",
    "afcoyle@mox.hyak.uw.edu:/gscratch/srlab/afcoyle/jobs/2021*blast*sh \\\n",
    "slurm_scripts/"
   ]
  }
 ],
 "metadata": {
  "kernelspec": {
   "display_name": "Python 3",
   "language": "python",
   "name": "python3"
  },
  "language_info": {
   "codemirror_mode": {
    "name": "ipython",
    "version": 3
   },
   "file_extension": ".py",
   "mimetype": "text/x-python",
   "name": "python",
   "nbconvert_exporter": "python",
   "pygments_lexer": "ipython3",
   "version": "3.8.3"
  }
 },
 "nbformat": 4,
 "nbformat_minor": 4
}
