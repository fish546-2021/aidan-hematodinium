{
 "cells": [
  {
   "cell_type": "markdown",
   "metadata": {},
   "source": [
    "Aidan Coyle, afcoyle@uw.edu\n",
    "\n",
    "2021/01/20\n",
    "\n",
    "Roberts lab at SAFS\n",
    "\n",
    "### Turning UniProt accessions into GO terms\n",
    "\n",
    "This script involves calling a Bash script that Sam wrote. That script is available [here](https://github.com/RobertsLab/code/blob/master/script-box/uniprot2go.sh). I copied it into my /scripts/ directory, where it's named 04_uniprot2go.sh\n",
    "\n",
    "04_uniprot2go.sh takes a newline-separated file of UniProt accessions, and outputs a file in the following format: UniProt_accession tab GOID1;GOID2...GOIDn\n",
    "\n",
    "This is one of two ways I established to obtain a two-column tab-separated file of UniProt accession IDs and GO terms. The other is shown in 03_uniprot_to_GO_method1.R\n",
    "\n",
    "Upside of this method: \n",
    "- Does not require a database to be downloaded manually\n",
    "- GO terms are always the most up-to-date\n",
    "\n",
    "Upside of using 03_uniprot_to_GO_method1.R instead:\n",
    "- Much faster. Gets GO terms in a matter of minutes, whereas this takes days for a 65,000 line file\n",
    "\n",
    "I suggest using this script for smaller lists of accessions, and using the other method when trying to process large files\n",
    "\n",
    "### If you use the R script, you will need to finish processing in this script. The place to begin final processing is marked below with \"IF USING 03_UNIPROT_TO_GO_METHOD1.R, START HERE\"\n"
   ]
  },
  {
   "cell_type": "code",
   "execution_count": 1,
   "metadata": {},
   "outputs": [
    {
     "data": {
      "text/plain": [
       "'/mnt/c/Users/acoyl/Documents/GitHub/hemat_bairdii_transcriptome/scripts'"
      ]
     },
     "execution_count": 1,
     "metadata": {},
     "output_type": "execute_result"
    }
   ],
   "source": [
    "pwd"
   ]
  },
  {
   "cell_type": "markdown",
   "metadata": {},
   "source": [
    "### First, we'll get all GO terms for all genes. This will take a long time - on a laptop, takes 1-2 days to run each"
   ]
  },
  {
   "cell_type": "code",
   "execution_count": 4,
   "metadata": {},
   "outputs": [
    {
     "name": "stdout",
     "output_type": "stream",
     "text": [
      "6 accessions were not processed.\n",
      "Please see: failed_accessions.txt\n"
     ]
    }
   ],
   "source": [
    "# Get all GO terms for all genes in ambient vs. low treatment group\n",
    "!./04_uniprot2go.sh ../output/accession_n_GOids/allgenes_IDs/Amb_vsLow_All_GeneIDs.txt > ../output/accession_n_GOids/allgenes_IDs/Amb_vsLow_All_GOIDs.txt"
   ]
  },
  {
   "cell_type": "code",
   "execution_count": null,
   "metadata": {},
   "outputs": [],
   "source": [
    "# A file called failed_accessions.txt is auto-placed in the directory you run the script from. Move to the output folder\n",
    "!mv failed_accessions.txt ../output/accession_n_GOids/allgenes_IDs/Amb_vsLow_AllGOIDs_failed_accessions.txt"
   ]
  },
  {
   "cell_type": "code",
   "execution_count": 12,
   "metadata": {},
   "outputs": [
    {
     "name": "stdout",
     "output_type": "stream",
     "text": [
      "3 accessions were not processed.\n",
      "Please see: failed_accessions.txt\n"
     ]
    }
   ],
   "source": [
    "# Get all GO terms for all genes in day 0 vs. day 17 ambient treatment group\n",
    "!./04_uniprot2go.sh ../output/accession_n_GOids/allgenes_IDs/day0_day17_All_GeneIDs.txt > ../output/accession_n_GOids/allgenes_IDs/day0_day17_All_GOIDs.txt"
   ]
  },
  {
   "cell_type": "code",
   "execution_count": null,
   "metadata": {},
   "outputs": [],
   "source": [
    "# A file called failed_accessions.txt is auto-placed in the directory you run the script from. Move to the output folder\n",
    "!mv failed_accessions.txt ../output/accession_n_GOids/allgenes_IDs/day0_day17_AllGOIDs_failed_accessions.txt"
   ]
  },
  {
   "cell_type": "code",
   "execution_count": 1,
   "metadata": {},
   "outputs": [
    {
     "name": "stdout",
     "output_type": "stream",
     "text": [
      "5 accessions were not processed.\n",
      "Please see: failed_accessions.txt\n"
     ]
    }
   ],
   "source": [
    "# Get all GO terms for all genes in elevated vs. ambient treatment group\n",
    "!./04_uniprot2go.sh ../output/accession_n_GOids/allgenes_IDs/Elev_vsAmb_All_GeneIDs.txt > ../output/accession_n_GOids/allgenes_IDs/Elev_vsAmb_All_GOIDs.txt"
   ]
  },
  {
   "cell_type": "code",
   "execution_count": null,
   "metadata": {},
   "outputs": [],
   "source": [
    "# A file called failed_accessions.txt is auto-placed in the directory you run the script from. Move to the output folder\n",
    "!mv failed_accessions.txt ../output/accession_n_GOids/allgenes_IDs/Elev_vsAmb_AllGOIDs_failed_accessions.txt"
   ]
  },
  {
   "cell_type": "code",
   "execution_count": 5,
   "metadata": {},
   "outputs": [
    {
     "name": "stdout",
     "output_type": "stream",
     "text": [
      "4 accessions were not processed.\n",
      "Please see: failed_accessions.txt\n"
     ]
    }
   ],
   "source": [
    "# Get all GO terms for all genes in elevated vs. low treatment group\n",
    "!./04_uniprot2go.sh ../output/accession_n_GOids/allgenes_IDs/Elev_vsLow_All_GeneIDs.txt > ../output/accession_n_GOids/allgenes_IDs/Elev_vsLow_All_GOIDs.txt"
   ]
  },
  {
   "cell_type": "code",
   "execution_count": 6,
   "metadata": {},
   "outputs": [],
   "source": [
    "# A file called failed_accessions.txt is auto-placed in the directory you run the script from. Move to the output folder\n",
    "!mv failed_accessions.txt ../output/accession_n_GOids/allgenes_IDs/Elev_vsLow_AllGOIDs_failed_accessions.txt"
   ]
  },
  {
   "cell_type": "markdown",
   "metadata": {},
   "source": [
    "### Then, we get all GO terms for only differentially-expressed genes (padj <= 0.005)"
   ]
  },
  {
   "cell_type": "code",
   "execution_count": 1,
   "metadata": {},
   "outputs": [],
   "source": [
    "# Get all GO terms for all genes in ambient vs. low treatment group\n",
    "!./05_uniprot2go.sh ../output/accession_n_GOids/DEG_IDs/Amb_vsLow_DEG_IDs.txt > ../output/accession_n_GOids/DEG_IDs/Amb_vsLow_DEG_GOIDs.txt"
   ]
  },
  {
   "cell_type": "code",
   "execution_count": 2,
   "metadata": {},
   "outputs": [],
   "source": [
    "# Get all GO terms for all genes in ambient vs. low treatment group\n",
    "!./04_uniprot2go.sh ../output/accession_n_GOids/DEG_IDs/day0_day17_amb_DEG_IDs.txt > ../output/accession_n_GOids/DEG_IDs/day0_day17_amb_DEG_GOIDs.txt"
   ]
  },
  {
   "cell_type": "code",
   "execution_count": 3,
   "metadata": {},
   "outputs": [],
   "source": [
    "# Get all GO terms for all genes in ambient vs. low treatment group\n",
    "!./04_uniprot2go.sh ../output/accession_n_GOids/DEG_IDs/Elev_vsAmb_DEG_IDs.txt > ../output/accession_n_GOids/DEG_IDs/Elev_vsAmb_DEG_GOIDs.txt"
   ]
  },
  {
   "cell_type": "code",
   "execution_count": 4,
   "metadata": {},
   "outputs": [],
   "source": [
    "# Get all GO terms for all genes in ambient vs. low treatment group\n",
    "!./04_uniprot2go.sh ../output/accession_n_GOids/DEG_IDs/Elev_vsLow_DEG_IDs.txt > ../output/accession_n_GOids/DEG_IDs/Elev_vsLow_DEG_GOIDs.txt"
   ]
  },
  {
   "cell_type": "markdown",
   "metadata": {},
   "source": [
    "# IF USING 03_UNIPROT_TO_GO_METHOD1.R, START HERE\n",
    "\n",
    "### Completed getting all our GO terms! Now, time to get input for GO-MWU.\n",
    "We need 2 tables:\n",
    "- A 2-column table of genes and GO terms\n",
    "- A 2-column table of genes and unadjusted p-value without repeated genes"
   ]
  },
  {
   "cell_type": "markdown",
   "metadata": {},
   "source": [
    "The table of genes and unadjusted p-value is created using R in the script 06_GO-MWU_prep.R\n",
    "In getting GO terms, we made a 2-col tab-separated table of genes and GO terms.\n",
    "Now we need to eliminate all repeated genes. To do this, we'll use the nrify_GOtable.pl script. \n",
    "This can be found in the [GitHub repo for GO-MWU](https://github.com/z0on/GO_MWU)\n",
    "\n",
    "We'll put these files in a subdirectory within the scripts directory, as this is what GO-MWU calls for. All GO-MWU files are also within that directory"
   ]
  },
  {
   "cell_type": "code",
   "execution_count": 1,
   "metadata": {},
   "outputs": [],
   "source": [
    "# Eliminate gene repeats, concatenate GO terms for Elevated Day 2 vs. Ambient Day 0+2, indiv. libraries only\n",
    "!06_running_GO-MWU/./nrify_GOtable.pl ../output/accession_n_GOids/allgenes_IDs/elev2_vs_amb02_indiv_only_All_GOIDs.txt > 06_running_GO-MWU/elev2_vs_amb02_indiv_only_GOIDs_norepeats.txt"
   ]
  },
  {
   "cell_type": "code",
   "execution_count": 2,
   "metadata": {},
   "outputs": [
    {
     "name": "stdout",
     "output_type": "stream",
     "text": [
      "41479 06_running_GO-MWU/elev2_vs_amb02_indiv_only_GOIDs_norepeats.txt\n"
     ]
    }
   ],
   "source": [
    "# See length of file without repeats\n",
    "!wc -l 06_running_GO-MWU/elev2_vs_amb02_indiv_only_GOIDs_norepeats.txt"
   ]
  },
  {
   "cell_type": "code",
   "execution_count": 4,
   "metadata": {},
   "outputs": [
    {
     "name": "stdout",
     "output_type": "stream",
     "text": [
      "41479\n"
     ]
    }
   ],
   "source": [
    "# Manually see how many repeats we have - looks indentical, script running properly\n",
    "!sort ../output/accession_n_GOids/allgenes_IDs/elev2_vs_amb02_indiv_only_All_GOIDs.txt | uniq | wc -l"
   ]
  },
  {
   "cell_type": "code",
   "execution_count": 5,
   "metadata": {},
   "outputs": [],
   "source": [
    "# Continue with comparison of Day 2 Elevated vs. Ambient Day 0+2+17 + Elev. Day 0 + Lowered Day 0\n",
    "!06_running_GO-MWU/./nrify_GOtable.pl ../output/accession_n_GOids/allgenes_IDs/amb0217_elev0_low0_vs_elev2_All_GOIDs.txt > 06_running_GO-MWU/amb0217_elev0_low0_vs_elev2_GOIDs_norepeats.txt"
   ]
  },
  {
   "cell_type": "code",
   "execution_count": 1,
   "metadata": {},
   "outputs": [],
   "source": [
    "# Continue with comparison of Day 0 Elevated vs. Day 2 Elevated, individual libraries only\n",
    "!06_running_GO-MWU/./nrify_GOtable.pl ../output/accession_n_GOids/allgenes_IDs/elev0_vs_elev2_indiv_All_GOIDs.txt > 06_running_GO-MWU/elev0_vs_elev2_indiv_GOIDs_norepeats.txt"
   ]
  },
  {
   "cell_type": "code",
   "execution_count": 1,
   "metadata": {},
   "outputs": [],
   "source": [
    "# Continue with comparison of Day 0 Elevated vs. Day 2 Elevated, individual libraries only\n",
    "!06_running_GO-MWU/./nrify_GOtable.pl ../output/accession_n_GOids/allgenes_IDs/amb0_vs_amb2_indiv_All_GOIDs.txt > 06_running_GO-MWU/amb0_vs_amb2_indiv_GOIDs_norepeats.txt"
   ]
  },
  {
   "cell_type": "code",
   "execution_count": 2,
   "metadata": {},
   "outputs": [],
   "source": [
    "# Continue with comparison of Day 0 Elevated vs. Day 2 Elevated, individual libraries only\n",
    "!06_running_GO-MWU/./nrify_GOtable.pl ../output/accession_n_GOids/allgenes_IDs/amb0_vs_amb17_indiv_All_GOIDs.txt > 06_running_GO-MWU/amb0_vs_amb17_indiv_GOIDs_norepeats.txt"
   ]
  },
  {
   "cell_type": "code",
   "execution_count": 3,
   "metadata": {},
   "outputs": [],
   "source": [
    "# Continue with comparison of Day 0 Elevated vs. Day 2 Elevated, individual libraries only\n",
    "!06_running_GO-MWU/./nrify_GOtable.pl ../output/accession_n_GOids/allgenes_IDs/amb2_vs_amb17_indiv_All_GOIDs.txt > 06_running_GO-MWU/amb2_vs_amb17_indiv_GOIDs_norepeats.txt"
   ]
  },
  {
   "cell_type": "code",
   "execution_count": 1,
   "metadata": {},
   "outputs": [],
   "source": [
    "# Continue with comparison of Day 0 Elevated vs. Day 2 Elevated, individual libraries only\n",
    "!06_running_GO-MWU/./nrify_GOtable.pl ../output/accession_n_GOids/allgenes_IDs/amb2_vs_elev2_indiv_All_GOIDs.txt > 06_running_GO-MWU/amb2_vs_elev2_indiv_GOIDs_norepeats.txt"
   ]
  },
  {
   "cell_type": "markdown",
   "metadata": {},
   "source": [
    "Well done! Each comparison should now have one of our two inputs needed for GO-MWU. Continue to 05_GO-MWU_prep.R to create the other input."
   ]
  }
 ],
 "metadata": {
  "kernelspec": {
   "display_name": "Python 3",
   "language": "python",
   "name": "python3"
  },
  "language_info": {
   "codemirror_mode": {
    "name": "ipython",
    "version": 3
   },
   "file_extension": ".py",
   "mimetype": "text/x-python",
   "name": "python",
   "nbconvert_exporter": "python",
   "pygments_lexer": "ipython3",
   "version": "3.8.3"
  }
 },
 "nbformat": 4,
 "nbformat_minor": 4
}
