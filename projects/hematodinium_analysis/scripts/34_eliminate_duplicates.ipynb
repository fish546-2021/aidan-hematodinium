{
 "cells": [
  {
   "cell_type": "markdown",
   "metadata": {},
   "source": [
    "Aidan Coyle, afcoyle@uw.edu\n",
    "\n",
    "2021/03/15\n",
    "\n",
    "Roberts lab at SAFS\n",
    "\n",
    "### Removing duplicate lines from genes\n",
    "\n",
    "Completed getting all our GO terms! Now, time to get input for GO-MWU.\n",
    "We need 2 tables:\n",
    "- A 2-column table of genes and GO terms\n",
    "- A 2-column table of genes and unadjusted p-value without repeated genes\n",
    "\n",
    "The table of genes and unadjusted p-value is created using R in the script 35_GO-MWU_prep.R\n",
    "In getting GO terms, we made a 2-col tab-separated table of genes and GO terms.\n",
    "Now we need to eliminate all repeated genes. To do this, we'll use the nrify_GOtable.pl script. \n",
    "This can be found in the [GitHub repo for GO-MWU](https://github.com/z0on/GO_MWU)\n",
    "\n",
    "We'll put these files in a subdirectory within the scripts directory, as this is what GO-MWU calls for. All GO-MWU files are also within that directory"
   ]
  },
  {
   "cell_type": "code",
   "execution_count": 1,
   "metadata": {},
   "outputs": [
    {
     "data": {
      "text/plain": [
       "'/mnt/c/Users/acoyl/Documents/GitHub/hemat_bairdi_transcriptome/scripts'"
      ]
     },
     "execution_count": 1,
     "metadata": {},
     "output_type": "execute_result"
    }
   ],
   "source": [
    "pwd"
   ]
  },
  {
   "cell_type": "code",
   "execution_count": 17,
   "metadata": {},
   "outputs": [],
   "source": [
    "# Eliminate gene repeats, concatenate GO terms for Elevated Day 2 vs. Ambient Day 0+2, indiv. libraries only\n",
    "!36_running_GO-MWU/./nrify_GOtable.pl ../output/accession_n_GOids/hemat_transcriptomev1.6/allgenes_IDs/elev0_vs_elev2_indiv_All_GOIDs.txt > 36_running_GO-MWU/hemat1.6_elev0_vs_elev2_indiv_GOIDs_norepeats.txt"
   ]
  },
  {
   "cell_type": "code",
   "execution_count": 18,
   "metadata": {},
   "outputs": [
    {
     "name": "stdout",
     "output_type": "stream",
     "text": [
      "3310 36_running_GO-MWU/hemat1.6_elev0_vs_elev2_indiv_GOIDs_norepeats.txt\n"
     ]
    }
   ],
   "source": [
    "# See length of file without repeats\n",
    "!wc -l 36_running_GO-MWU/hemat1.6_elev0_vs_elev2_indiv_GOIDs_norepeats.txt"
   ]
  },
  {
   "cell_type": "code",
   "execution_count": 19,
   "metadata": {},
   "outputs": [
    {
     "name": "stdout",
     "output_type": "stream",
     "text": [
      "3310\n"
     ]
    }
   ],
   "source": [
    "# Manually see how many repeats we have - looks indentical, script running properly\n",
    "!sort ../output/accession_n_GOids/hemat_transcriptomev1.6/allgenes_IDs/elev0_vs_elev2_indiv_All_GOIDs.txt | uniq | wc -l"
   ]
  },
  {
   "cell_type": "code",
   "execution_count": 20,
   "metadata": {},
   "outputs": [],
   "source": [
    "# Continue with comparison of Day 2 Ambient vs. Day 2 Elevated, individual libraries only\n",
    "!36_running_GO-MWU/./nrify_GOtable.pl ../output/accession_n_GOids/hemat_transcriptomev1.6/allgenes_IDs/amb2_vs_elev2_indiv_All_GOIDs.txt >  36_running_GO-MWU/hemat1.6_amb2_vs_elev2_indiv_GOIDs_norepeats.txt"
   ]
  },
  {
   "cell_type": "markdown",
   "metadata": {},
   "source": [
    "Well done! Each comparison should now have one of our two inputs needed for GO-MWU. Continue to 35_GO-MWU_prep.R to create the other input."
   ]
  }
 ],
 "metadata": {
  "kernelspec": {
   "display_name": "Python 3",
   "language": "python",
   "name": "python3"
  },
  "language_info": {
   "codemirror_mode": {
    "name": "ipython",
    "version": 3
   },
   "file_extension": ".py",
   "mimetype": "text/x-python",
   "name": "python",
   "nbconvert_exporter": "python",
   "pygments_lexer": "ipython3",
   "version": "3.8.3"
  }
 },
 "nbformat": 4,
 "nbformat_minor": 4
}
