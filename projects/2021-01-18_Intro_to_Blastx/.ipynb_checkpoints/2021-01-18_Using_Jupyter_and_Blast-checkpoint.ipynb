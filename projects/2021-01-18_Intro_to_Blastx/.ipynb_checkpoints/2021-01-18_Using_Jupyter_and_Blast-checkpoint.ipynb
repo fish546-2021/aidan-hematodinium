{
 "cells": [
  {
   "cell_type": "markdown",
   "metadata": {},
   "source": [
    "Aidan Coyle, afcoyle@uw.edu\n",
    "FISH 546, 2021-01-18\n",
    "Week 3 Assignment"
   ]
  },
  {
   "cell_type": "code",
   "execution_count": 1,
   "metadata": {},
   "outputs": [
    {
     "name": "stdout",
     "output_type": "stream",
     "text": [
      "USAGE\r\n",
      "  blastx [-h] [-help] [-import_search_strategy filename]\r\n",
      "    [-export_search_strategy filename] [-task task_name] [-db database_name]\r\n",
      "    [-dbsize num_letters] [-gilist filename] [-seqidlist filename]\r\n",
      "    [-negative_gilist filename] [-negative_seqidlist filename]\r\n",
      "    [-taxids taxids] [-negative_taxids taxids] [-taxidlist filename]\r\n",
      "    [-negative_taxidlist filename] [-ipglist filename]\r\n",
      "    [-negative_ipglist filename] [-entrez_query entrez_query]\r\n",
      "    [-db_soft_mask filtering_algorithm] [-db_hard_mask filtering_algorithm]\r\n",
      "    [-subject subject_input_file] [-subject_loc range] [-query input_file]\r\n",
      "    [-out output_file] [-evalue evalue] [-word_size int_value]\r\n",
      "    [-gapopen open_penalty] [-gapextend extend_penalty]\r\n",
      "    [-qcov_hsp_perc float_value] [-max_hsps int_value]\r\n",
      "    [-xdrop_ungap float_value] [-xdrop_gap float_value]\r\n",
      "    [-xdrop_gap_final float_value] [-searchsp int_value]\r\n",
      "    [-sum_stats bool_value] [-max_intron_length length] [-seg SEG_options]\r\n",
      "    [-soft_masking soft_masking] [-matrix matrix_name]\r\n",
      "    [-threshold float_value] [-culling_limit int_value]\r\n",
      "    [-best_hit_overhang float_value] [-best_hit_score_edge float_value]\r\n",
      "    [-subject_besthit] [-window_size int_value] [-ungapped] [-lcase_masking]\r\n",
      "    [-query_loc range] [-strand strand] [-parse_deflines]\r\n",
      "    [-query_gencode int_value] [-outfmt format] [-show_gis]\r\n",
      "    [-num_descriptions int_value] [-num_alignments int_value]\r\n",
      "    [-line_length line_length] [-html] [-sorthits sort_hits]\r\n",
      "    [-sorthsps sort_hsps] [-max_target_seqs num_sequences]\r\n",
      "    [-num_threads int_value] [-remote] [-comp_based_stats compo]\r\n",
      "    [-use_sw_tback] [-version]\r\n",
      "\r\n",
      "DESCRIPTION\r\n",
      "   Translated Query-Protein Subject BLAST 2.9.0+\r\n",
      "\r\n",
      "Use '-help' to print detailed descriptions of command line arguments\r\n"
     ]
    }
   ],
   "source": [
    "!blastx -h"
   ]
  },
  {
   "cell_type": "code",
   "execution_count": null,
   "metadata": {},
   "outputs": [],
   "source": []
  }
 ],
 "metadata": {
  "kernelspec": {
   "display_name": "Python 3",
   "language": "python",
   "name": "python3"
  },
  "language_info": {
   "codemirror_mode": {
    "name": "ipython",
    "version": 3
   },
   "file_extension": ".py",
   "mimetype": "text/x-python",
   "name": "python",
   "nbconvert_exporter": "python",
   "pygments_lexer": "ipython3",
   "version": "3.8.3"
  }
 },
 "nbformat": 4,
 "nbformat_minor": 4
}
