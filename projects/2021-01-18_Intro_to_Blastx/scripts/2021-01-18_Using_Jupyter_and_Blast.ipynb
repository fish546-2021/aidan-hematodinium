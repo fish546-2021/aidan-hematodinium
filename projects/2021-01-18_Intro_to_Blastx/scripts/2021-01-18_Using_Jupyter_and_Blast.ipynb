{
 "cells": [
  {
   "cell_type": "markdown",
   "metadata": {},
   "source": [
    "Aidan Coyle, afcoyle@uw.edu\n",
    "FISH 546, 2021-01-18\n",
    "Week 3 Assignment"
   ]
  },
  {
   "cell_type": "code",
   "execution_count": 1,
   "metadata": {
    "scrolled": true
   },
   "outputs": [
    {
     "name": "stdout",
     "output_type": "stream",
     "text": [
      "USAGE\r\n",
      "  blastx [-h] [-help] [-import_search_strategy filename]\r\n",
      "    [-export_search_strategy filename] [-task task_name] [-db database_name]\r\n",
      "    [-dbsize num_letters] [-gilist filename] [-seqidlist filename]\r\n",
      "    [-negative_gilist filename] [-negative_seqidlist filename]\r\n",
      "    [-taxids taxids] [-negative_taxids taxids] [-taxidlist filename]\r\n",
      "    [-negative_taxidlist filename] [-ipglist filename]\r\n",
      "    [-negative_ipglist filename] [-entrez_query entrez_query]\r\n",
      "    [-db_soft_mask filtering_algorithm] [-db_hard_mask filtering_algorithm]\r\n",
      "    [-subject subject_input_file] [-subject_loc range] [-query input_file]\r\n",
      "    [-out output_file] [-evalue evalue] [-word_size int_value]\r\n",
      "    [-gapopen open_penalty] [-gapextend extend_penalty]\r\n",
      "    [-qcov_hsp_perc float_value] [-max_hsps int_value]\r\n",
      "    [-xdrop_ungap float_value] [-xdrop_gap float_value]\r\n",
      "    [-xdrop_gap_final float_value] [-searchsp int_value]\r\n",
      "    [-sum_stats bool_value] [-max_intron_length length] [-seg SEG_options]\r\n",
      "    [-soft_masking soft_masking] [-matrix matrix_name]\r\n",
      "    [-threshold float_value] [-culling_limit int_value]\r\n",
      "    [-best_hit_overhang float_value] [-best_hit_score_edge float_value]\r\n",
      "    [-subject_besthit] [-window_size int_value] [-ungapped] [-lcase_masking]\r\n",
      "    [-query_loc range] [-strand strand] [-parse_deflines]\r\n",
      "    [-query_gencode int_value] [-outfmt format] [-show_gis]\r\n",
      "    [-num_descriptions int_value] [-num_alignments int_value]\r\n",
      "    [-line_length line_length] [-html] [-sorthits sort_hits]\r\n",
      "    [-sorthsps sort_hsps] [-max_target_seqs num_sequences]\r\n",
      "    [-num_threads int_value] [-remote] [-comp_based_stats compo]\r\n",
      "    [-use_sw_tback] [-version]\r\n",
      "\r\n",
      "DESCRIPTION\r\n",
      "   Translated Query-Protein Subject BLAST 2.9.0+\r\n",
      "\r\n",
      "Use '-help' to print detailed descriptions of command line arguments\r\n"
     ]
    }
   ],
   "source": [
    "# already have BLASTx - verify it's downloaded\n",
    "!blastx -h"
   ]
  },
  {
   "cell_type": "code",
   "execution_count": 4,
   "metadata": {
    "scrolled": true
   },
   "outputs": [
    {
     "name": "stdout",
     "output_type": "stream",
     "text": [
      "  % Total    % Received % Xferd  Average Speed   Time    Time     Time  Current\n",
      "                                 Dload  Upload   Total   Spent    Left  Speed\n",
      "100 85.6M  100 85.6M    0     0  8306k      0  0:00:10  0:00:10 --:--:-- 8026k\n"
     ]
    }
   ],
   "source": [
    "# download Uniprot data, put in data folder\n",
    "!curl \\\n",
    "ftp://ftp.uniprot.org/pub/databases/uniprot/current_release/knowledgebase/complete/uniprot_sprot.fasta.gz \\\n",
    "> ../data/blastdb/uniprot_sprot.fasta.gz"
   ]
  },
  {
   "cell_type": "code",
   "execution_count": 6,
   "metadata": {},
   "outputs": [
    {
     "name": "stdout",
     "output_type": "stream",
     "text": [
      "total 86M\r\n",
      "-rwxrwxrwx 1 afcoyle afcoyle 86M Jan 18 16:00 uniprot_sprot.fasta.gz\r\n"
     ]
    }
   ],
   "source": [
    "# verify data was downloaded, look at size with -lh\n",
    "!ls -lh ../data/blastdb"
   ]
  },
  {
   "cell_type": "code",
   "execution_count": 7,
   "metadata": {},
   "outputs": [
    {
     "name": "stdout",
     "output_type": "stream",
     "text": [
      "Warning: --metalink option is ignored because the binary is built without the \n",
      "Warning: Metalink support.\n",
      "  % Total    % Received % Xferd  Average Speed   Time    Time     Time  Current\n",
      "                                 Dload  Upload   Total   Spent    Left  Speed\n",
      "100  8107  100  8107    0     0  10794      0 --:--:-- --:--:-- --:--:-- 10780\n"
     ]
    }
   ],
   "source": [
    "# download file of all checksums\n",
    "!curl --metalink \\\n",
    "ftp://ftp.uniprot.org/pub/databases/uniprot/current_release/knowledgebase/complete/RELEASE.metalink \\\n",
    "> ../data/blastdb/all_checksums.metalink"
   ]
  },
  {
   "cell_type": "markdown",
   "metadata": {},
   "source": [
    "Opened .metalink file in Atom, saw that uniprot_sprot.fasta.gz has the MD5 checksum c3a3f4f5de9d69723a1e8f13817c0068"
   ]
  },
  {
   "cell_type": "code",
   "execution_count": 8,
   "metadata": {},
   "outputs": [
    {
     "name": "stdout",
     "output_type": "stream",
     "text": [
      "c3a3f4f5de9d69723a1e8f13817c0068  ../data/blastdb/uniprot_sprot.fasta.gz\r\n"
     ]
    }
   ],
   "source": [
    "# rather than visually comparing, this computes the checksum for our \n",
    "# uniprot_sprot.fasta.gz file and then uses grep to see if contents match\n",
    "!md5sum ../data/blastdb/uniprot_sprot.fasta.gz | grep c3a3f4f5de9d69723a1e8f13817c0068"
   ]
  },
  {
   "cell_type": "markdown",
   "metadata": {},
   "source": [
    "Checksums matched, so continuing"
   ]
  },
  {
   "cell_type": "code",
   "execution_count": 9,
   "metadata": {},
   "outputs": [],
   "source": [
    "# unzip file\n",
    "!gunzip -k ../data/blastdb/uniprot_sprot.fasta.gz"
   ]
  },
  {
   "cell_type": "code",
   "execution_count": 10,
   "metadata": {},
   "outputs": [
    {
     "name": "stdout",
     "output_type": "stream",
     "text": [
      "total 352M\r\n",
      "-rwxrwxrwx 1 afcoyle afcoyle 8.0K Jan 18 16:00 all_checksums.metalink\r\n",
      "-rwxrwxrwx 1 afcoyle afcoyle 267M Jan 18 16:00 uniprot_sprot.fasta\r\n",
      "-rwxrwxrwx 1 afcoyle afcoyle  86M Jan 18 16:00 uniprot_sprot.fasta.gz\r\n"
     ]
    }
   ],
   "source": [
    "# verify folder contents\n",
    "!ls -lh ../data/blastdb"
   ]
  },
  {
   "cell_type": "code",
   "execution_count": 12,
   "metadata": {},
   "outputs": [
    {
     "name": "stdout",
     "output_type": "stream",
     "text": [
      "\n",
      "\n",
      "Building a new DB, current time: 01/18/2021 16:01:46\n",
      "New DB name:   /mnt/c/Users/acoyl/Documents/GitHub/fish546/projects/2021-01-18_Intro_to_Blastx/data/blastdb/uniprot_sprot_2021_01\n",
      "New DB title:  ../data/blastdb/uniprot_sprot.fasta\n",
      "Sequence type: Protein\n",
      "Keep MBits: T\n",
      "Maximum file size: 1000000000B\n",
      "Adding sequences from FASTA; added 563972 sequences in 18.9258 seconds.\n"
     ]
    }
   ],
   "source": [
    "# create BLAST database. Previously appended BLAST location to system path\n",
    "# appending download year/month to database\n",
    "!makeblastdb \\\n",
    "-in ../data/blastdb/uniprot_sprot.fasta \\\n",
    "-dbtype prot \\\n",
    "-out ../data/blastdb/uniprot_sprot_2021_01"
   ]
  },
  {
   "cell_type": "code",
   "execution_count": 15,
   "metadata": {},
   "outputs": [
    {
     "name": "stdout",
     "output_type": "stream",
     "text": [
      "  % Total    % Received % Xferd  Average Speed   Time    Time     Time  Current\n",
      "                                 Dload  Upload   Total   Spent    Left  Speed\n",
      "100 1982k  100 1982k    0     0   674k      0  0:00:02  0:00:02 --:--:--  674k\n"
     ]
    }
   ],
   "source": [
    "# getting file from url to local location\n",
    "!curl https://eagle.fish.washington.edu/cnidarian/Ab_4denovo_CLC6_a.fa \\\n",
    "> ../data/Ab_4denovo_CLC6_a.fa"
   ]
  },
  {
   "cell_type": "code",
   "execution_count": 16,
   "metadata": {},
   "outputs": [
    {
     "name": "stdout",
     "output_type": "stream",
     "text": [
      ">solid0078_20110412_FRAG_BC_WHITE_WHITE_F3_QV_SE_trimmed_contig_1\r\n",
      "ACACCCCACCCCAACGCACCCTCACCCCCACCCCAACAATCCATGATTGAATACTTCATC\r\n",
      "TATCCAAGACAAACTCCTCCTACAATCCATGATAGAATTCCTCCAAAAATAATTTCACAC\r\n",
      "TGAAACTCCGGTATCCGAGTTATTTTGTTCCCAGTAAAATGGCATCAACAAAAGTAGGTC\r\n",
      "TGGATTAACGAACCAATGTTGCTGCGTAATATCCCATTGACATATCTTGTCGATTCCTAC\r\n",
      "CAGGATCCGGACTGACGAGATTTCACTGTACGTTTATGCAAGTCATTTCCATATATAAAA\r\n",
      "TTGGATCTTATTTGCACAGTTAAATGTCTCTATGCTTATTTATAAATCAATGCCCGTAAG\r\n",
      "CTCCTAATATTTCTCTTTTCGTCCGACGAGCAAACAGTGAGTTTACTGTGGCCTTCAGCA\r\n",
      "AAAGTATTGATGTTGTAAATCTCAGTTGTGATTGAACAATTTGCCTCACTAGAAGTAGCC\r\n",
      "TTC\r\n"
     ]
    }
   ],
   "source": [
    "# preview of file\n",
    "!head ../data/Ab_4denovo_CLC6_a.fa"
   ]
  },
  {
   "cell_type": "code",
   "execution_count": 17,
   "metadata": {},
   "outputs": [
    {
     "name": "stdout",
     "output_type": "stream",
     "text": [
      "5490\r\n"
     ]
    }
   ],
   "source": [
    "# find number of sequences\n",
    "!grep -c \">\" ../data/Ab_4denovo_CLC6_a.fa"
   ]
  },
  {
   "cell_type": "code",
   "execution_count": 18,
   "metadata": {},
   "outputs": [
    {
     "name": "stdout",
     "output_type": "stream",
     "text": [
      "Warning: [blastx] Examining 5 or more matches is recommended\r\n"
     ]
    }
   ],
   "source": [
    "# run blastx\n",
    "!blastx \\\n",
    "-query ../data/Ab_4denovo_CLC6_a.fa \\\n",
    "-db ../data/blastdb/uniprot_sprot_2021_01 \\\n",
    "-out ../analyses/Ab4-uniprot_blastx.tab \\\n",
    "-evalue 1E-20 \\\n",
    "-num_threads 4 \\\n",
    "-max_target_seqs 1 \\\n",
    "-outfmt 6"
   ]
  },
  {
   "cell_type": "code",
   "execution_count": 19,
   "metadata": {},
   "outputs": [
    {
     "name": "stdout",
     "output_type": "stream",
     "text": [
      "solid0078_20110412_FRAG_BC_WHITE_WHITE_F3_QV_SE_trimmed_contig_3\tsp|O42248|GBLP_DANRE\t82.456\t171\t30\t0\t1\t513\t35\t205\t2.77e-103\t301\r\n",
      "solid0078_20110412_FRAG_BC_WHITE_WHITE_F3_QV_SE_trimmed_contig_5\tsp|Q08013|SSRG_RAT\t75.385\t65\t16\t0\t3\t197\t121\t185\t1.38e-28\t104\r\n",
      "solid0078_20110412_FRAG_BC_WHITE_WHITE_F3_QV_SE_trimmed_contig_6\tsp|P12234|MPCP_BOVIN\t76.623\t77\t18\t0\t2\t232\t286\t362\t7.19e-24\t98.6\r\n",
      "solid0078_20110412_FRAG_BC_WHITE_WHITE_F3_QV_SE_trimmed_contig_9\tsp|Q41629|ADT1_WHEAT\t82.258\t62\t11\t0\t3\t188\t170\t231\t5.98e-28\t104\r\n",
      "solid0078_20110412_FRAG_BC_WHITE_WHITE_F3_QV_SE_trimmed_contig_13\tsp|Q32NG4|GALD1_XENLA\t54.444\t90\t40\t1\t1\t270\t140\t228\t1.49e-28\t106\r\n",
      "solid0078_20110412_FRAG_BC_WHITE_WHITE_F3_QV_SE_trimmed_contig_23\tsp|Q9GNE2|RL23_AEDAE\t97.222\t72\t2\t0\t67\t282\t14\t85\t6.71e-44\t142\r\n",
      "solid0078_20110412_FRAG_BC_WHITE_WHITE_F3_QV_SE_trimmed_contig_31\tsp|B3EWZ9|HEPHL_ACRMI\t56.589\t129\t53\t1\t2\t379\t26\t154\t1.77e-44\t157\r\n",
      "solid0078_20110412_FRAG_BC_WHITE_WHITE_F3_QV_SE_trimmed_contig_31\tsp|B3EWZ9|HEPHL_ACRMI\t44.715\t123\t64\t1\t8\t364\t380\t502\t9.05e-30\t115\r\n",
      "solid0078_20110412_FRAG_BC_WHITE_WHITE_F3_QV_SE_trimmed_contig_31\tsp|B3EWZ9|HEPHL_ACRMI\t44.531\t128\t65\t3\t11\t376\t732\t859\t1.18e-27\t109\r\n",
      "solid0078_20110412_FRAG_BC_WHITE_WHITE_F3_QV_SE_trimmed_contig_32\tsp|Q641Y2|NDUS2_RAT\t88.034\t117\t14\t0\t2\t352\t334\t450\t6.33e-72\t224\r\n"
     ]
    }
   ],
   "source": [
    "# examine top of file\n",
    "!head ../analyses/Ab4-uniprot_blastx.tab"
   ]
  },
  {
   "cell_type": "code",
   "execution_count": 20,
   "metadata": {},
   "outputs": [
    {
     "name": "stdout",
     "output_type": "stream",
     "text": [
      "solid0078_20110412_FRAG_BC_WHITE_WHITE_F3_QV_SE_trimmed_contig_5404\tsp|Q9C509|SGPL_ARATH\t51.724\t87\t42\t0\t1\t261\t261\t347\t6.02e-26\t102\r\n",
      "solid0078_20110412_FRAG_BC_WHITE_WHITE_F3_QV_SE_trimmed_contig_5414\tsp|Q99NB9|SF3B1_MOUSE\t98.611\t72\t1\t0\t2\t217\t1086\t1157\t1.49e-43\t152\r\n",
      "solid0078_20110412_FRAG_BC_WHITE_WHITE_F3_QV_SE_trimmed_contig_5438\tsp|Q7ZVY5|CISY_DANRE\t75.862\t87\t21\t0\t2\t262\t149\t235\t1.72e-42\t147\r\n",
      "solid0078_20110412_FRAG_BC_WHITE_WHITE_F3_QV_SE_trimmed_contig_5443\tsp|P11442|CLH1_RAT\t91.667\t72\t6\t0\t1\t216\t990\t1061\t2.21e-28\t108\r\n",
      "solid0078_20110412_FRAG_BC_WHITE_WHITE_F3_QV_SE_trimmed_contig_5446\tsp|Q7ZUG0|RUXE_DANRE\t88.889\t54\t6\t0\t2\t163\t37\t90\t1.96e-29\t103\r\n",
      "solid0078_20110412_FRAG_BC_WHITE_WHITE_F3_QV_SE_trimmed_contig_5465\tsp|Q6NU91|NOC4B_XENLA\t65.625\t64\t22\t0\t4\t195\t289\t352\t6.86e-24\t96.3\r\n",
      "solid0078_20110412_FRAG_BC_WHITE_WHITE_F3_QV_SE_trimmed_contig_5480\tsp|P35003|CTRL_HALRU\t81.714\t175\t21\t2\t2\t511\t26\t194\t1.25e-92\t272\r\n",
      "solid0078_20110412_FRAG_BC_WHITE_WHITE_F3_QV_SE_trimmed_contig_5484\tsp|Q9BDJ5|VNN1_PIG\t57.692\t78\t31\t2\t1\t231\t122\t198\t1.47e-25\t100\r\n",
      "solid0078_20110412_FRAG_BC_WHITE_WHITE_F3_QV_SE_trimmed_contig_5487\tsp|Q36964|ATP6_ONCMA\t90.361\t83\t8\t0\t1\t249\t96\t178\t1.15e-40\t135\r\n",
      "solid0078_20110412_FRAG_BC_WHITE_WHITE_F3_QV_SE_trimmed_contig_5490\tsp|Q28542|OVGP1_SHEEP\t52.564\t78\t36\t1\t5\t238\t245\t321\t2.72e-21\t89.4\r\n"
     ]
    }
   ],
   "source": [
    "# examine end of file\n",
    "!tail ../analyses/Ab4-uniprot_blastx.tab"
   ]
  },
  {
   "cell_type": "code",
   "execution_count": 21,
   "metadata": {},
   "outputs": [
    {
     "name": "stdout",
     "output_type": "stream",
     "text": [
      "764 ../analyses/Ab4-uniprot_blastx.tab\r\n"
     ]
    }
   ],
   "source": [
    "# see how many lines in the file\n",
    "!wc -l ../analyses/Ab4-uniprot_blastx.tab"
   ]
  },
  {
   "cell_type": "code",
   "execution_count": 22,
   "metadata": {},
   "outputs": [
    {
     "name": "stdout",
     "output_type": "stream",
     "text": [
      "764\r\n"
     ]
    }
   ],
   "source": [
    "# the guide shows 754 lines, this has 764 lines. Examine other measures of file length to resolve.\n",
    "!grep -c \"contig\" ../analyses/Ab4-uniprot_blastx.tab"
   ]
  },
  {
   "cell_type": "code",
   "execution_count": 25,
   "metadata": {},
   "outputs": [
    {
     "name": "stdout",
     "output_type": "stream",
     "text": [
      "764\r\n"
     ]
    }
   ],
   "source": [
    "!grep -c \"solid\" ../analyses/Ab4-uniprot_blastx.tab"
   ]
  },
  {
   "cell_type": "markdown",
   "metadata": {},
   "source": [
    "It appears that the 10-line discrepancy is the result of differences in the data rather than procedural errors. Therefore, I believe that this assignment is complete!"
   ]
  }
 ],
 "metadata": {
  "kernelspec": {
   "display_name": "Python 3",
   "language": "python",
   "name": "python3"
  },
  "language_info": {
   "codemirror_mode": {
    "name": "ipython",
    "version": 3
   },
   "file_extension": ".py",
   "mimetype": "text/x-python",
   "name": "python",
   "nbconvert_exporter": "python",
   "pygments_lexer": "ipython3",
   "version": "3.8.3"
  }
 },
 "nbformat": 4,
 "nbformat_minor": 4
}
