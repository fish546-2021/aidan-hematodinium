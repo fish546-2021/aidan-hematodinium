{
 "cells": [
  {
   "cell_type": "markdown",
   "metadata": {},
   "source": [
    "Aidan Coyle, afcoyle@uw.edu\n",
    "\n",
    "2021-02-28, FISH 546\n",
    "\n",
    "# Running Bowtie2\n",
    "\n",
    "This is my attempt to run Bowtie2 as part of my homework assignment for FISH 546, Winter 2021"
   ]
  },
  {
   "cell_type": "code",
   "execution_count": 3,
   "metadata": {},
   "outputs": [
    {
     "name": "stdout",
     "output_type": "stream",
     "text": [
      "  % Total    % Received % Xferd  Average Speed   Time    Time     Time  Current\n",
      "                                 Dload  Upload   Total   Spent    Left  Speed\n",
      "100 1264M  100 1264M    0     0  15.9M      0  0:01:19  0:01:19 --:--:-- 16.2M\n"
     ]
    }
   ],
   "source": [
    "# Download Read 1 for a random library (Library 72)\n",
    "!curl -O -k https://gannet.fish.washington.edu/Atumefaciens/20200318_cbai_RNAseq_fastp_trimming/72_R1_001.fastp-trim.202003181709.fq.gz"
   ]
  },
  {
   "cell_type": "code",
   "execution_count": 4,
   "metadata": {},
   "outputs": [
    {
     "name": "stdout",
     "output_type": "stream",
     "text": [
      "  % Total    % Received % Xferd  Average Speed   Time    Time     Time  Current\n",
      "                                 Dload  Upload   Total   Spent    Left  Speed\n",
      "100 1298M  100 1298M    0     0  15.4M      0  0:01:23  0:01:23 --:--:-- 16.6M\n"
     ]
    }
   ],
   "source": [
    "# Download Read 2 for Library 72\n",
    "!curl -O -k https://gannet.fish.washington.edu/Atumefaciens/20200318_cbai_RNAseq_fastp_trimming/72_R2_001.fastp-trim.202003181709.fq.gz"
   ]
  },
  {
   "cell_type": "code",
   "execution_count": 5,
   "metadata": {},
   "outputs": [
    {
     "name": "stdout",
     "output_type": "stream",
     "text": [
      "  % Total    % Received % Xferd  Average Speed   Time    Time     Time  Current\n",
      "                                 Dload  Upload   Total   Spent    Left  Speed\n",
      "100  3596  100  3596    0     0  27242      0 --:--:-- --:--:-- --:--:-- 27450\n"
     ]
    }
   ],
   "source": [
    "# Download checksums\n",
    "!curl -O -k https://gannet.fish.washington.edu/Atumefaciens/20200318_cbai_RNAseq_fastp_trimming/trimmed_fastq_checksums.md5"
   ]
  },
  {
   "cell_type": "code",
   "execution_count": 6,
   "metadata": {},
   "outputs": [
    {
     "name": "stdout",
     "output_type": "stream",
     "text": [
      "md5sum: 113_R1_001.fastp-trim.202003184225.fq.gz: No such file or directory\n",
      "113_R1_001.fastp-trim.202003184225.fq.gz: FAILED open or read\n",
      "md5sum: 113_R2_001.fastp-trim.202003184225.fq.gz: No such file or directory\n",
      "113_R2_001.fastp-trim.202003184225.fq.gz: FAILED open or read\n",
      "md5sum: 118_R1_001.fastp-trim.202003184931.fq.gz: No such file or directory\n",
      "118_R1_001.fastp-trim.202003184931.fq.gz: FAILED open or read\n",
      "md5sum: 118_R2_001.fastp-trim.202003184931.fq.gz: No such file or directory\n",
      "118_R2_001.fastp-trim.202003184931.fq.gz: FAILED open or read\n",
      "md5sum: 127_R1_001.fastp-trim.202003185538.fq.gz: No such file or directory\n",
      "127_R1_001.fastp-trim.202003185538.fq.gz: FAILED open or read\n",
      "md5sum: 127_R2_001.fastp-trim.202003185538.fq.gz: No such file or directory\n",
      "127_R2_001.fastp-trim.202003185538.fq.gz: FAILED open or read\n",
      "md5sum: 132_R1_001.fastp-trim.202003180140.fq.gz: No such file or directory\n",
      "132_R1_001.fastp-trim.202003180140.fq.gz: FAILED open or read\n",
      "md5sum: 132_R2_001.fastp-trim.202003180140.fq.gz: No such file or directory\n",
      "132_R2_001.fastp-trim.202003180140.fq.gz: FAILED open or read\n",
      "md5sum: 151_R1_001.fastp-trim.202003180619.fq.gz: No such file or directory\n",
      "151_R1_001.fastp-trim.202003180619.fq.gz: FAILED open or read\n",
      "md5sum: 151_R2_001.fastp-trim.202003180619.fq.gz: No such file or directory\n",
      "151_R2_001.fastp-trim.202003180619.fq.gz: FAILED open or read\n",
      "md5sum: 173_R1_001.fastp-trim.202003181159.fq.gz: No such file or directory\n",
      "173_R1_001.fastp-trim.202003181159.fq.gz: FAILED open or read\n",
      "md5sum: 173_R2_001.fastp-trim.202003181159.fq.gz: No such file or directory\n",
      "173_R2_001.fastp-trim.202003181159.fq.gz: FAILED open or read\n",
      "md5sum: 178_R1_001.fastp-trim.202003181815.fq.gz: No such file or directory\n",
      "178_R1_001.fastp-trim.202003181815.fq.gz: FAILED open or read\n",
      "md5sum: 178_R2_001.fastp-trim.202003181815.fq.gz: No such file or directory\n",
      "178_R2_001.fastp-trim.202003181815.fq.gz: FAILED open or read\n",
      "md5sum: 221_R1_001.fastp-trim.202003182309.fq.gz: No such file or directory\n",
      "221_R1_001.fastp-trim.202003182309.fq.gz: FAILED open or read\n",
      "md5sum: 221_R2_001.fastp-trim.202003182309.fq.gz: No such file or directory\n",
      "221_R2_001.fastp-trim.202003182309.fq.gz: FAILED open or read\n",
      "md5sum: 222_R1_001.fastp-trim.202003182800.fq.gz: No such file or directory\n",
      "222_R1_001.fastp-trim.202003182800.fq.gz: FAILED open or read\n",
      "md5sum: 222_R2_001.fastp-trim.202003182800.fq.gz: No such file or directory\n",
      "222_R2_001.fastp-trim.202003182800.fq.gz: FAILED open or read\n",
      "md5sum: 254_R1_001.fastp-trim.202003184228.fq.gz: No such file or directory\n",
      "254_R1_001.fastp-trim.202003184228.fq.gz: FAILED open or read\n",
      "md5sum: 254_R2_001.fastp-trim.202003184228.fq.gz: No such file or directory\n",
      "254_R2_001.fastp-trim.202003184228.fq.gz: FAILED open or read\n",
      "md5sum: 272_R1_001.fastp-trim.202003184536.fq.gz: No such file or directory\n",
      "272_R1_001.fastp-trim.202003184536.fq.gz: FAILED open or read\n",
      "md5sum: 272_R2_001.fastp-trim.202003184536.fq.gz: No such file or directory\n",
      "272_R2_001.fastp-trim.202003184536.fq.gz: FAILED open or read\n",
      "md5sum: 280_R1_001.fastp-trim.202003185124.fq.gz: No such file or directory\n",
      "280_R1_001.fastp-trim.202003185124.fq.gz: FAILED open or read\n",
      "md5sum: 280_R2_001.fastp-trim.202003185124.fq.gz: No such file or directory\n",
      "280_R2_001.fastp-trim.202003185124.fq.gz: FAILED open or read\n",
      "md5sum: 294_R1_001.fastp-trim.202003180701.fq.gz: No such file or directory\n",
      "294_R1_001.fastp-trim.202003180701.fq.gz: FAILED open or read\n",
      "md5sum: 294_R2_001.fastp-trim.202003180701.fq.gz: No such file or directory\n",
      "294_R2_001.fastp-trim.202003180701.fq.gz: FAILED open or read\n",
      "md5sum: 334_R1_001.fastp-trim.202003181149.fq.gz: No such file or directory\n",
      "334_R1_001.fastp-trim.202003181149.fq.gz: FAILED open or read\n",
      "md5sum: 334_R2_001.fastp-trim.202003181149.fq.gz: No such file or directory\n",
      "334_R2_001.fastp-trim.202003181149.fq.gz: FAILED open or read\n",
      "md5sum: 349_R1_001.fastp-trim.202003181609.fq.gz: No such file or directory\n",
      "349_R1_001.fastp-trim.202003181609.fq.gz: FAILED open or read\n",
      "md5sum: 349_R2_001.fastp-trim.202003181609.fq.gz: No such file or directory\n",
      "349_R2_001.fastp-trim.202003181609.fq.gz: FAILED open or read\n",
      "md5sum: 359_R1_001.fastp-trim.202003182247.fq.gz: No such file or directory\n",
      "359_R1_001.fastp-trim.202003182247.fq.gz: FAILED open or read\n",
      "md5sum: 359_R2_001.fastp-trim.202003182247.fq.gz: No such file or directory\n",
      "359_R2_001.fastp-trim.202003182247.fq.gz: FAILED open or read\n",
      "md5sum: 425_R1_001.fastp-trim.202003182722.fq.gz: No such file or directory\n",
      "425_R1_001.fastp-trim.202003182722.fq.gz: FAILED open or read\n",
      "md5sum: 425_R2_001.fastp-trim.202003182722.fq.gz: No such file or directory\n",
      "425_R2_001.fastp-trim.202003182722.fq.gz: FAILED open or read\n",
      "md5sum: 427_R1_001.fastp-trim.202003184618.fq.gz: No such file or directory\n",
      "427_R1_001.fastp-trim.202003184618.fq.gz: FAILED open or read\n",
      "md5sum: 427_R2_001.fastp-trim.202003184618.fq.gz: No such file or directory\n",
      "427_R2_001.fastp-trim.202003184618.fq.gz: FAILED open or read\n",
      "md5sum: 445_R1_001.fastp-trim.202003185018.fq.gz: No such file or directory\n",
      "445_R1_001.fastp-trim.202003185018.fq.gz: FAILED open or read\n",
      "md5sum: 445_R2_001.fastp-trim.202003185018.fq.gz: No such file or directory\n",
      "445_R2_001.fastp-trim.202003185018.fq.gz: FAILED open or read\n",
      "md5sum: 463_R1_001.fastp-trim.202003185732.fq.gz: No such file or directory\n",
      "463_R1_001.fastp-trim.202003185732.fq.gz: FAILED open or read\n",
      "md5sum: 463_R2_001.fastp-trim.202003185732.fq.gz: No such file or directory\n",
      "463_R2_001.fastp-trim.202003185732.fq.gz: FAILED open or read\n",
      "md5sum: 481_R1_001.fastp-trim.202003180047.fq.gz: No such file or directory\n",
      "481_R1_001.fastp-trim.202003180047.fq.gz: FAILED open or read\n",
      "md5sum: 481_R2_001.fastp-trim.202003180047.fq.gz: No such file or directory\n",
      "481_R2_001.fastp-trim.202003180047.fq.gz: FAILED open or read\n",
      "md5sum: 485_R1_001.fastp-trim.202003181245.fq.gz: No such file or directory\n",
      "485_R1_001.fastp-trim.202003181245.fq.gz: FAILED open or read\n",
      "md5sum: 485_R2_001.fastp-trim.202003181245.fq.gz: No such file or directory\n",
      "485_R2_001.fastp-trim.202003181245.fq.gz: FAILED open or read\n",
      "72_R1_001.fastp-trim.202003181709.fq.gz: OK\n",
      "72_R2_001.fastp-trim.202003181709.fq.gz: OK\n",
      "md5sum: 73_R1_001.fastp-trim.202003182229.fq.gz: No such file or directory\n",
      "73_R1_001.fastp-trim.202003182229.fq.gz: FAILED open or read\n",
      "md5sum: 73_R2_001.fastp-trim.202003182229.fq.gz: No such file or directory\n",
      "73_R2_001.fastp-trim.202003182229.fq.gz: FAILED open or read\n",
      "md5sum: WARNING: 46 listed files could not be read\n"
     ]
    }
   ],
   "source": [
    "# Check downloads were all good. Lots of missing files, but we only downloaded two!\n",
    "!md5sum -c trimmed_fastq_checksums.md5"
   ]
  },
  {
   "cell_type": "code",
   "execution_count": 12,
   "metadata": {},
   "outputs": [],
   "source": [
    "# Move both R1 and R2 to data folder, along with checksum file\n",
    "!mv 72_R*.fq.gz ../data\n",
    "!mv trimmed_fastq_checksums.md5 ../data"
   ]
  },
  {
   "cell_type": "code",
   "execution_count": 13,
   "metadata": {},
   "outputs": [
    {
     "name": "stdout",
     "output_type": "stream",
     "text": [
      "  % Total    % Received % Xferd  Average Speed   Time    Time     Time  Current\n",
      "                                 Dload  Upload   Total   Spent    Left  Speed\n",
      "100 18.1M  100 18.1M    0     0  11.2M      0  0:00:01  0:00:01 --:--:-- 11.2M\n"
     ]
    }
   ],
   "source": [
    "# Download our reference genome - cbai_genome_v1.01 - which excludes all sequences <1000bp\n",
    "!curl -O -k https://owl.fish.washington.edu/halfshell/genomic-databank/cbai_genome_v1.01.fasta"
   ]
  },
  {
   "cell_type": "code",
   "execution_count": 14,
   "metadata": {},
   "outputs": [
    {
     "name": "stdout",
     "output_type": "stream",
     "text": [
      "5a08d8b0651484e3ff75fcf032804596  cbai_genome_v1.01.fasta\n"
     ]
    }
   ],
   "source": [
    "# Verify checksums - should be 5a08d8b0651484e3ff75fcf032804596\n",
    "!md5sum cbai_genome_v1.01.fasta | grep 5a08d8b0651484e3ff75fcf032804596"
   ]
  },
  {
   "cell_type": "code",
   "execution_count": 15,
   "metadata": {},
   "outputs": [],
   "source": [
    "# Move reference genome to data folder\n",
    "!mv cbai_genome_v1.01.fasta ../data"
   ]
  },
  {
   "cell_type": "code",
   "execution_count": 22,
   "metadata": {},
   "outputs": [
    {
     "name": "stdout",
     "output_type": "stream",
     "text": [
      "/mnt/c/Users/acoyl/Documents/GitHub/fish546/projects/2021-02-28_Bowtie2_IGV/output\n"
     ]
    }
   ],
   "source": [
    "# Index our genome\n",
    "%cd ../output/"
   ]
  },
  {
   "cell_type": "code",
   "execution_count": 23,
   "metadata": {},
   "outputs": [],
   "source": [
    "# Make directory for running bowtie2\n",
    "!mkdir bowtie2_run"
   ]
  },
  {
   "cell_type": "code",
   "execution_count": 24,
   "metadata": {},
   "outputs": [
    {
     "name": "stdout",
     "output_type": "stream",
     "text": [
      "/mnt/c/Users/acoyl/Documents/GitHub/fish546/projects/2021-02-28_Bowtie2_IGV/output/bowtie2_run\n"
     ]
    }
   ],
   "source": [
    "# Change into new directory\n",
    "%cd bowtie2_run/"
   ]
  },
  {
   "cell_type": "code",
   "execution_count": 25,
   "metadata": {},
   "outputs": [
    {
     "name": "stdout",
     "output_type": "stream",
     "text": [
      "Settings:\n",
      "  Output files: \"cbai_genomev1.01.*.bt2\"\n",
      "  Line rate: 6 (line is 64 bytes)\n",
      "  Lines per side: 1 (side is 64 bytes)\n",
      "  Offset rate: 4 (one in 16)\n",
      "  FTable chars: 10\n",
      "  Strings: unpacked\n",
      "  Max bucket size: default\n",
      "  Max bucket size, sqrt multiplier: default\n",
      "  Max bucket size, len divisor: 4\n",
      "  Difference-cover sample period: 1024\n",
      "  Endianness: little\n",
      "  Actual local endianness: little\n",
      "  Sanity checking: disabled\n",
      "  Assertions: disabled\n",
      "  Random seed: 0\n",
      "  Sizeofs: void*:8, int:4, long:8, size_t:8\n",
      "Input files DNA, FASTA:\n",
      "  ../../data/cbai_genome_v1.01.fasta\n",
      "Building a SMALL index\n",
      "Reading reference sizes\n",
      "  Time reading reference sizes: 00:00:00\n",
      "Calculating joined length\n",
      "Writing header\n",
      "Reserving space for joined string\n",
      "Joining reference sequences\n",
      "  Time to join reference sequences: 00:00:01\n",
      "bmax according to bmaxDivN setting: 4662076\n",
      "Using parameters --bmax 3496557 --dcv 1024\n",
      "  Doing ahead-of-time memory usage test\n",
      "  Passed!  Constructing with these parameters: --bmax 3496557 --dcv 1024\n",
      "Constructing suffix-array element generator\n",
      "Building DifferenceCoverSample\n",
      "  Building sPrime\n",
      "  Building sPrimeOrder\n",
      "  V-Sorting samples\n",
      "  V-Sorting samples time: 00:00:00\n",
      "  Allocating rank array\n",
      "  Ranking v-sort output\n",
      "  Ranking v-sort output time: 00:00:00\n",
      "  Invoking Larsson-Sadakane on ranks\n",
      "  Invoking Larsson-Sadakane on ranks time: 00:00:00\n",
      "  Sanity-checking and returning\n",
      "Building samples\n",
      "Reserving space for 12 sample suffixes\n",
      "Generating random suffixes\n",
      "QSorting 12 sample offsets, eliminating duplicates\n",
      "QSorting sample offsets, eliminating duplicates time: 00:00:00\n",
      "Multikey QSorting 12 samples\n",
      "  (Using difference cover)\n",
      "  Multikey QSorting samples time: 00:00:00\n",
      "Calculating bucket sizes\n",
      "Splitting and merging\n",
      "  Splitting and merging time: 00:00:00\n",
      "Avg bucket size: 1.86483e+07 (target: 3496556)\n",
      "Converting suffix-array elements to index image\n",
      "Allocating ftab, absorbFtab\n",
      "Entering Ebwt loop\n",
      "Getting block 1 of 1\n",
      "  No samples; assembling all-inclusive block\n",
      "  Sorting block of length 18648307 for bucket 1\n",
      "  (Using difference cover)\n",
      "  Sorting block time: 00:00:05\n",
      "Returning block of 18648308 for bucket 1\n",
      "Exited Ebwt loop\n",
      "fchr[A]: 0\n",
      "fchr[C]: 5316607\n",
      "fchr[G]: 9336500\n",
      "fchr[T]: 13354147\n",
      "fchr[$]: 18648307\n",
      "Exiting Ebwt::buildToDisk()\n",
      "Returning from initFromVector\n",
      "Wrote 10478431 bytes to primary EBWT file: cbai_genomev1.01.1.bt2\n",
      "Wrote 4662084 bytes to secondary EBWT file: cbai_genomev1.01.2.bt2\n",
      "Re-opening _in1 and _in2 as input streams\n",
      "Returning from Ebwt constructor\n",
      "Headers:\n",
      "    len: 18648307\n",
      "    bwtLen: 18648308\n",
      "    sz: 4662077\n",
      "    bwtSz: 4662077\n",
      "    lineRate: 6\n",
      "    offRate: 4\n",
      "    offMask: 0xfffffff0\n",
      "    ftabChars: 10\n",
      "    eftabLen: 20\n",
      "    eftabSz: 80\n",
      "    ftabLen: 1048577\n",
      "    ftabSz: 4194308\n",
      "    offsLen: 1165520\n",
      "    offsSz: 4662080\n",
      "    lineSz: 64\n",
      "    sideSz: 64\n",
      "    sideBwtSz: 48\n",
      "    sideBwtLen: 192\n",
      "    numSides: 97127\n",
      "    numLines: 97127\n",
      "    ebwtTotLen: 6216128\n",
      "    ebwtTotSz: 6216128\n",
      "    color: 0\n",
      "    reverse: 0\n",
      "Total time for call to driver() for forward index: 00:00:09\n",
      "Reading reference sizes\n",
      "  Time reading reference sizes: 00:00:01\n",
      "Calculating joined length\n",
      "Writing header\n",
      "Reserving space for joined string\n",
      "Joining reference sequences\n",
      "  Time to join reference sequences: 00:00:00\n",
      "  Time to reverse reference sequence: 00:00:00\n",
      "bmax according to bmaxDivN setting: 4662076\n",
      "Using parameters --bmax 3496557 --dcv 1024\n",
      "  Doing ahead-of-time memory usage test\n",
      "  Passed!  Constructing with these parameters: --bmax 3496557 --dcv 1024\n",
      "Constructing suffix-array element generator\n",
      "Building DifferenceCoverSample\n",
      "  Building sPrime\n",
      "  Building sPrimeOrder\n",
      "  V-Sorting samples\n",
      "  V-Sorting samples time: 00:00:00\n",
      "  Allocating rank array\n",
      "  Ranking v-sort output\n",
      "  Ranking v-sort output time: 00:00:00\n",
      "  Invoking Larsson-Sadakane on ranks\n",
      "  Invoking Larsson-Sadakane on ranks time: 00:00:00\n",
      "  Sanity-checking and returning\n",
      "Building samples\n",
      "Reserving space for 12 sample suffixes\n",
      "Generating random suffixes\n",
      "QSorting 12 sample offsets, eliminating duplicates\n",
      "QSorting sample offsets, eliminating duplicates time: 00:00:00\n",
      "Multikey QSorting 12 samples\n",
      "  (Using difference cover)\n",
      "  Multikey QSorting samples time: 00:00:00\n",
      "Calculating bucket sizes\n",
      "Splitting and merging\n",
      "  Splitting and merging time: 00:00:00\n",
      "Avg bucket size: 1.86483e+07 (target: 3496556)\n",
      "Converting suffix-array elements to index image\n",
      "Allocating ftab, absorbFtab\n",
      "Entering Ebwt loop\n",
      "Getting block 1 of 1\n",
      "  No samples; assembling all-inclusive block\n",
      "  Sorting block of length 18648307 for bucket 1\n",
      "  (Using difference cover)\n",
      "  Sorting block time: 00:00:05\n",
      "Returning block of 18648308 for bucket 1\n",
      "Exited Ebwt loop\n",
      "fchr[A]: 0\n",
      "fchr[C]: 5316607\n",
      "fchr[G]: 9336500\n",
      "fchr[T]: 13354147\n",
      "fchr[$]: 18648307\n",
      "Exiting Ebwt::buildToDisk()\n",
      "Returning from initFromVector\n",
      "Wrote 10478431 bytes to primary EBWT file: cbai_genomev1.01.rev.1.bt2\n",
      "Wrote 4662084 bytes to secondary EBWT file: cbai_genomev1.01.rev.2.bt2\n",
      "Re-opening _in1 and _in2 as input streams\n",
      "Returning from Ebwt constructor\n",
      "Headers:\n",
      "    len: 18648307\n",
      "    bwtLen: 18648308\n",
      "    sz: 4662077\n",
      "    bwtSz: 4662077\n",
      "    lineRate: 6\n",
      "    offRate: 4\n",
      "    offMask: 0xfffffff0\n",
      "    ftabChars: 10\n",
      "    eftabLen: 20\n",
      "    eftabSz: 80\n",
      "    ftabLen: 1048577\n",
      "    ftabSz: 4194308\n",
      "    offsLen: 1165520\n",
      "    offsSz: 4662080\n",
      "    lineSz: 64\n",
      "    sideSz: 64\n",
      "    sideBwtSz: 48\n",
      "    sideBwtLen: 192\n",
      "    numSides: 97127\n",
      "    numLines: 97127\n",
      "    ebwtTotLen: 6216128\n",
      "    ebwtTotSz: 6216128\n",
      "    color: 0\n",
      "    reverse: 1\n",
      "Total time for backward call to driver() for mirror index: 00:00:09\n"
     ]
    }
   ],
   "source": [
    "# Create index for our genome, using absolute path to access tools\n",
    "!/mnt/c/Users/acoyl/Documents/GradSchool/RobertsLab/Tools/bowtie2/bowtie2-2.4.2-linux-x86_64/bowtie2-build \\\n",
    "../../data/cbai_genome_v1.01.fasta cbai_genomev1.01"
   ]
  },
  {
   "cell_type": "code",
   "execution_count": 27,
   "metadata": {},
   "outputs": [
    {
     "name": "stdout",
     "output_type": "stream",
     "text": [
      "26062951 reads; of these:\n",
      "  26062951 (100.00%) were paired; of these:\n",
      "    23665015 (90.80%) aligned concordantly 0 times\n",
      "    1040257 (3.99%) aligned concordantly exactly 1 time\n",
      "    1357679 (5.21%) aligned concordantly >1 times\n",
      "    ----\n",
      "    23665015 pairs aligned concordantly 0 times; of these:\n",
      "      5040 (0.02%) aligned discordantly 1 time\n",
      "    ----\n",
      "    23659975 pairs aligned 0 times concordantly or discordantly; of these:\n",
      "      47319950 mates make up the pairs; of these:\n",
      "        47207153 (99.76%) aligned 0 times\n",
      "        49214 (0.10%) aligned exactly 1 time\n",
      "        63583 (0.13%) aligned >1 times\n",
      "9.44% overall alignment rate\n"
     ]
    }
   ],
   "source": [
    "# Align paired-end reads to reference genome\n",
    "!/mnt/c/Users/acoyl/Documents/GradSchool/RobertsLab/Tools/bowtie2/bowtie2-2.4.2-linux-x86_64/bowtie2 \\\n",
    "-x cbai_genomev1.01 \\\n",
    "-1 ../../data/72_R1_001.fastp-trim.202003181709.fq.gz \\\n",
    "-2 ../../data/72_R2_001.fastp-trim.202003181709.fq.gz \\\n",
    "-S lib72_alignment.sam"
   ]
  },
  {
   "cell_type": "code",
   "execution_count": 31,
   "metadata": {},
   "outputs": [
    {
     "name": "stdout",
     "output_type": "stream",
     "text": [
      "^C\n"
     ]
    }
   ],
   "source": [
    "# Cancelled command - used IGV to sort\n",
    "!samtools sort -O sam -T sample.sort -o lib72.sort.sam lib72_alignment.sam"
   ]
  }
 ],
 "metadata": {
  "kernelspec": {
   "display_name": "Python 3",
   "language": "python",
   "name": "python3"
  },
  "language_info": {
   "codemirror_mode": {
    "name": "ipython",
    "version": 3
   },
   "file_extension": ".py",
   "mimetype": "text/x-python",
   "name": "python",
   "nbconvert_exporter": "python",
   "pygments_lexer": "ipython3",
   "version": "3.8.3"
  }
 },
 "nbformat": 4,
 "nbformat_minor": 4
}
