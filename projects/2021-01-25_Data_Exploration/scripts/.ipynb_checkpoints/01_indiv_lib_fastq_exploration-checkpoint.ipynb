{
 "cells": [
  {
   "cell_type": "markdown",
   "metadata": {},
   "source": [
    "Aidan Coyle, afcoyle@uw.edu\n",
    "FISH 546, Bioinformatics\n",
    "2021-01-26"
   ]
  },
  {
   "cell_type": "markdown",
   "metadata": {},
   "source": [
    "## Exploratory Analysis of Individual Hematodinium/C. bairdi Libraries"
   ]
  },
  {
   "cell_type": "markdown",
   "metadata": {},
   "source": [
    "Due to the large size of these libraries, I won't be looking at all. Instead, I'll be examining one or two as a starting point, \n",
    "beginning with Library 72 - the first numerically (note: numeric order does not match order in Nightingales spreadsheet due to lack of zeros as prefixes). \n",
    "Library 72 has 2 reads. I'll start by looking at Read 1, then switch to Read 2. \n",
    "\n",
    "Library 72 originates from a Hematodinium-infected crab that was sampled on Day 0 of the experiment that was kept in the elevated-temperature treatment group\n",
    "Experiment was ran by Grace Crandall on Chionoecetes bairdi. For more details, examine my lab notebook."
   ]
  },
  {
   "cell_type": "code",
   "execution_count": 4,
   "metadata": {},
   "outputs": [
    {
     "data": {
      "text/plain": [
       "'/mnt/c/Users/acoyl/Documents/GitHub/fish546/projects/2021-01-25_Data_Exploration/scripts'"
      ]
     },
     "execution_count": 4,
     "metadata": {},
     "output_type": "execute_result"
    }
   ],
   "source": [
    "pwd"
   ]
  },
  {
   "cell_type": "code",
   "execution_count": 3,
   "metadata": {},
   "outputs": [
    {
     "name": "stdout",
     "output_type": "stream",
     "text": [
      "  % Total    % Received % Xferd  Average Speed   Time    Time     Time  Current\n",
      "                                 Dload  Upload   Total   Spent    Left  Speed\n",
      "100 1719M  100 1719M    0     0  10.6M      0  0:02:42  0:02:42 --:--:-- 10.6M\n"
     ]
    }
   ],
   "source": [
    "# Get Read 1 for Library 72\n",
    "!curl http://owl.fish.washington.edu/nightingales/C_bairdi/72_R1_001.fastq.gz > lib72_read1.fastq.gz"
   ]
  },
  {
   "cell_type": "code",
   "execution_count": 5,
   "metadata": {},
   "outputs": [
    {
     "name": "stdout",
     "output_type": "stream",
     "text": [
      "\u001b[0m\u001b[01;32m01_indiv_lib_fastq_exploration.ipynb\u001b[0m*  \u001b[01;32mlib72_read1.fastq.gz\u001b[0m*\n"
     ]
    }
   ],
   "source": [
    "!ls"
   ]
  },
  {
   "cell_type": "code",
   "execution_count": 15,
   "metadata": {},
   "outputs": [],
   "source": [
    "# Accidentally downloaded to scripts directory, let's fix\n",
    "!mv lib72_read1.fastq.gz ../data/indiv_fastq/lib72_read1.fastq.gz"
   ]
  },
  {
   "cell_type": "code",
   "execution_count": 17,
   "metadata": {},
   "outputs": [
    {
     "name": "stdout",
     "output_type": "stream",
     "text": [
      "lib72_read1.fastq.gz\n"
     ]
    }
   ],
   "source": [
    "# Ensure that data is present\n",
    "!ls ../data/indiv_fastq"
   ]
  },
  {
   "cell_type": "code",
   "execution_count": 24,
   "metadata": {},
   "outputs": [
    {
     "name": "stdout",
     "output_type": "stream",
     "text": [
      "  % Total    % Received % Xferd  Average Speed   Time    Time     Time  Current\n",
      "                                 Dload  Upload   Total   Spent    Left  Speed\n",
      "100  2684  100  2684    0     0  30157      0 --:--:-- --:--:-- --:--:-- 29822\n"
     ]
    }
   ],
   "source": [
    "# Download checksums file\n",
    "!curl http://owl.fish.washington.edu/nightingales/C_bairdi/md5sum_list.txt > ../data/checksums/md5_indivlibs_checksums.txt"
   ]
  },
  {
   "cell_type": "code",
   "execution_count": 30,
   "metadata": {},
   "outputs": [],
   "source": [
    "# Get md5 checksum for existing file\n",
    "!md5sum ../data/indiv_fastq/lib72_read1.fastq.gz | awk '{print $1}' > ../data/checksums/tmp_checksum"
   ]
  },
  {
   "cell_type": "code",
   "execution_count": 33,
   "metadata": {},
   "outputs": [
    {
     "name": "stdout",
     "output_type": "stream",
     "text": [
      "88227c353e113898a976a71736d1d6ef  ./72_R1_001.fastq.gz\n"
     ]
    }
   ],
   "source": [
    "# See if our file's checksum matches \n",
    "!grep -f ../data/checksums/tmp_checksum ../data/checksums/md5_indivlibs_checksums.txt"
   ]
  },
  {
   "cell_type": "code",
   "execution_count": 46,
   "metadata": {},
   "outputs": [],
   "source": [
    "rm ../data/checksums/tmp_checksum"
   ]
  },
  {
   "cell_type": "code",
   "execution_count": 39,
   "metadata": {},
   "outputs": [],
   "source": [
    "# Unzip .fastq.gz file\n",
    "!gunzip -c ../data/indiv_fastq/lib72_read1.fastq.gz > ../data/indiv_fastq/lib72_read1.fastq"
   ]
  },
  {
   "cell_type": "code",
   "execution_count": 44,
   "metadata": {},
   "outputs": [
    {
     "name": "stdout",
     "output_type": "stream",
     "text": [
      "@NGSNJ-086:277:GW200313501st:1:1101:1307:1000 1:N:0:ACTCGCTA+TCGACTAG\n",
      "AATGTGTACAGTGTAGTGTGAACCACAGTGCTGTGCATGGAAGTGAGGAACCTGAATATCATAGAAAAAAAAAAAAAAAAAAAAAAAAAAAAAGTACTCTGCGTTGATACCTGTCTCTTATACAAAACTCCGAGCCCACGAGACCCTCGC\n",
      "+\n",
      "F,FFFFFFFFFFFFFFFFFFFFFFFFFFFFFFFFFF:FFFFFFFFFFFF:FFFFFFFFFFFFFFFFFFFFFFFFFFF:F:FFF:FFFFFFFFF,:F:,,:FFFFFF,,:F:,:,::FF:,FFF,,F,F,FF:F,FFF:F,F,,F,F,F:,\n",
      "@NGSNJ-086:277:GW200313501st:1:1101:5719:1000 1:N:0:ACTCGCTA+TCGACTAG\n",
      "ACCATGAGTTTGAGCCTTGGACCTGCGCACTCAGTCCTCTGGTGGCTTGCTCGTTTTATGCACGTCAGAAGTACTGGTTTTTTCTGCATTCTCCTTGGTGGACGAGTAGAGACCAGGCTTATTGTTGCAAATCCTCTCCGTGGACAGGTT\n",
      "+\n",
      "FFFFFFFFFFFFFFFFFFFFFFFFFFFFFFFFFFFFFFFFFFFFFFFFFFFFFFFFFFFFFFFFFFFFF,FFFFFFFFFFFFFFFFFFFFFFFFFFFFFFFFFFFFFF:FFFFFFFFF,FFFFFFFFFFFFFFFFFFFFFFFFFFFF:FF\n",
      "@NGSNJ-086:277:GW200313501st:1:1101:9968:1000 1:N:0:ACTCGCTA+TCGACTAG\n",
      "CCTTTGTTTTTATTGTATTCTCTTACTGTCTTCTTTATAGGGACTGTCTCTTATACACATCTCCGAGCCCACGAGACACTCGCTAATCTAGTATTCAGTCTTCTGCTTGAAAAATGTGGGGGTGGGGGGGGGGGGGGGGGGGGGGGGGGG\n",
      "+\n",
      "FFFFFFFFFF:FF:FF:F,FFFF,F:F,F,FF:F,FFFF,,:FFFFFFFFFFFFFFFFF,FF:FFFFFF:F,:FFFFFF,F:,F,FFF:,F:FF,F,,FF,F,:,:,,:,,,,,,,F,,:,F,:,:FFF,F:FF:FF,F,F:,F,,F,FF\n",
      "@NGSNJ-086:277:GW200313501st:1:1101:15953:1000 1:N:0:ACTCGCTA+TCGACTAG\n",
      "GAGTAGGTGTGGGTGTGAGTGTGAGTGGGTGTGGGTGTGATTAGGTGTGGGTGTGGGTGTGAGTGTGAGTGGGTGTGGGTGTGAGTAGGTGTGGGTGTGGGTGTGAGTGTGAGTGGGTGTGGGTGTGAGTCTGTCTCTTATACACATCTC\n",
      "+\n",
      "FFF:FFFFFFFFFFFFFFFFFFFFFFFFFFF:FFF:FFFFFF:FF:FFFFFFFFFFFFFFFFFFFFFFFFFFFFFFFFFFFFFFF:FFFFFFFFFFFFFFFFFFFFFFFFFFFFFFFFFFFFFFFFFFFFFFFFFFFFFFFFFFFFFFFF\n",
      "@NGSNJ-086:277:GW200313501st:1:1101:16297:1000 1:N:0:ACTCGCTA+TCGACTAG\n",
      "ATCCTGGTGATGATGGTGATGGTGGTGACGGCTGCGCCCTATGATGCGCCGGACTGCCCCAGAGCCTGCTATGCCCTGTATGCCCTGTCTCTTATACACATCTCCGAGCCCACGAGACACTCGCTAATCTCGTATGCCGTCTTCTGCTTG\n",
      "+\n",
      "FFFFFFFFFFFFFFFFFFFFFFFFF:FFFFFFFFFFFFFFFFFFFF:FFFFFFFFFFFFFFFFFFFFFFFFFFFFFFFFFFFFFFFFFFFFFFFFFFFFFFF:FFFFFFFFFFFFFFFFFFFFFFFFFFFFFFFFFFFFFFFFFFFFFFF\n"
     ]
    }
   ],
   "source": [
    "!head -20 ../data/indiv_fastq/lib72_read1.fastq"
   ]
  },
  {
   "cell_type": "code",
   "execution_count": 45,
   "metadata": {},
   "outputs": [
    {
     "name": "stdout",
     "output_type": "stream",
     "text": [
      "27249335\n"
     ]
    }
   ],
   "source": [
    "# count number of sequences\n",
    "!bioawk -cfastx 'END{print NR}' ../data/indiv_fastq/lib72_read1.fastq"
   ]
  },
  {
   "cell_type": "code",
   "execution_count": 61,
   "metadata": {},
   "outputs": [
    {
     "name": "stdout",
     "output_type": "stream",
     "text": [
      "total 12G\n",
      "9.6G lib72_read1.fastq\t1.7G lib72_read1.fastq.gz\n"
     ]
    }
   ],
   "source": [
    "# see size of files\n",
    "!ls -sh ../data/indiv_fastq/"
   ]
  },
  {
   "cell_type": "code",
   "execution_count": 63,
   "metadata": {},
   "outputs": [
    {
     "name": "stdout",
     "output_type": "stream",
     "text": [
      "../data/indiv_fastq/lib72_read1.fastq.gz: gzip compressed data, original size modulo 2^32 63128\n"
     ]
    }
   ],
   "source": [
    "# get format of .gz file\n",
    "!file ../data/indiv_fastq/lib72_read1.fastq.gz"
   ]
  },
  {
   "cell_type": "code",
   "execution_count": 62,
   "metadata": {},
   "outputs": [
    {
     "name": "stdout",
     "output_type": "stream",
     "text": [
      "../data/indiv_fastq/lib72_read1.fastq: ASCII text\n"
     ]
    }
   ],
   "source": [
    "# get format of .fastq file\n",
    "!file ../data/indiv_fastq/lib72_read1.fastq"
   ]
  },
  {
   "cell_type": "code",
   "execution_count": 52,
   "metadata": {},
   "outputs": [
    {
     "name": "stdout",
     "output_type": "stream",
     "text": [
      "  % Total    % Received % Xferd  Average Speed   Time    Time     Time  Current\n",
      "                                 Dload  Upload   Total   Spent    Left  Speed\n",
      "100  9.7M  100  9.7M    0     0  2679k      0  0:00:03  0:00:03 --:--:-- 2678k\n"
     ]
    }
   ],
   "source": [
    "# download FastQC\n",
    "!curl https://www.bioinformatics.babraham.ac.uk/projects/fastqc/fastqc_v0.11.9.zip > ../programs/fastqc_v0.11.9.zip"
   ]
  },
  {
   "cell_type": "code",
   "execution_count": 60,
   "metadata": {},
   "outputs": [],
   "source": [
    "# unzip FastQC file\n",
    "!unzip -q ../programs/fastqc_v0.11.9.zip -d ../programs/FastQC"
   ]
  },
  {
   "cell_type": "code",
   "execution_count": 69,
   "metadata": {},
   "outputs": [],
   "source": [
    "# give FastQC executable permissions\n",
    "!chmod 755 ../programs/FastQC"
   ]
  },
  {
   "cell_type": "code",
   "execution_count": null,
   "metadata": {},
   "outputs": [],
   "source": [
    "# add symbolic link. Since requires interactivity, done in terminal and copied into Jupyter\n",
    "!sudo ln -s ../programs/FastQC"
   ]
  },
  {
   "cell_type": "code",
   "execution_count": 79,
   "metadata": {},
   "outputs": [
    {
     "name": "stdout",
     "output_type": "stream",
     "text": [
      "/mnt/c/Users/acoyl/Documents/GitHub/fish546/projects/2021-01-25_Data_Exploration/programs/FastQC\n"
     ]
    }
   ],
   "source": [
    "!cd ../programs/FastQC"
   ]
  },
  {
   "cell_type": "code",
   "execution_count": 91,
   "metadata": {},
   "outputs": [
    {
     "name": "stdout",
     "output_type": "stream",
     "text": [
      "Started analysis of lib72_read1.fastq\n",
      "Approx 5% complete for lib72_read1.fastq\n",
      "Approx 10% complete for lib72_read1.fastq\n",
      "Approx 15% complete for lib72_read1.fastq\n",
      "Approx 20% complete for lib72_read1.fastq\n",
      "Approx 25% complete for lib72_read1.fastq\n",
      "Approx 30% complete for lib72_read1.fastq\n",
      "Approx 35% complete for lib72_read1.fastq\n",
      "Approx 40% complete for lib72_read1.fastq\n",
      "Approx 45% complete for lib72_read1.fastq\n",
      "Approx 50% complete for lib72_read1.fastq\n",
      "Approx 55% complete for lib72_read1.fastq\n",
      "Approx 60% complete for lib72_read1.fastq\n",
      "Approx 65% complete for lib72_read1.fastq\n",
      "Approx 70% complete for lib72_read1.fastq\n",
      "Approx 75% complete for lib72_read1.fastq\n",
      "Approx 80% complete for lib72_read1.fastq\n",
      "Approx 85% complete for lib72_read1.fastq\n",
      "Approx 90% complete for lib72_read1.fastq\n",
      "Approx 95% complete for lib72_read1.fastq\n",
      "Analysis complete for lib72_read1.fastq\n"
     ]
    }
   ],
   "source": [
    "# run FastQC on our file\n",
    "!./fastqc ../../data/indiv_fastq/lib72_read1.fastq"
   ]
  },
  {
   "cell_type": "code",
   "execution_count": 118,
   "metadata": {},
   "outputs": [
    {
     "name": "stdout",
     "output_type": "stream",
     "text": [
      "lib72_read1.fastq     lib72_read1_fastqc.html\n",
      "lib72_read1.fastq.gz  lib72_read1_fastqc.zip\n"
     ]
    }
   ],
   "source": [
    "!ls ../../data/indiv_fastq"
   ]
  },
  {
   "cell_type": "markdown",
   "metadata": {},
   "source": [
    "When opening lib72_read1_fastqc.html in a browser, it sure looks like my FastQC ran correctly! Fantastic!"
   ]
  }
 ],
 "metadata": {
  "kernelspec": {
   "display_name": "Python 3",
   "language": "python",
   "name": "python3"
  },
  "language_info": {
   "codemirror_mode": {
    "name": "ipython",
    "version": 3
   },
   "file_extension": ".py",
   "mimetype": "text/x-python",
   "name": "python",
   "nbconvert_exporter": "python",
   "pygments_lexer": "ipython3",
   "version": "3.8.3"
  }
 },
 "nbformat": 4,
 "nbformat_minor": 4
}
